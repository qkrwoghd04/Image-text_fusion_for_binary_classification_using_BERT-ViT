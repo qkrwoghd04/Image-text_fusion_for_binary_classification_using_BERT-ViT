{
  "nbformat": 4,
  "nbformat_minor": 0,
  "metadata": {
    "colab": {
      "provenance": [],
      "machine_shape": "hm",
      "gpuType": "T4",
      "mount_file_id": "1fuX4QfoIRTbp3tdgQbrr8ZCw-wSFGmnZ",
      "authorship_tag": "ABX9TyPsixBQWwQZeJ9cY2zKdilX",
      "include_colab_link": true
    },
    "kernelspec": {
      "name": "python3",
      "display_name": "Python 3"
    },
    "language_info": {
      "name": "python"
    },
    "accelerator": "GPU"
  },
  "cells": [
    {
      "cell_type": "markdown",
      "metadata": {
        "id": "view-in-github",
        "colab_type": "text"
      },
      "source": [
        "<a href=\"https://colab.research.google.com/github/qkrwoghd04/Image-text_fusion_for_binary_classification_using_BERT-ViT/blob/master/practice/vit_classification_using_pytorch.ipynb\" target=\"_parent\"><img src=\"https://colab.research.google.com/assets/colab-badge.svg\" alt=\"Open In Colab\"/></a>"
      ]
    },
    {
      "cell_type": "code",
      "execution_count": 1,
      "metadata": {
        "colab": {
          "base_uri": "https://localhost:8080/"
        },
        "id": "m3yO_dRg4Ysu",
        "outputId": "b5a711cf-5fac-4feb-c588-abadc5b3b13d"
      },
      "outputs": [
        {
          "output_type": "stream",
          "name": "stdout",
          "text": [
            "Requirement already satisfied: torch in /usr/local/lib/python3.10/dist-packages (2.2.1+cu121)\n",
            "Requirement already satisfied: filelock in /usr/local/lib/python3.10/dist-packages (from torch) (3.14.0)\n",
            "Requirement already satisfied: typing-extensions>=4.8.0 in /usr/local/lib/python3.10/dist-packages (from torch) (4.11.0)\n",
            "Requirement already satisfied: sympy in /usr/local/lib/python3.10/dist-packages (from torch) (1.12)\n",
            "Requirement already satisfied: networkx in /usr/local/lib/python3.10/dist-packages (from torch) (3.3)\n",
            "Requirement already satisfied: jinja2 in /usr/local/lib/python3.10/dist-packages (from torch) (3.1.3)\n",
            "Requirement already satisfied: fsspec in /usr/local/lib/python3.10/dist-packages (from torch) (2023.6.0)\n",
            "Collecting nvidia-cuda-nvrtc-cu12==12.1.105 (from torch)\n",
            "  Using cached nvidia_cuda_nvrtc_cu12-12.1.105-py3-none-manylinux1_x86_64.whl (23.7 MB)\n",
            "Collecting nvidia-cuda-runtime-cu12==12.1.105 (from torch)\n",
            "  Using cached nvidia_cuda_runtime_cu12-12.1.105-py3-none-manylinux1_x86_64.whl (823 kB)\n",
            "Collecting nvidia-cuda-cupti-cu12==12.1.105 (from torch)\n",
            "  Using cached nvidia_cuda_cupti_cu12-12.1.105-py3-none-manylinux1_x86_64.whl (14.1 MB)\n",
            "Collecting nvidia-cudnn-cu12==8.9.2.26 (from torch)\n",
            "  Using cached nvidia_cudnn_cu12-8.9.2.26-py3-none-manylinux1_x86_64.whl (731.7 MB)\n",
            "Collecting nvidia-cublas-cu12==12.1.3.1 (from torch)\n",
            "  Using cached nvidia_cublas_cu12-12.1.3.1-py3-none-manylinux1_x86_64.whl (410.6 MB)\n",
            "Collecting nvidia-cufft-cu12==11.0.2.54 (from torch)\n",
            "  Using cached nvidia_cufft_cu12-11.0.2.54-py3-none-manylinux1_x86_64.whl (121.6 MB)\n",
            "Collecting nvidia-curand-cu12==10.3.2.106 (from torch)\n",
            "  Using cached nvidia_curand_cu12-10.3.2.106-py3-none-manylinux1_x86_64.whl (56.5 MB)\n",
            "Collecting nvidia-cusolver-cu12==11.4.5.107 (from torch)\n",
            "  Using cached nvidia_cusolver_cu12-11.4.5.107-py3-none-manylinux1_x86_64.whl (124.2 MB)\n",
            "Collecting nvidia-cusparse-cu12==12.1.0.106 (from torch)\n",
            "  Using cached nvidia_cusparse_cu12-12.1.0.106-py3-none-manylinux1_x86_64.whl (196.0 MB)\n",
            "Collecting nvidia-nccl-cu12==2.19.3 (from torch)\n",
            "  Using cached nvidia_nccl_cu12-2.19.3-py3-none-manylinux1_x86_64.whl (166.0 MB)\n",
            "Collecting nvidia-nvtx-cu12==12.1.105 (from torch)\n",
            "  Using cached nvidia_nvtx_cu12-12.1.105-py3-none-manylinux1_x86_64.whl (99 kB)\n",
            "Requirement already satisfied: triton==2.2.0 in /usr/local/lib/python3.10/dist-packages (from torch) (2.2.0)\n",
            "Collecting nvidia-nvjitlink-cu12 (from nvidia-cusolver-cu12==11.4.5.107->torch)\n",
            "  Using cached nvidia_nvjitlink_cu12-12.4.127-py3-none-manylinux2014_x86_64.whl (21.1 MB)\n",
            "Requirement already satisfied: MarkupSafe>=2.0 in /usr/local/lib/python3.10/dist-packages (from jinja2->torch) (2.1.5)\n",
            "Requirement already satisfied: mpmath>=0.19 in /usr/local/lib/python3.10/dist-packages (from sympy->torch) (1.3.0)\n",
            "Installing collected packages: nvidia-nvtx-cu12, nvidia-nvjitlink-cu12, nvidia-nccl-cu12, nvidia-curand-cu12, nvidia-cufft-cu12, nvidia-cuda-runtime-cu12, nvidia-cuda-nvrtc-cu12, nvidia-cuda-cupti-cu12, nvidia-cublas-cu12, nvidia-cusparse-cu12, nvidia-cudnn-cu12, nvidia-cusolver-cu12\n",
            "Successfully installed nvidia-cublas-cu12-12.1.3.1 nvidia-cuda-cupti-cu12-12.1.105 nvidia-cuda-nvrtc-cu12-12.1.105 nvidia-cuda-runtime-cu12-12.1.105 nvidia-cudnn-cu12-8.9.2.26 nvidia-cufft-cu12-11.0.2.54 nvidia-curand-cu12-10.3.2.106 nvidia-cusolver-cu12-11.4.5.107 nvidia-cusparse-cu12-12.1.0.106 nvidia-nccl-cu12-2.19.3 nvidia-nvjitlink-cu12-12.4.127 nvidia-nvtx-cu12-12.1.105\n",
            "Collecting torchinfo\n",
            "  Downloading torchinfo-1.8.0-py3-none-any.whl (23 kB)\n",
            "Installing collected packages: torchinfo\n",
            "Successfully installed torchinfo-1.8.0\n",
            "Collecting ray\n",
            "  Downloading ray-2.20.0-cp310-cp310-manylinux2014_x86_64.whl (65.4 MB)\n",
            "\u001b[2K     \u001b[90m━━━━━━━━━━━━━━━━━━━━━━━━━━━━━━━━━━━━━━━━\u001b[0m \u001b[32m65.4/65.4 MB\u001b[0m \u001b[31m25.0 MB/s\u001b[0m eta \u001b[36m0:00:00\u001b[0m\n",
            "\u001b[?25hRequirement already satisfied: click>=7.0 in /usr/local/lib/python3.10/dist-packages (from ray) (8.1.7)\n",
            "Requirement already satisfied: filelock in /usr/local/lib/python3.10/dist-packages (from ray) (3.14.0)\n",
            "Requirement already satisfied: jsonschema in /usr/local/lib/python3.10/dist-packages (from ray) (4.19.2)\n",
            "Requirement already satisfied: msgpack<2.0.0,>=1.0.0 in /usr/local/lib/python3.10/dist-packages (from ray) (1.0.8)\n",
            "Requirement already satisfied: packaging in /usr/local/lib/python3.10/dist-packages (from ray) (24.0)\n",
            "Requirement already satisfied: protobuf!=3.19.5,>=3.15.3 in /usr/local/lib/python3.10/dist-packages (from ray) (3.20.3)\n",
            "Requirement already satisfied: pyyaml in /usr/local/lib/python3.10/dist-packages (from ray) (6.0.1)\n",
            "Requirement already satisfied: aiosignal in /usr/local/lib/python3.10/dist-packages (from ray) (1.3.1)\n",
            "Requirement already satisfied: frozenlist in /usr/local/lib/python3.10/dist-packages (from ray) (1.4.1)\n",
            "Requirement already satisfied: requests in /usr/local/lib/python3.10/dist-packages (from ray) (2.31.0)\n",
            "Requirement already satisfied: attrs>=22.2.0 in /usr/local/lib/python3.10/dist-packages (from jsonschema->ray) (23.2.0)\n",
            "Requirement already satisfied: jsonschema-specifications>=2023.03.6 in /usr/local/lib/python3.10/dist-packages (from jsonschema->ray) (2023.12.1)\n",
            "Requirement already satisfied: referencing>=0.28.4 in /usr/local/lib/python3.10/dist-packages (from jsonschema->ray) (0.35.0)\n",
            "Requirement already satisfied: rpds-py>=0.7.1 in /usr/local/lib/python3.10/dist-packages (from jsonschema->ray) (0.18.0)\n",
            "Requirement already satisfied: charset-normalizer<4,>=2 in /usr/local/lib/python3.10/dist-packages (from requests->ray) (3.3.2)\n",
            "Requirement already satisfied: idna<4,>=2.5 in /usr/local/lib/python3.10/dist-packages (from requests->ray) (3.7)\n",
            "Requirement already satisfied: urllib3<3,>=1.21.1 in /usr/local/lib/python3.10/dist-packages (from requests->ray) (2.0.7)\n",
            "Requirement already satisfied: certifi>=2017.4.17 in /usr/local/lib/python3.10/dist-packages (from requests->ray) (2024.2.2)\n",
            "Installing collected packages: ray\n",
            "Successfully installed ray-2.20.0\n",
            "Collecting tensorboardx\n",
            "  Downloading tensorboardX-2.6.2.2-py2.py3-none-any.whl (101 kB)\n",
            "\u001b[2K     \u001b[90m━━━━━━━━━━━━━━━━━━━━━━━━━━━━━━━━━━━━━━━━\u001b[0m \u001b[32m101.7/101.7 kB\u001b[0m \u001b[31m3.2 MB/s\u001b[0m eta \u001b[36m0:00:00\u001b[0m\n",
            "\u001b[?25hRequirement already satisfied: numpy in /usr/local/lib/python3.10/dist-packages (from tensorboardx) (1.25.2)\n",
            "Requirement already satisfied: packaging in /usr/local/lib/python3.10/dist-packages (from tensorboardx) (24.0)\n",
            "Requirement already satisfied: protobuf>=3.20 in /usr/local/lib/python3.10/dist-packages (from tensorboardx) (3.20.3)\n",
            "Installing collected packages: tensorboardx\n",
            "Successfully installed tensorboardx-2.6.2.2\n"
          ]
        }
      ],
      "source": [
        "!pip install torch\n",
        "!pip install torchinfo\n",
        "!pip install ray\n",
        "!pip install -U tensorboardx"
      ]
    },
    {
      "cell_type": "code",
      "source": [
        "import os\n",
        "import sys\n",
        "import tempfile\n",
        "import pandas as pd\n",
        "from torch.utils.data import Dataset, DataLoader, random_split\n",
        "from torchvision.io import read_image\n",
        "# Image Classification\n",
        "import torch\n",
        "from torchvision.transforms import v2\n",
        "from torch import nn\n",
        "import torch.nn.functional as F\n",
        "from torchvision import datasets\n",
        "import argparse\n",
        "from tqdm.notebook import tqdm\n",
        "import matplotlib.pyplot as plt\n",
        "import numpy as np\n",
        "from torchinfo import summary\n",
        "from functools import partial\n",
        "import os\n",
        "from pathlib import Path\n",
        "import torchvision.transforms as transforms\n",
        "from ray import tune\n",
        "from ray import train\n",
        "from ray.train import Checkpoint, get_checkpoint\n",
        "from ray.tune.schedulers import ASHAScheduler\n",
        "from ray.tune.examples.mnist_pytorch import train_mnist\n",
        "from ray.tune import ResultGrid,CLIReporter\n",
        "import ray.cloudpickle as pickle"
      ],
      "metadata": {
        "id": "p5g2EH0o42Zt"
      },
      "execution_count": 2,
      "outputs": []
    },
    {
      "cell_type": "code",
      "source": [
        "# Training device:\n",
        "device = 'cuda'\n",
        "\n",
        "# hyperparameter\n",
        "learning_rate = 1e-4\n",
        "batch_size = 64\n",
        "epochs = 20\n",
        "# based on paper's \"attention is all you need\"\n",
        "BATCH_SIZE = 64\n",
        "PATCH_SIZE = 16\n",
        "IMAGE_WIDTH = 224\n",
        "IMAGE_HEIGHT = IMAGE_WIDTH\n",
        "IMAGE_CHANNELS = 3\n",
        "EMBEDDING_DIMS = IMAGE_CHANNELS * PATCH_SIZE**2 #(3 * 16 * 16) = 768\n",
        "NUM_OF_PATCHES = int((IMAGE_WIDTH * IMAGE_HEIGHT) / PATCH_SIZE**2) #((224*224)/"
      ],
      "metadata": {
        "id": "pyrOgmUf5cJl"
      },
      "execution_count": 3,
      "outputs": []
    },
    {
      "cell_type": "code",
      "source": [
        "class CustomImageDataset():\n",
        "  def __init__(self, csv_file, img_dir, transform=None, target_transform=None):\n",
        "        self.img_file = pd.read_csv(os.path.join(img_dir, csv_file))\n",
        "        self.img_dir = img_dir\n",
        "        self.transform = transform\n",
        "        self.target_transform = target_transform\n",
        "\n",
        "  def __len__(self):\n",
        "    return len(self.img_file)\n",
        "\n",
        "  def __getitem__(self, index):\n",
        "    # 레이블을 기반으로 서브폴더 경로 결정\n",
        "    label = self.img_file.iloc[index, 2]\n",
        "    subfolder = 'Sleep' if label == 'Sleep' else 'Fall'\n",
        "    img_path = os.path.join(self.img_dir, 'train', subfolder, self.img_file.iloc[index, 0])\n",
        "    if(label == \"Sleep\"):\n",
        "       label = 0\n",
        "    else: label = 1\n",
        "    image = read_image(img_path)\n",
        "    if self.transform:\n",
        "        image = self.transform(image)\n",
        "    if self.target_transform:\n",
        "        label = self.target_transform(label)\n",
        "\n",
        "    return image, label"
      ],
      "metadata": {
        "id": "vmpdiuzX4wed"
      },
      "execution_count": 4,
      "outputs": []
    },
    {
      "cell_type": "code",
      "source": [
        "def image_transform():\n",
        "\n",
        "  H, W = 224, 224\n",
        "  img = torch.randint(0, 256, size=(3, H, W), dtype=torch.uint8)\n",
        "\n",
        "  transforms = v2.Compose([\n",
        "      v2.RandomResizedCrop(size=(224, 224), antialias=True),\n",
        "      v2.RandomPhotometricDistort(p=1),\n",
        "      v2.RandomChannelPermutation() ,# 채널 무작위 변경\n",
        "      v2.RandomHorizontalFlip(p=0.2),\n",
        "      v2.ToDtype(torch.float32, scale=True),\n",
        "      v2.Normalize(mean=[0.485, 0.456, 0.406], std=[0.229, 0.224, 0.225]),\n",
        "  ])\n",
        "\n",
        "\n",
        "  return transforms\n",
        "\n",
        "\n",
        "def visualize_data(train_dataloader):\n",
        "    # 이미지와 정답(label)을 표시합니다.\n",
        "    train_features, train_labels = next(iter(train_dataloader))\n",
        "    print(f\"Feature batch shape: {train_features.size()}\")\n",
        "    print(f\"Labels batch shape: {train_labels.size()}\")\n",
        "    img = train_features[0].squeeze()\n",
        "    label = train_labels[0]\n",
        "\n",
        "    if img.dim() == 3 and img.size(0) == 3:\n",
        "        img = img.permute(1, 2, 0)\n",
        "\n",
        "    plt.imshow(img, cmap=\"gray\")\n",
        "    plt.show()\n",
        "    print(f\"Label: {label}\")"
      ],
      "metadata": {
        "id": "oxIvpPtO5Kzz"
      },
      "execution_count": 5,
      "outputs": []
    },
    {
      "cell_type": "code",
      "source": [
        "class PatchEmbeddingLayer(nn.Module):\n",
        "    def __init__(self, in_channels, patch_size, embedding_dim):\n",
        "        super().__init__()\n",
        "        self.patch_size = patch_size\n",
        "        self.embedding_dim = embedding_dim\n",
        "        self.in_channels = in_channels\n",
        "        self.conv_layer = nn.Conv2d(in_channels=in_channels,\n",
        "                                    out_channels=embedding_dim, kernel_size=patch_size, stride=patch_size)\n",
        "        self.flatten_layer = nn.Flatten(start_dim=1, end_dim=2)\n",
        "        self.class_token_embeddings = nn.Parameter(torch.randn(1, 1, embedding_dim), requires_grad=True)\n",
        "        self.position_embeddings = nn.Parameter(torch.randn(1, NUM_OF_PATCHES + 1, embedding_dim), requires_grad=True)\n",
        "\n",
        "    def forward(self, x):\n",
        "        batch_size = x.size(0)\n",
        "        class_token_embeddings = self.class_token_embeddings.repeat(batch_size, 1, 1)\n",
        "        x = self.conv_layer(x)\n",
        "        x = x.permute(0, 2, 3, 1)\n",
        "        x = self.flatten_layer(x)\n",
        "        x = torch.cat((class_token_embeddings, x), dim=1)\n",
        "        x = x + self.position_embeddings\n",
        "        return x"
      ],
      "metadata": {
        "id": "qLvo88045W1T"
      },
      "execution_count": 6,
      "outputs": []
    },
    {
      "cell_type": "code",
      "source": [
        "class MultiHeadSelfAttentionBlock(nn.Module):\n",
        "    def __init__(self, embedding_dims = 768, num_heads = 12, attn_dropout=0.0):\n",
        "        super().__init__()\n",
        "        self.embedding_dims = embedding_dims\n",
        "        self.num_head = num_heads\n",
        "        self.attn_dropout = attn_dropout\n",
        "        self.layernorm = nn.LayerNorm(normalized_shape = embedding_dims)\n",
        "        self.multiheadattention = nn.MultiheadAttention(num_heads = num_heads,\n",
        "                                                        embed_dim = embedding_dims,\n",
        "                                                        dropout = attn_dropout,\n",
        "                                                        batch_first = True,\n",
        "                                                        )\n",
        "    def forward(self, x):\n",
        "        x = self.layernorm(x)\n",
        "        output,_ = self.multiheadattention(query=x, key=x, value=x, need_weights=False)\n",
        "        return output"
      ],
      "metadata": {
        "id": "X-6jwasE5Zxh"
      },
      "execution_count": 7,
      "outputs": []
    },
    {
      "cell_type": "code",
      "source": [
        "class MachineLearningPerceptronBlock(nn.Module):\n",
        "    def __init__(self, embedding_dims, mlp_size, mlp_dropout):\n",
        "        super().__init__()\n",
        "        self.embedding_dims = embedding_dims\n",
        "        self.mlp_size = mlp_size\n",
        "        self.mlp_dropout = mlp_dropout\n",
        "\n",
        "        self.layernorm = nn.LayerNorm(normalized_shape = embedding_dims)\n",
        "        self.mlp = nn.Sequential(\n",
        "            nn.Linear(in_features = embedding_dims, out_features = mlp_size),\n",
        "            nn.GELU(),\n",
        "            nn.Dropout(p = mlp_dropout),\n",
        "            nn.Linear(in_features = mlp_size, out_features = embedding_dims),\n",
        "            nn.Dropout(p = mlp_dropout)\n",
        "        )\n",
        "    def forward(self,x):\n",
        "        return self.mlp(self.layernorm(x))"
      ],
      "metadata": {
        "id": "fmTZC8n-5iIn"
      },
      "execution_count": 8,
      "outputs": []
    },
    {
      "cell_type": "code",
      "source": [
        "class TransformerBlock(nn.Module):\n",
        "    def __init__(self, embedding_dims = 768,\n",
        "                 mlp_dropout=0.1,\n",
        "                 attn_dropout = 0.0,\n",
        "                 mlp_size = 3072,\n",
        "                 num_heads = 12,\n",
        "                 ):\n",
        "        super().__init__()\n",
        "\n",
        "        self.mas_block = MultiHeadSelfAttentionBlock(embedding_dims = embedding_dims, num_heads = num_heads, attn_dropout=attn_dropout,)\n",
        "\n",
        "        self.mlp_block = MachineLearningPerceptronBlock(embedding_dims=embedding_dims, mlp_size=mlp_size, mlp_dropout=mlp_dropout,)\n",
        "    def forward(self, x):\n",
        "        x = self.mas_block(x) + x\n",
        "        x = self.mlp_block(x) + x\n",
        "        return x"
      ],
      "metadata": {
        "id": "JAKcmSVx5kpg"
      },
      "execution_count": 9,
      "outputs": []
    },
    {
      "cell_type": "code",
      "source": [
        "class vit_model(nn.Module):\n",
        "    def __init__(self, img_size = 224, in_channels = 3, patch_size = 16, embedding_dims = 768, num_transformer_layers = 12, mlp_dropout = 0.1, attn_dropout = 0.0, mlp_size = 2048, num_heads = 8, num_classes = 2):\n",
        "        super().__init__()\n",
        "\n",
        "        self.patch_embedding_layer = PatchEmbeddingLayer(in_channels=in_channels, patch_size=patch_size, embedding_dim=embedding_dims)\n",
        "\n",
        "        self.transformer_encoder = nn.Sequential(*[TransformerBlock(embedding_dims = embedding_dims, mlp_dropout=mlp_dropout, attn_dropout=attn_dropout, mlp_size=mlp_size, num_heads=num_heads) for _ in range(num_transformer_layers)])\n",
        "        self.classifier = nn.Sequential(nn.LayerNorm(normalized_shape = embedding_dims), nn.Linear(in_features = embedding_dims, out_features = num_classes))\n",
        "    def forward(self, x):\n",
        "        return self.classifier(self.transformer_encoder(self.patch_embedding_layer(x))[:, 0])\n",
        ""
      ],
      "metadata": {
        "id": "D0qrGCrW5nQ5"
      },
      "execution_count": 10,
      "outputs": []
    },
    {
      "cell_type": "code",
      "source": [
        "def train_loop(dataloader, model, loss_fn, optimizer):\n",
        "    for epoch in range(epochs):\n",
        "        epoch_loss = 0\n",
        "        epoch_accuracy = 0\n",
        "        for data, label in tqdm(dataloader):\n",
        "            data = data.to(device)\n",
        "            label = label.to(device)\n",
        "\n",
        "            output = model(data)\n",
        "            loss = loss_fn(output, label)\n",
        "\n",
        "            optimizer.zero_grad()\n",
        "            loss.backward()\n",
        "            optimizer.step()\n",
        "\n",
        "            acc = (output.argmax(dim=1) == label).float().mean()\n",
        "            epoch_accuracy += acc / len(dataloader)\n",
        "            epoch_loss += loss / len(dataloader)\n",
        "\n",
        "        print(\n",
        "            f\"Epoch : {epoch+1} - loss : {epoch_loss:.4f} - acc: {epoch_accuracy:.4f}\\n\"\n",
        "        )"
      ],
      "metadata": {
        "id": "70NPZuEb5poN"
      },
      "execution_count": 11,
      "outputs": []
    },
    {
      "cell_type": "code",
      "source": [
        "file_path = r\"/content/drive/MyDrive/image_dataset/processed/\"\n",
        "train_data_csv = \"train_captions.csv\"\n",
        "test_data_csv = \"test_captions.csv\"\n",
        "transform = image_transform()\n",
        "train_dataset = CustomImageDataset(csv_file=train_data_csv, img_dir=file_path, transform=transform,)\n",
        "# 트레이닝과 검증 데이터셋 크기 계산\n",
        "total_train = len(train_dataset)\n",
        "val_size = int(0.20 * total_train)\n",
        "train_size = total_train - val_size\n",
        "\n",
        "# 데이터셋 분할\n",
        "train_subset, val_subset = random_split(train_dataset, [train_size, val_size])\n",
        "test_dataset = CustomImageDataset(csv_file=test_data_csv, img_dir=file_path, transform=transform,)\n",
        "train_dataloader = torch.utils.data.DataLoader(train_subset, batch_size=batch_size, shuffle=True, num_workers=1)\n",
        "val_dataloader = DataLoader(val_subset, batch_size=batch_size, shuffle=True, num_workers=1)\n",
        "test_dataloader = torch.utils.data.DataLoader(test_dataset, batch_size=batch_size, shuffle=True, num_workers=1)"
      ],
      "metadata": {
        "id": "jIz3QHXw5vL2"
      },
      "execution_count": 12,
      "outputs": []
    },
    {
      "cell_type": "code",
      "source": [
        "visualize_data(train_dataloader)"
      ],
      "metadata": {
        "colab": {
          "base_uri": "https://localhost:8080/",
          "height": 558
        },
        "id": "h24rmNxT7Pqu",
        "outputId": "6c669cea-1cca-4674-ff6d-cd75096610ca"
      },
      "execution_count": 13,
      "outputs": [
        {
          "output_type": "stream",
          "name": "stderr",
          "text": [
            "/usr/lib/python3.10/multiprocessing/popen_fork.py:66: RuntimeWarning: os.fork() was called. os.fork() is incompatible with multithreaded code, and JAX is multithreaded, so this will likely lead to a deadlock.\n",
            "  self.pid = os.fork()\n",
            "WARNING:matplotlib.image:Clipping input data to the valid range for imshow with RGB data ([0..1] for floats or [0..255] for integers).\n"
          ]
        },
        {
          "output_type": "stream",
          "name": "stdout",
          "text": [
            "Feature batch shape: torch.Size([64, 3, 224, 224])\n",
            "Labels batch shape: torch.Size([64])\n"
          ]
        },
        {
          "output_type": "display_data",
          "data": {
            "text/plain": [
              "<Figure size 640x480 with 1 Axes>"
            ],
            "image/png": "[encoded data removed]"
          },
          "metadata": {}
        },
        {
          "output_type": "stream",
          "name": "stdout",
          "text": [
            "Label: 1\n"
          ]
        }
      ]
    },
    {
      "cell_type": "code",
      "source": [
        "device = \"cuda\" if torch.cuda.is_available() else \"cpu\"\n",
        "model = vit_model().to(device)\n",
        "summary(model, input_size=(batch_size, IMAGE_CHANNELS, IMAGE_WIDTH, IMAGE_HEIGHT))"
      ],
      "metadata": {
        "colab": {
          "base_uri": "https://localhost:8080/"
        },
        "id": "NWnvylWD8ENd",
        "outputId": "998bde1f-438b-4d0d-b29c-03ffed82f95e"
      },
      "execution_count": 14,
      "outputs": [
        {
          "output_type": "execute_result",
          "data": {
            "text/plain": [
              "=========================================================================================================\n",
              "Layer (type:depth-idx)                                  Output Shape              Param #\n",
              "=========================================================================================================\n",
              "vit_model                                               [64, 2]                   --\n",
              "├─PatchEmbeddingLayer: 1-1                              [64, 197, 768]            152,064\n",
              "│    └─Conv2d: 2-1                                      [64, 768, 14, 14]         590,592\n",
              "│    └─Flatten: 2-2                                     [64, 196, 768]            --\n",
              "├─Sequential: 1-2                                       [64, 197, 768]            --\n",
              "│    └─TransformerBlock: 2-3                            [64, 197, 768]            --\n",
              "│    │    └─MultiHeadSelfAttentionBlock: 3-1            [64, 197, 768]            2,363,904\n",
              "│    │    └─MachineLearningPerceptronBlock: 3-2         [64, 197, 768]            3,150,080\n",
              "│    └─TransformerBlock: 2-4                            [64, 197, 768]            --\n",
              "│    │    └─MultiHeadSelfAttentionBlock: 3-3            [64, 197, 768]            2,363,904\n",
              "│    │    └─MachineLearningPerceptronBlock: 3-4         [64, 197, 768]            3,150,080\n",
              "│    └─TransformerBlock: 2-5                            [64, 197, 768]            --\n",
              "│    │    └─MultiHeadSelfAttentionBlock: 3-5            [64, 197, 768]            2,363,904\n",
              "│    │    └─MachineLearningPerceptronBlock: 3-6         [64, 197, 768]            3,150,080\n",
              "│    └─TransformerBlock: 2-6                            [64, 197, 768]            --\n",
              "│    │    └─MultiHeadSelfAttentionBlock: 3-7            [64, 197, 768]            2,363,904\n",
              "│    │    └─MachineLearningPerceptronBlock: 3-8         [64, 197, 768]            3,150,080\n",
              "│    └─TransformerBlock: 2-7                            [64, 197, 768]            --\n",
              "│    │    └─MultiHeadSelfAttentionBlock: 3-9            [64, 197, 768]            2,363,904\n",
              "│    │    └─MachineLearningPerceptronBlock: 3-10        [64, 197, 768]            3,150,080\n",
              "│    └─TransformerBlock: 2-8                            [64, 197, 768]            --\n",
              "│    │    └─MultiHeadSelfAttentionBlock: 3-11           [64, 197, 768]            2,363,904\n",
              "│    │    └─MachineLearningPerceptronBlock: 3-12        [64, 197, 768]            3,150,080\n",
              "│    └─TransformerBlock: 2-9                            [64, 197, 768]            --\n",
              "│    │    └─MultiHeadSelfAttentionBlock: 3-13           [64, 197, 768]            2,363,904\n",
              "│    │    └─MachineLearningPerceptronBlock: 3-14        [64, 197, 768]            3,150,080\n",
              "│    └─TransformerBlock: 2-10                           [64, 197, 768]            --\n",
              "│    │    └─MultiHeadSelfAttentionBlock: 3-15           [64, 197, 768]            2,363,904\n",
              "│    │    └─MachineLearningPerceptronBlock: 3-16        [64, 197, 768]            3,150,080\n",
              "│    └─TransformerBlock: 2-11                           [64, 197, 768]            --\n",
              "│    │    └─MultiHeadSelfAttentionBlock: 3-17           [64, 197, 768]            2,363,904\n",
              "│    │    └─MachineLearningPerceptronBlock: 3-18        [64, 197, 768]            3,150,080\n",
              "│    └─TransformerBlock: 2-12                           [64, 197, 768]            --\n",
              "│    │    └─MultiHeadSelfAttentionBlock: 3-19           [64, 197, 768]            2,363,904\n",
              "│    │    └─MachineLearningPerceptronBlock: 3-20        [64, 197, 768]            3,150,080\n",
              "│    └─TransformerBlock: 2-13                           [64, 197, 768]            --\n",
              "│    │    └─MultiHeadSelfAttentionBlock: 3-21           [64, 197, 768]            2,363,904\n",
              "│    │    └─MachineLearningPerceptronBlock: 3-22        [64, 197, 768]            3,150,080\n",
              "│    └─TransformerBlock: 2-14                           [64, 197, 768]            --\n",
              "│    │    └─MultiHeadSelfAttentionBlock: 3-23           [64, 197, 768]            2,363,904\n",
              "│    │    └─MachineLearningPerceptronBlock: 3-24        [64, 197, 768]            3,150,080\n",
              "├─Sequential: 1-3                                       [64, 2]                   --\n",
              "│    └─LayerNorm: 2-15                                  [64, 768]                 1,536\n",
              "│    └─Linear: 2-16                                     [64, 2]                   1,538\n",
              "=========================================================================================================\n",
              "Total params: 66,913,538\n",
              "Trainable params: 66,913,538\n",
              "Non-trainable params: 0\n",
              "Total mult-adds (G): 9.83\n",
              "=========================================================================================================\n",
              "Input size (MB): 38.54\n",
              "Forward/backward pass size (MB): 5344.99\n",
              "Params size (MB): 153.65\n",
              "Estimated Total Size (MB): 5537.17\n",
              "========================================================================================================="
            ]
          },
          "metadata": {},
          "execution_count": 14
        }
      ]
    },
    {
      "cell_type": "code",
      "source": [
        "# loss_fn = nn.CrossEntropyLoss()\n",
        "# optimizer = torch.optim.Adam(model.parameters(), lr=learning_rate)\n",
        "# train_loop(train_dataloader, model, loss_fn, optimizer)"
      ],
      "metadata": {
        "id": "I_4OWZyQ7TzY"
      },
      "execution_count": 15,
      "outputs": []
    },
    {
      "cell_type": "code",
      "source": [
        "CHECKPOINT_FREQ = 3\n",
        "def train_func(config):\n",
        "  start = 1\n",
        "  device = \"cuda\" if torch.cuda.is_available() else \"cpu\"\n",
        "  model = vit_model().to(device)\n",
        "  loss_fn = nn.CrossEntropyLoss()\n",
        "  optimizer = torch.optim.Adam(model.parameters(), lr=config[\"lr\"])\n",
        "\n",
        "  #Define checkpoint\n",
        "  checkpoint = train.get_checkpoint()\n",
        "  if checkpoint:\n",
        "      with checkpoint.as_directory() as checkpoint_dir:\n",
        "          checkpoint_dict = torch.load(os.path.join(checkpoint_dir, \"checkpoint.pt\"))\n",
        "          start = checkpoint_dict[\"epoch\"] + 1\n",
        "          model.load_state_dict(checkpoint_dict[\"model_state\"])\n",
        "\n",
        "  train_dataloader = torch.utils.data.DataLoader(train_subset, batch_size=batch_size, shuffle=True, num_workers=1)\n",
        "  val_dataloader = DataLoader(val_subset, batch_size=batch_size, shuffle=True, num_workers=1)\n",
        "\n",
        "  #model training\n",
        "  for epoch in range(start, config[\"epochs\"] + 1):  # loop over the dataset multiple times\n",
        "      running_loss = 0.0\n",
        "      epoch_steps = 0\n",
        "      for i, data in enumerate(train_dataloader, 0):\n",
        "          # get the inputs; data is a list of [inputs, labels]\n",
        "          inputs, labels = data\n",
        "          inputs, labels = inputs.to(device), labels.to(device)\n",
        "\n",
        "          # zero the parameter gradients\n",
        "          optimizer.zero_grad()\n",
        "\n",
        "          # forward + backward + optimize\n",
        "          outputs = model(inputs)\n",
        "          loss = loss_fn(outputs, labels)\n",
        "          loss.backward()\n",
        "          optimizer.step()\n",
        "\n",
        "          # print statistics\n",
        "          running_loss += loss.item()\n",
        "          epoch_steps += 1\n",
        "          if i % 2000 == 1999:  # print every 2000 mini-batches\n",
        "              print(\"[%d, %5d] loss: %.3f\" % (epoch + 1, i + 1,\n",
        "                                                running_loss / epoch_steps))\n",
        "              running_loss = 0.0\n",
        "\n",
        "      # Validation loss\n",
        "      val_loss = 0.0\n",
        "      val_steps = 0\n",
        "      total = 0\n",
        "      correct = 0\n",
        "      for i, data in enumerate(val_dataloader, 0):\n",
        "          with torch.no_grad():\n",
        "              inputs, labels = data\n",
        "              inputs, labels = inputs.to(device), labels.to(device)\n",
        "\n",
        "              outputs = model(inputs)\n",
        "              _, predicted = torch.max(outputs.data, 1)\n",
        "              total += labels.size(0)\n",
        "              correct += (predicted == labels).sum().item()\n",
        "\n",
        "              loss = loss_fn(outputs, labels)\n",
        "              val_loss += loss.cpu().numpy()\n",
        "              val_steps += 1\n",
        "      metrics = {\n",
        "            \"loss\": running_loss / len(train_dataloader),\n",
        "            \"val_loss\": val_loss / len(val_dataloader),\n",
        "            \"accuracy\": correct / total\n",
        "      }\n",
        "      if epoch % CHECKPOINT_FREQ == 0:\n",
        "          with tempfile.TemporaryDirectory() as tempdir:\n",
        "              # Save a checkpoint in tempdir.\n",
        "              train.report(metrics, checkpoint=Checkpoint.from_directory(tempdir))\n",
        "      else:\n",
        "          train.report(metrics)"
      ],
      "metadata": {
        "id": "ylOQp9cSPxp4"
      },
      "execution_count": 15,
      "outputs": []
    },
    {
      "cell_type": "code",
      "source": [
        "def test_accuracy(model, device=\"cpu\"):\n",
        "    test_dataloader = torch.utils.data.DataLoader(test_dataset, batch_size=batch_size, shuffle=True, num_workers=1)\n",
        "    correct = 0\n",
        "    total = 0\n",
        "    with torch.no_grad():\n",
        "        for data in test_dataloader:\n",
        "            images, labels = data\n",
        "            images, labels = images.to(device), labels.to(device)\n",
        "            outputs = model(images)\n",
        "            _, predicted = torch.max(outputs.data, 1)\n",
        "            total += labels.size(0)\n",
        "            correct += (predicted == labels).sum().item()\n",
        "\n",
        "    return correct / total"
      ],
      "metadata": {
        "id": "k5VOY_rtMQu-"
      },
      "execution_count": 16,
      "outputs": []
    },
    {
      "cell_type": "code",
      "source": [
        "storage_path = \"/content/drive/MyDrive/ray_results\"\n",
        "exp_name = \"tune_analyzing_results\"\n",
        "tuner = tune.Tuner(\n",
        "    train_func,\n",
        "    param_space={\n",
        "        \"lr\": tune.loguniform(1e-4, 1e-2),\n",
        "        \"batch_size\": tune.choice([16, 32, 64]),\n",
        "        \"epochs\": 20\n",
        "    },\n",
        "    run_config=train.RunConfig(\n",
        "        name=exp_name,\n",
        "        stop={\"training_iteration\": 20},\n",
        "        checkpoint_config=train.CheckpointConfig(\n",
        "            checkpoint_score_attribute=\"mean_accuracy\",\n",
        "            num_to_keep=3\n",
        "        ),\n",
        "        resource_per_trial={\"cpu\": 1, \"gpu\": 1},\n",
        "        storage_path=storage_path,\n",
        "    ),\n",
        "    tune_config=tune.TuneConfig(mode=\"max\", metric=\"mean_accuracy\", num_samples=8, max_concurrent_trials=1),\n",
        ")\n",
        "result_grid: ResultGrid = tuner.fit()\n"
      ],
      "metadata": {
        "colab": {
          "base_uri": "https://localhost:8080/"
        },
        "id": "Ouron772Noys",
        "outputId": "7f9eb911-80db-4be6-d0cb-2a70685d3891"
      },
      "execution_count": 17,
      "outputs": [
        {
          "output_type": "stream",
          "name": "stderr",
          "text": [
            "/usr/lib/python3.10/subprocess.py:1796: RuntimeWarning: os.fork() was called. os.fork() is incompatible with multithreaded code, and JAX is multithreaded, so this will likely lead to a deadlock.\n",
            "  self.pid = _posixsubprocess.fork_exec(\n",
            "2024-05-06 10:18:30,995\tINFO worker.py:1749 -- Started a local Ray instance.\n",
            "2024-05-06 10:18:31,865\tINFO tune.py:253 -- Initializing Ray automatically. For cluster usage or custom Ray initialization, call `ray.init(...)` before `Tuner(...)`.\n"
          ]
        },
        {
          "output_type": "stream",
          "name": "stdout",
          "text": [
            "+-----------------------------------------------------------+\n",
            "| Configuration for experiment     tune_analyzing_results   |\n",
            "+-----------------------------------------------------------+\n",
            "| Search algorithm                 BasicVariantGenerator    |\n",
            "| Scheduler                        FIFOScheduler            |\n",
            "| Number of trials                 8                        |\n",
            "+-----------------------------------------------------------+\n",
            "\n",
            "View detailed results here: /content/drive/MyDrive/ray_results/tune_analyzing_results\n",
            "To visualize your results with TensorBoard, run: `tensorboard --logdir /tmp/ray/session_2024-05-06_10-18-28_858826_2693/artifacts/2024-05-06_10-18-31/tune_analyzing_results/driver_artifacts`\n",
            "\n",
            "Trial status: 1 PENDING\n",
            "Current time: 2024-05-06 10:18:32. Total running time: 0s\n",
            "Logical resource usage: 0/8 CPUs, 0/1 GPUs (0.0/1.0 accelerator_type:T4)\n",
            "+----------------------------------------------------------------+\n",
            "| Trial name               status              lr     batch_size |\n",
            "+----------------------------------------------------------------+\n",
            "| train_func_fd429_00000   PENDING    0.000419207             64 |\n",
            "+----------------------------------------------------------------+\n",
            "\n",
            "Trial train_func_fd429_00000 started with configuration:\n",
            "+-------------------------------------------------+\n",
            "| Trial train_func_fd429_00000 config             |\n",
            "+-------------------------------------------------+\n",
            "| batch_size                                   64 |\n",
            "| epochs                                       20 |\n",
            "| lr                                      0.00042 |\n",
            "+-------------------------------------------------+\n"
          ]
        },
        {
          "output_type": "stream",
          "name": "stderr",
          "text": [
            "\u001b[36m(train_func pid=4688)\u001b[0m /usr/lib/python3.10/multiprocessing/popen_fork.py:66: RuntimeWarning: os.fork() was called. os.fork() is incompatible with multithreaded code, and JAX is multithreaded, so this will likely lead to a deadlock.\n",
            "\u001b[36m(train_func pid=4688)\u001b[0m   self.pid = os.fork()\n"
          ]
        },
        {
          "output_type": "stream",
          "name": "stdout",
          "text": [
            "\n",
            "Trial status: 1 RUNNING\n",
            "Current time: 2024-05-06 10:19:02. Total running time: 30s\n",
            "Logical resource usage: 1.0/8 CPUs, 0/1 GPUs (0.0/1.0 accelerator_type:T4)\n",
            "+----------------------------------------------------------------+\n",
            "| Trial name               status              lr     batch_size |\n",
            "+----------------------------------------------------------------+\n",
            "| train_func_fd429_00000   RUNNING    0.000419207             64 |\n",
            "+----------------------------------------------------------------+\n",
            "Trial status: 1 RUNNING\n",
            "Current time: 2024-05-06 10:19:32. Total running time: 1min 0s\n",
            "Logical resource usage: 1.0/8 CPUs, 0/1 GPUs (0.0/1.0 accelerator_type:T4)\n",
            "+----------------------------------------------------------------+\n",
            "| Trial name               status              lr     batch_size |\n",
            "+----------------------------------------------------------------+\n",
            "| train_func_fd429_00000   RUNNING    0.000419207             64 |\n",
            "+----------------------------------------------------------------+\n",
            "Trial status: 1 RUNNING\n",
            "Current time: 2024-05-06 10:20:02. Total running time: 1min 30s\n",
            "Logical resource usage: 1.0/8 CPUs, 0/1 GPUs (0.0/1.0 accelerator_type:T4)\n",
            "+----------------------------------------------------------------+\n",
            "| Trial name               status              lr     batch_size |\n",
            "+----------------------------------------------------------------+\n",
            "| train_func_fd429_00000   RUNNING    0.000419207             64 |\n",
            "+----------------------------------------------------------------+\n",
            "Trial status: 1 RUNNING\n",
            "Current time: 2024-05-06 10:20:32. Total running time: 2min 0s\n",
            "Logical resource usage: 1.0/8 CPUs, 0/1 GPUs (0.0/1.0 accelerator_type:T4)\n",
            "+----------------------------------------------------------------+\n",
            "| Trial name               status              lr     batch_size |\n",
            "+----------------------------------------------------------------+\n",
            "| train_func_fd429_00000   RUNNING    0.000419207             64 |\n",
            "+----------------------------------------------------------------+\n",
            "Trial status: 1 RUNNING\n",
            "Current time: 2024-05-06 10:21:02. Total running time: 2min 30s\n",
            "Logical resource usage: 1.0/8 CPUs, 0/1 GPUs (0.0/1.0 accelerator_type:T4)\n",
            "+----------------------------------------------------------------+\n",
            "| Trial name               status              lr     batch_size |\n",
            "+----------------------------------------------------------------+\n",
            "| train_func_fd429_00000   RUNNING    0.000419207             64 |\n",
            "+----------------------------------------------------------------+\n"
          ]
        },
        {
          "output_type": "stream",
          "name": "stderr",
          "text": [
            "2024-05-06 10:21:29,522\tWARNING tune.py:219 -- Stop signal received (e.g. via SIGINT/Ctrl+C), ending Ray Tune run. This will try to checkpoint the experiment state one last time. Press CTRL+C (or send SIGINT/SIGKILL/SIGTERM) to skip. \n",
            "2024-05-06 10:21:29,550\tINFO tune.py:1007 -- Wrote the latest version of all result files and experiment state to '/content/drive/MyDrive/ray_results/tune_analyzing_results' in 0.0269s.\n"
          ]
        },
        {
          "output_type": "stream",
          "name": "stdout",
          "text": [
            "Trial status: 1 RUNNING\n",
            "Current time: 2024-05-06 10:21:29. Total running time: 2min 57s\n",
            "Logical resource usage: 1.0/8 CPUs, 0/1 GPUs (0.0/1.0 accelerator_type:T4)\n",
            "+----------------------------------------------------------------+\n",
            "| Trial name               status              lr     batch_size |\n",
            "+----------------------------------------------------------------+\n",
            "| train_func_fd429_00000   RUNNING    0.000419207             64 |\n",
            "+----------------------------------------------------------------+\n"
          ]
        },
        {
          "output_type": "stream",
          "name": "stderr",
          "text": [
            "2024-05-06 10:21:39,558\tWARNING tune.py:1054 -- Experiment has been interrupted, but the most recent state was saved.\n",
            "Resume experiment with: Tuner.restore(path=\"/content/drive/MyDrive/ray_results/tune_analyzing_results\", trainable=...)\n"
          ]
        },
        {
          "output_type": "stream",
          "name": "stdout",
          "text": [
            "\n"
          ]
        }
      ]
    },
    {
      "cell_type": "code",
      "source": [
        "# def main(num_samples=8, max_num_epochs=20, gpus_per_trial=1):\n",
        "#     config = {\n",
        "#         \"lr\": tune.loguniform(1e-4, 1e-5),\n",
        "#         \"batch_size\": tune.choice([16, 32, 64])\n",
        "#     }\n",
        "#     scheduler = ASHAScheduler(\n",
        "#         metric=\"loss\",\n",
        "#         mode=\"min\",\n",
        "#         max_t=max_num_epochs,\n",
        "#         grace_period=10,\n",
        "#         reduction_factor=2)\n",
        "#     reporter = CLIReporter(\n",
        "#         # ``parameter_columns=[\"l1\", \"l2\", \"lr\", \"batch_size\"]``,\n",
        "#         metric_columns=[\"loss\", \"accuracy\", \"training_iteration\"])\n",
        "#     result = tune.run(\n",
        "#         partial(train_cifar,epochs=20),\n",
        "#         resources_per_trial={\"cpu\": 0, \"gpu\": gpus_per_trial},\n",
        "#         config=config,\n",
        "#         num_samples=num_samples,\n",
        "#         scheduler=scheduler,\n",
        "#         progress_reporter=reporter,\n",
        "#         max_concurrent_trials=1)\n",
        "\n",
        "#     best_trial = result.get_best_trial(\"loss\", \"min\", \"last\")\n",
        "#     print(\"Best trial config: {}\".format(best_trial.config))\n",
        "#     print(\"Best trial final validation loss: {}\".format(\n",
        "#         best_trial.last_result[\"loss\"]))\n",
        "#     print(\"Best trial final validation accuracy: {}\".format(\n",
        "#         best_trial.last_result[\"accuracy\"]))\n",
        "\n",
        "#     best_trained_model = vit_model()\n",
        "#     device = \"cpu\"\n",
        "#     if torch.cuda.is_available():\n",
        "#         device = \"cuda:0\"\n",
        "#         if gpus_per_trial > 1:\n",
        "#             best_trained_model = nn.DataParallel(best_trained_model)\n",
        "#     best_trained_model.to(device)\n",
        "\n",
        "#      # 수정된 부분: 체크포인트 경로 가져오기\n",
        "#     best_checkpoint_dir = best_trial.checkpoint.dir\n",
        "#     checkpoint_path = os.path.join(best_checkpoint_dir, \"checkpoint\")\n",
        "#     model_state, optimizer_state = torch.load(checkpoint_path)\n",
        "#     best_trained_model.load_state_dict(model_state)\n",
        "\n",
        "#     test_acc = test_accuracy(best_trained_model, device)\n",
        "#     print(\"Best trial test set accuracy: {}\".format(test_acc))"
      ],
      "metadata": {
        "id": "9GSXd435LaE1"
      },
      "execution_count": 20,
      "outputs": []
    },
    {
      "cell_type": "code",
      "source": [
        "# main(num_samples=8, max_num_epochs=10, gpus_per_trial=1)"
      ],
      "metadata": {
        "id": "IrYu37-nNuru"
      },
      "execution_count": 21,
      "outputs": []
    },
    {
      "cell_type": "code",
      "source": [
        "# Performance on Valid/Test Data\n",
        "def overall_accuracy(model, test_dataloader, loss_fn):\n",
        "\n",
        "    y_proba = []\n",
        "    y_truth = []\n",
        "    test_loss = 0\n",
        "    total = 0\n",
        "    correct = 0\n",
        "    for data in tqdm(test_dataloader):\n",
        "        X, y = data[0].to('cpu'), data[1].to('cpu')\n",
        "        output = model(X)\n",
        "        test_loss += loss_fn(output, y.long()).item()\n",
        "        for index, i in enumerate(output):\n",
        "            y_proba.append(i[1])\n",
        "            y_truth.append(y[index])\n",
        "            if torch.argmax(i) == y[index]:\n",
        "                correct+=1\n",
        "            total+=1\n",
        "\n",
        "    accuracy = correct/total\n",
        "\n",
        "    y_proba_out = np.array([float(y_proba[i]) for i in range(len(y_proba))])\n",
        "    y_truth_out = np.array([float(y_truth[i]) for i in range(len(y_truth))])\n",
        "\n",
        "    return test_loss, accuracy, y_proba_out, y_truth_out\n",
        "\n",
        "\n",
        "loss, acc, y_proba, y_truth = overall_accuracy(model, test_dataloader, criterion = nn.CrossEntropyLoss())\n",
        "\n",
        "\n",
        "print(f\"Accuracy: {acc}\")\n",
        "\n",
        "print(pd.value_counts(y_truth))"
      ],
      "metadata": {
        "colab": {
          "base_uri": "https://localhost:8080/",
          "height": 228
        },
        "id": "FmY_S58i__li",
        "outputId": "7152e927-9bc3-4224-b9f2-04990da63ea0"
      },
      "execution_count": 22,
      "outputs": [
        {
          "output_type": "error",
          "ename": "TypeError",
          "evalue": "overall_accuracy() got an unexpected keyword argument 'criterion'",
          "traceback": [
            "\u001b[0;31m---------------------------------------------------------------------------\u001b[0m",
            "\u001b[0;31mTypeError\u001b[0m                                 Traceback (most recent call last)",
            "\u001b[0;32m<ipython-input-22-842fa7f117e7>\u001b[0m in \u001b[0;36m<cell line: 28>\u001b[0;34m()\u001b[0m\n\u001b[1;32m     26\u001b[0m \u001b[0;34m\u001b[0m\u001b[0m\n\u001b[1;32m     27\u001b[0m \u001b[0;34m\u001b[0m\u001b[0m\n\u001b[0;32m---> 28\u001b[0;31m \u001b[0mloss\u001b[0m\u001b[0;34m,\u001b[0m \u001b[0macc\u001b[0m\u001b[0;34m,\u001b[0m \u001b[0my_proba\u001b[0m\u001b[0;34m,\u001b[0m \u001b[0my_truth\u001b[0m \u001b[0;34m=\u001b[0m \u001b[0moverall_accuracy\u001b[0m\u001b[0;34m(\u001b[0m\u001b[0mmodel\u001b[0m\u001b[0;34m,\u001b[0m \u001b[0mtest_dataloader\u001b[0m\u001b[0;34m,\u001b[0m \u001b[0mcriterion\u001b[0m \u001b[0;34m=\u001b[0m \u001b[0mnn\u001b[0m\u001b[0;34m.\u001b[0m\u001b[0mCrossEntropyLoss\u001b[0m\u001b[0;34m(\u001b[0m\u001b[0;34m)\u001b[0m\u001b[0;34m)\u001b[0m\u001b[0;34m\u001b[0m\u001b[0;34m\u001b[0m\u001b[0m\n\u001b[0m\u001b[1;32m     29\u001b[0m \u001b[0;34m\u001b[0m\u001b[0m\n\u001b[1;32m     30\u001b[0m \u001b[0;34m\u001b[0m\u001b[0m\n",
            "\u001b[0;31mTypeError\u001b[0m: overall_accuracy() got an unexpected keyword argument 'criterion'"
          ]
        }
      ]
    }
  ]
}