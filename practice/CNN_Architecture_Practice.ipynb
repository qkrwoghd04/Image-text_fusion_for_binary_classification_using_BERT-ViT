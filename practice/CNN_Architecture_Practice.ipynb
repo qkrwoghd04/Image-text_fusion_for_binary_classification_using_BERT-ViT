{
  "nbformat": 4,
  "nbformat_minor": 0,
  "metadata": {
    "colab": {
      "provenance": [],
      "mount_file_id": "1FW0tDsERf-L51xFAb0Qs7JminzSM6W5g",
      "authorship_tag": "ABX9TyPbyF6sxlQgomvtggF4ZM+i",
      "include_colab_link": true
    },
    "kernelspec": {
      "name": "python3",
      "display_name": "Python 3"
    },
    "language_info": {
      "name": "python"
    }
  },
  "cells": [
    {
      "cell_type": "markdown",
      "metadata": {
        "id": "view-in-github",
        "colab_type": "text"
      },
      "source": [
        "<a href=\"https://colab.research.google.com/github/qkrwoghd04/ViT_For_ImageCaptionnng_Implementation/blob/master/practice/CNN_Architecture_Practice.ipynb\" target=\"_parent\"><img src=\"https://colab.research.google.com/assets/colab-badge.svg\" alt=\"Open In Colab\"/></a>"
      ]
    },
    {
      "cell_type": "markdown",
      "source": [
        "### CNN Architecture Practice\n",
        "\n",
        "Distinguishing between a person **sleeping** and a person **falling down**\n",
        "\n"
      ],
      "metadata": {
        "id": "l6V1P-4E52To"
      }
    },
    {
      "cell_type": "code",
      "execution_count": null,
      "metadata": {
        "colab": {
          "base_uri": "https://localhost:8080/"
        },
        "id": "-mboym_-rSd2",
        "outputId": "a29601ab-0519-44f5-e4c3-68341c892939"
      },
      "outputs": [
        {
          "output_type": "stream",
          "name": "stdout",
          "text": [
            "Requirement already satisfied: keras in /usr/local/lib/python3.10/dist-packages (2.15.0)\n",
            "Collecting keras\n",
            "  Downloading keras-3.1.1-py3-none-any.whl (1.1 MB)\n",
            "\u001b[2K     \u001b[90m━━━━━━━━━━━━━━━━━━━━━━━━━━━━━━━━━━━━━━━━\u001b[0m \u001b[32m1.1/1.1 MB\u001b[0m \u001b[31m8.3 MB/s\u001b[0m eta \u001b[36m0:00:00\u001b[0m\n",
            "\u001b[?25hRequirement already satisfied: absl-py in /usr/local/lib/python3.10/dist-packages (from keras) (1.4.0)\n",
            "Requirement already satisfied: numpy in /usr/local/lib/python3.10/dist-packages (from keras) (1.25.2)\n",
            "Requirement already satisfied: rich in /usr/local/lib/python3.10/dist-packages (from keras) (13.7.1)\n",
            "Collecting namex (from keras)\n",
            "  Downloading namex-0.0.7-py3-none-any.whl (5.8 kB)\n",
            "Requirement already satisfied: h5py in /usr/local/lib/python3.10/dist-packages (from keras) (3.9.0)\n",
            "Collecting optree (from keras)\n",
            "  Downloading optree-0.11.0-cp310-cp310-manylinux_2_17_x86_64.manylinux2014_x86_64.whl (311 kB)\n",
            "\u001b[2K     \u001b[90m━━━━━━━━━━━━━━━━━━━━━━━━━━━━━━━━━━━━━━━━\u001b[0m \u001b[32m311.2/311.2 kB\u001b[0m \u001b[31m10.1 MB/s\u001b[0m eta \u001b[36m0:00:00\u001b[0m\n",
            "\u001b[?25hRequirement already satisfied: ml-dtypes in /usr/local/lib/python3.10/dist-packages (from keras) (0.2.0)\n",
            "Requirement already satisfied: typing-extensions>=4.0.0 in /usr/local/lib/python3.10/dist-packages (from optree->keras) (4.10.0)\n",
            "Requirement already satisfied: markdown-it-py>=2.2.0 in /usr/local/lib/python3.10/dist-packages (from rich->keras) (3.0.0)\n",
            "Requirement already satisfied: pygments<3.0.0,>=2.13.0 in /usr/local/lib/python3.10/dist-packages (from rich->keras) (2.16.1)\n",
            "Requirement already satisfied: mdurl~=0.1 in /usr/local/lib/python3.10/dist-packages (from markdown-it-py>=2.2.0->rich->keras) (0.1.2)\n",
            "Installing collected packages: namex, optree, keras\n",
            "  Attempting uninstall: keras\n",
            "    Found existing installation: keras 2.15.0\n",
            "    Uninstalling keras-2.15.0:\n",
            "      Successfully uninstalled keras-2.15.0\n",
            "\u001b[31mERROR: pip's dependency resolver does not currently take into account all the packages that are installed. This behaviour is the source of the following dependency conflicts.\n",
            "tensorflow 2.15.0 requires keras<2.16,>=2.15.0, but you have keras 3.1.1 which is incompatible.\u001b[0m\u001b[31m\n",
            "\u001b[0mSuccessfully installed keras-3.1.1 namex-0.0.7 optree-0.11.0\n"
          ]
        }
      ],
      "source": [
        "!pip install --upgrade keras # keras upgrade"
      ]
    },
    {
      "cell_type": "code",
      "source": [
        "pip install split-folders"
      ],
      "metadata": {
        "colab": {
          "base_uri": "https://localhost:8080/"
        },
        "id": "IOP4PKNlZ1lL",
        "outputId": "7e8a187c-b209-4a06-b848-eaf018014f2c"
      },
      "execution_count": null,
      "outputs": [
        {
          "output_type": "stream",
          "name": "stdout",
          "text": [
            "Collecting split-folders\n",
            "  Downloading split_folders-0.5.1-py3-none-any.whl (8.4 kB)\n",
            "Installing collected packages: split-folders\n",
            "Successfully installed split-folders-0.5.1\n"
          ]
        }
      ]
    },
    {
      "cell_type": "markdown",
      "source": [
        "## Initialization"
      ],
      "metadata": {
        "id": "wYlNqHqUVar-"
      }
    },
    {
      "cell_type": "code",
      "source": [
        "folder_path = r\"/content/drive/MyDrive/image_dataset\" # image_dataset > [Fall, Sleep] 폴더 존재"
      ],
      "metadata": {
        "id": "HY0c2bSoVfa7"
      },
      "execution_count": null,
      "outputs": []
    },
    {
      "cell_type": "code",
      "source": [
        "import os\n",
        "import shutil\n",
        "\n",
        "# limit은 원하는 갯수만큼\n",
        "def rename_and_move_files(source_folder, target_folder, prefix, limit=20):\n",
        "    # 폴더 내의 파일 목록을 가져옵니다.\n",
        "    files = os.listdir(source_folder)\n",
        "    # 파일 이름 변경 및 이동을 위한 카운터\n",
        "    count = 0\n",
        "\n",
        "    for file_name in files:\n",
        "        # 지정된 개수만큼만 처리\n",
        "        if count < limit:\n",
        "            # 새 파일 이름 생성\n",
        "            new_name = f\"{prefix}_{str(count+1).zfill(3)}.jpg\"\n",
        "            # 원본 파일의 전체 경로\n",
        "            original_path = os.path.join(source_folder, file_name)\n",
        "            # 새 파일을 저장할 경로\n",
        "            new_path = os.path.join(target_folder, new_name)\n",
        "            # 파일 복사 (shutil.move를 사용하면 원본에서 삭제됨)\n",
        "            shutil.copy(original_path, new_path)\n",
        "            print(f\"Copied and renamed {file_name} to {new_path}\")\n",
        "            count += 1\n",
        "        else:\n",
        "            break\n",
        "\n"
      ],
      "metadata": {
        "id": "sDdh5m8eWAYE"
      },
      "execution_count": null,
      "outputs": []
    },
    {
      "cell_type": "code",
      "source": [
        "# 원본 폴더 경로\n",
        "fall_source_folder = os.path.join(folder_path, 'Fall_test')\n",
        "sleep_source_folder = os.path.join(folder_path, 'Sleep_test')\n",
        "\n",
        "# 타겟 폴더 경로\n",
        "sleep_target_folder =  os.path.join(folder_path, 'processed/Sleep_test')\n",
        "fall_target_folder =  os.path.join(folder_path, 'processed/Fall_test')\n",
        "\n",
        "# 필요한 폴더가 없으면 생성\n",
        "os.makedirs(sleep_target_folder, exist_ok=True)\n",
        "os.makedirs(fall_target_folder, exist_ok=True)\n",
        "\n",
        "# 'Sleep' 폴더 내 파일 처리\n",
        "rename_and_move_files(sleep_source_folder, sleep_target_folder, 'Sleep', 200)\n",
        "\n",
        "# 'Fall' 폴더 내 파일 처리\n",
        "rename_and_move_files(fall_source_folder, fall_target_folder, 'Fall', 200)\n",
        "\n"
      ],
      "metadata": {
        "colab": {
          "base_uri": "https://localhost:8080/"
        },
        "id": "7dtwojxCWIXw",
        "outputId": "afbfa453-fc4b-4f9d-85f0-f5b042189ee1"
      },
      "execution_count": null,
      "outputs": [
        {
          "output_type": "stream",
          "name": "stdout",
          "text": [
            "Copied and renamed img_112.png to /content/drive/MyDrive/image_dataset/processed/Sleep_test/Sleep_001.jpg\n",
            "Copied and renamed img_347.png to /content/drive/MyDrive/image_dataset/processed/Sleep_test/Sleep_002.jpg\n",
            "Copied and renamed img_100.png to /content/drive/MyDrive/image_dataset/processed/Sleep_test/Sleep_003.jpg\n",
            "Copied and renamed img_109.png to /content/drive/MyDrive/image_dataset/processed/Sleep_test/Sleep_004.jpg\n",
            "Copied and renamed img_344.png to /content/drive/MyDrive/image_dataset/processed/Sleep_test/Sleep_005.jpg\n",
            "Copied and renamed img_359.png to /content/drive/MyDrive/image_dataset/processed/Sleep_test/Sleep_006.jpg\n",
            "Copied and renamed img_332.png to /content/drive/MyDrive/image_dataset/processed/Sleep_test/Sleep_007.jpg\n",
            "Copied and renamed img_340.png to /content/drive/MyDrive/image_dataset/processed/Sleep_test/Sleep_008.jpg\n",
            "Copied and renamed img_092.png to /content/drive/MyDrive/image_dataset/processed/Sleep_test/Sleep_009.jpg\n",
            "Copied and renamed img_353.png to /content/drive/MyDrive/image_dataset/processed/Sleep_test/Sleep_010.jpg\n",
            "Copied and renamed img_137.png to /content/drive/MyDrive/image_dataset/processed/Sleep_test/Sleep_011.jpg\n",
            "Copied and renamed img_360.png to /content/drive/MyDrive/image_dataset/processed/Sleep_test/Sleep_012.jpg\n",
            "Copied and renamed img_145.png to /content/drive/MyDrive/image_dataset/processed/Sleep_test/Sleep_013.jpg\n",
            "Copied and renamed img_144.png to /content/drive/MyDrive/image_dataset/processed/Sleep_test/Sleep_014.jpg\n",
            "Copied and renamed img_097.png to /content/drive/MyDrive/image_dataset/processed/Sleep_test/Sleep_015.jpg\n",
            "Copied and renamed img_356.png to /content/drive/MyDrive/image_dataset/processed/Sleep_test/Sleep_016.jpg\n",
            "Copied and renamed img_117.png to /content/drive/MyDrive/image_dataset/processed/Sleep_test/Sleep_017.jpg\n",
            "Copied and renamed img_161.png to /content/drive/MyDrive/image_dataset/processed/Sleep_test/Sleep_018.jpg\n",
            "Copied and renamed img_138.png to /content/drive/MyDrive/image_dataset/processed/Sleep_test/Sleep_019.jpg\n",
            "Copied and renamed img_158.png to /content/drive/MyDrive/image_dataset/processed/Sleep_test/Sleep_020.jpg\n",
            "Copied and renamed img_211.png to /content/drive/MyDrive/image_dataset/processed/Fall_test/Fall_001.jpg\n",
            "Copied and renamed img_242.png to /content/drive/MyDrive/image_dataset/processed/Fall_test/Fall_002.jpg\n",
            "Copied and renamed img_259.png to /content/drive/MyDrive/image_dataset/processed/Fall_test/Fall_003.jpg\n",
            "Copied and renamed img_175.png to /content/drive/MyDrive/image_dataset/processed/Fall_test/Fall_004.jpg\n",
            "Copied and renamed img_179.png to /content/drive/MyDrive/image_dataset/processed/Fall_test/Fall_005.jpg\n",
            "Copied and renamed img_344.png to /content/drive/MyDrive/image_dataset/processed/Fall_test/Fall_006.jpg\n",
            "Copied and renamed img_192.png to /content/drive/MyDrive/image_dataset/processed/Fall_test/Fall_007.jpg\n",
            "Copied and renamed img_232.png to /content/drive/MyDrive/image_dataset/processed/Fall_test/Fall_008.jpg\n",
            "Copied and renamed img_252.png to /content/drive/MyDrive/image_dataset/processed/Fall_test/Fall_009.jpg\n",
            "Copied and renamed img_162.png to /content/drive/MyDrive/image_dataset/processed/Fall_test/Fall_010.jpg\n",
            "Copied and renamed img_207.png to /content/drive/MyDrive/image_dataset/processed/Fall_test/Fall_011.jpg\n",
            "Copied and renamed img_225.png to /content/drive/MyDrive/image_dataset/processed/Fall_test/Fall_012.jpg\n",
            "Copied and renamed img_283.png to /content/drive/MyDrive/image_dataset/processed/Fall_test/Fall_013.jpg\n",
            "Copied and renamed img_202.png to /content/drive/MyDrive/image_dataset/processed/Fall_test/Fall_014.jpg\n",
            "Copied and renamed img_185.png to /content/drive/MyDrive/image_dataset/processed/Fall_test/Fall_015.jpg\n",
            "Copied and renamed img_267.png to /content/drive/MyDrive/image_dataset/processed/Fall_test/Fall_016.jpg\n",
            "Copied and renamed img_226.png to /content/drive/MyDrive/image_dataset/processed/Fall_test/Fall_017.jpg\n",
            "Copied and renamed img_197.png to /content/drive/MyDrive/image_dataset/processed/Fall_test/Fall_018.jpg\n",
            "Copied and renamed img_230.png to /content/drive/MyDrive/image_dataset/processed/Fall_test/Fall_019.jpg\n",
            "Copied and renamed img_177.png to /content/drive/MyDrive/image_dataset/processed/Fall_test/Fall_020.jpg\n"
          ]
        }
      ]
    },
    {
      "cell_type": "code",
      "source": [
        "from google.colab import drive\n",
        "drive.mount('/content/drive')"
      ],
      "metadata": {
        "colab": {
          "base_uri": "https://localhost:8080/"
        },
        "id": "vgufLO27YXmH",
        "outputId": "7b22d1cc-7c21-43f4-febc-51b0b429f4f5"
      },
      "execution_count": null,
      "outputs": [
        {
          "output_type": "stream",
          "name": "stdout",
          "text": [
            "Mounted at /content/drive\n"
          ]
        }
      ]
    },
    {
      "cell_type": "code",
      "source": [],
      "metadata": {
        "id": "rGWcfTVIgyVd"
      },
      "execution_count": null,
      "outputs": []
    },
    {
      "cell_type": "code",
      "source": [
        "# import cv2\n",
        "# import os\n",
        "\n",
        "# # 비디오 파일이 있는 폴더\n",
        "# video_folder = r'/content/drive/MyDrive/dataset_action_split/train/Lying Down'\n",
        "# # 이미지를 저장할 폴더\n",
        "# output_folder = r'/content/drive/MyDrive/dataset_action_split/video_to_image'\n",
        "\n",
        "# # 출력 폴더가 없으면 생성\n",
        "# if not os.path.exists(output_folder):\n",
        "#     os.makedirs(output_folder)\n",
        "\n",
        "# # 주어진 폴더에서 'video_xxx' 형식의 파일만 찾기\n",
        "# for filename in os.listdir(video_folder):\n",
        "#     if filename.startswith(\"video_\") and filename.endswith(\".avi\"):  # 'video_xxx.mp4' 형식 확인\n",
        "#         video_path = os.path.join(video_folder, filename)\n",
        "\n",
        "#         # 비디오 파일 읽기\n",
        "#         cap = cv2.VideoCapture(video_path)\n",
        "#         if not cap.isOpened():\n",
        "#             print(f\"Error opening video file: {filename}\")\n",
        "#             continue\n",
        "\n",
        "#         total_frames = int(cap.get(cv2.CAP_PROP_FRAME_COUNT))\n",
        "#         middle_frame = int(total_frames / 2)\n",
        "#         cap.set(cv2.CAP_PROP_POS_FRAMES, middle_frame)\n",
        "\n",
        "#         # 프레임 읽기\n",
        "#         ret, frame = cap.read()\n",
        "#         if ret:\n",
        "#             # 이미지 파일로 저장\n",
        "#             image_path = os.path.join(output_folder, filename.replace('.avi', '.jpg'))\n",
        "#             cv2.imwrite(image_path, frame)\n",
        "#             print(f\"Image saved at {image_path}\")\n",
        "#         else:\n",
        "#             print(f\"Error: Can't read frame from {filename}\")\n",
        "\n",
        "#         cap.release()\n"
      ],
      "metadata": {
        "id": "drPhSDQHaxHE"
      },
      "execution_count": null,
      "outputs": []
    },
    {
      "cell_type": "code",
      "source": [
        "import splitfolders\n",
        "\n",
        "seed = 1337\n",
        "\n",
        "splitfolders.ratio(r'/content/drive/MyDrive/image_dataset/processed' , output=r'/content/drive/MyDrive/image_dataset_splited',seed=seed, ratio=(0.8,0.2))"
      ],
      "metadata": {
        "colab": {
          "base_uri": "https://localhost:8080/"
        },
        "id": "EUnt1i_xNOYb",
        "outputId": "6b460fc7-d2aa-4321-9741-cebeab1e7524"
      },
      "execution_count": null,
      "outputs": [
        {
          "output_type": "stream",
          "name": "stderr",
          "text": [
            "Copying files: 400 files [00:07, 53.85 files/s]\n"
          ]
        }
      ]
    },
    {
      "cell_type": "code",
      "source": [
        "from tensorflow.keras.preprocessing.image import ImageDataGenerator"
      ],
      "metadata": {
        "id": "hpSzoVTLjGlZ"
      },
      "execution_count": 1,
      "outputs": []
    },
    {
      "cell_type": "markdown",
      "source": [
        "### **이 매개변수들은 ImageDataGenerator를 사용할 때 이미지 데이터 증강(Image Data Augmentation)을 위해 설정하는 옵션입니다. 데이터 증강은 모델의 일반화 능력을 향상시키기 위해 실제 데이터셋에 없는 이미지 변형을 생성하는 기법입니다.**\n",
        "\n",
        "1. **rescale=1./255**: 이미지의 각 픽셀 값을 0과 1 사이로 스케일링합니다. 일반적으로 이미지 픽셀 값은 0~255 사이의 값을 가지므로, 이를 255로 나누어 정규화합니다.\n",
        "\n",
        "2. **rotation_range=180**: 이미지를 무작위로 최대 180도까지 회전시킵니다. 이는 이미지가 약간 기울어진 상태에서도 패턴을 인식할 수 있게 해줍니다.\n",
        "\n",
        "3. **width_shift_range=0.2**: 이미지를 수평으로 최대 이미지 너비의 20%까지 무작위로 이동시킵니다. 이는 이미지의 위치가 다소 변해도 패턴을 인식할 수 있게 해줍니다.\n",
        "\n",
        "4. **height_shift_range=0.2**: 이미지를 수직으로 최대 이미지 높이의 20%까지 무작위로 이동시킵니다. 수직 방향의 위치 변화에도 모델이 강인하게 만듭니다.\n",
        "\n",
        "5. **shear_range=0.2**: 이미지를 시계 반대 방향으로 최대 20%까지 변형시킵니다(전단 변환). 이미지의 형태가 약간 비틀려져도 패턴을 인식할 수 있게 해줍니다.\n",
        "\n",
        "6. **zoom_range=0.2**: 이미지를 80%에서 120% 사이의 크기로 무작위로 확대/축소합니다.\n",
        "\n",
        "7. **horizontal_flip=True**: 이미지를 수평 방향으로 무작위로 뒤집습니다.\n",
        "\n",
        "8. **fill_mode='nearest**': 이미지를 회전, 이동 또는 줌할 때 생기는 빈 공간을 채우는 방법입니다. 'nearest'는 빈 공간에 가장 가까운 픽셀 값을 사용하여 채우는 방식을 의미합니다."
      ],
      "metadata": {
        "id": "gNjIMj9MIrCi"
      }
    },
    {
      "cell_type": "code",
      "source": [
        "train_datagen = ImageDataGenerator(\n",
        "    rescale=1./255,\n",
        "    rotation_range=40,\n",
        "    width_shift_range=0.2,\n",
        "    height_shift_range=0.2,\n",
        "    shear_range=0.2,\n",
        "    zoom_range=0.2,\n",
        "    horizontal_flip=True,\n",
        ")\n",
        "\n",
        "validation_datagen = ImageDataGenerator(rescale=1./255)\n",
        "test_datagen = ImageDataGenerator(rescale=1./255)"
      ],
      "metadata": {
        "id": "Qgh4HEvGH6a6"
      },
      "execution_count": 2,
      "outputs": []
    },
    {
      "cell_type": "code",
      "source": [
        "image_size = (224, 224)\n",
        "batch_size = 128\n",
        "\n",
        "# train\n",
        "train_generator = train_datagen.flow_from_directory(\n",
        "    '/content/drive/MyDrive/image_dataset_splited/train',\n",
        "    target_size=image_size,\n",
        "    batch_size=batch_size,\n",
        "    class_mode='binary'\n",
        ")\n",
        "\n",
        "# val\n",
        "validation_generator = validation_datagen.flow_from_directory(\n",
        "    '/content/drive/MyDrive/image_dataset_splited/val',\n",
        "    target_size=image_size,\n",
        "    batch_size=batch_size,\n",
        "    class_mode='binary'\n",
        ")\n",
        "\n",
        "# test\n",
        "test_generator = test_datagen.flow_from_directory(\n",
        "    '/content/drive/MyDrive/image_dataset_splited/test',  # elderly dataset(Fall, Sleep)\n",
        "    target_size=image_size,\n",
        "    batch_size=batch_size,\n",
        "    class_mode='binary',  # 이진 분류 문제\n",
        "    shuffle=False  # 평가 시에는 데이터를 섞지 않음\n",
        ")\n"
      ],
      "metadata": {
        "colab": {
          "base_uri": "https://localhost:8080/"
        },
        "id": "RGyCl9IoKLWz",
        "outputId": "2fdf92ad-28c8-41de-ef00-e760e149f428"
      },
      "execution_count": 3,
      "outputs": [
        {
          "output_type": "stream",
          "name": "stdout",
          "text": [
            "Found 320 images belonging to 2 classes.\n",
            "Found 80 images belonging to 2 classes.\n",
            "Found 40 images belonging to 2 classes.\n"
          ]
        }
      ]
    },
    {
      "cell_type": "markdown",
      "source": [
        "### Keras Models API\n",
        "[Keras](https://keras.io/api/models/model/)"
      ],
      "metadata": {
        "id": "AjpZ5kAJ-WEG"
      }
    },
    {
      "cell_type": "code",
      "source": [
        "import numpy as np\n",
        "import pandas as pd\n",
        "import matplotlib.pyplot as plt\n",
        "import tensorflow as tf\n",
        "from keras import datasets, layers, models\n",
        "import tensorflow as tf"
      ],
      "metadata": {
        "id": "cLrQY5MN97BO"
      },
      "execution_count": 4,
      "outputs": []
    },
    {
      "cell_type": "markdown",
      "source": [
        "> #### 간단한 **Squential모델**로 Stand와 Fall 분류의 정확도 파악하기"
      ],
      "metadata": {
        "id": "SDq1GxDOWZgy"
      }
    },
    {
      "cell_type": "code",
      "source": [
        "model = models.Sequential()\n",
        "model.add(layers.Conv2D(32, (3, 3), activation='relu', input_shape=(224, 224, 3)))\n",
        "model.add(layers.MaxPooling2D((2, 2)))\n",
        "model.add(layers.Conv2D(64, (3, 3), activation='relu'))\n",
        "model.add(layers.MaxPooling2D((2, 2)))\n",
        "model.add(layers.Conv2D(64, (3, 3), activation='relu'))\n",
        "model.add(layers.Flatten())\n",
        "model.add(layers.Dense(64, activation='relu'))\n",
        "# Dropout 추가\n",
        "model.add(layers.Dropout(0.5)) # 보통 0.2 - 0.5로 정하고 과적합되기 쉬울수록 비율을 높게\n",
        "model.add(layers.Dense(1, activation='sigmoid'))\n"
      ],
      "metadata": {
        "id": "37tNbrvQQEqX"
      },
      "execution_count": 15,
      "outputs": []
    },
    {
      "cell_type": "markdown",
      "source": [
        "> #### **ResNet50** model로 Stand와 Fall 분류의 정확도 파악"
      ],
      "metadata": {
        "id": "GFHxwDTjyFAe"
      }
    },
    {
      "cell_type": "code",
      "source": [
        "# from keras.applications import ResNet50\n",
        "# from keras.models import Model\n",
        "# from keras.layers import Dense, GlobalAveragePooling2D\n",
        "\n",
        "# # 사전 훈련된 ResNet50 모델 로드\n",
        "# # include_top=False로 설정하여 최상위 레이어(완전 연결 레이어)를 제외\n",
        "# base_model = ResNet50(weights='imagenet', include_top=False, input_shape=(224, 224, 3))\n",
        "\n",
        "# # 기존 모델의 출력에 새로운 레이어 추가\n",
        "# x = base_model.output\n",
        "# x = GlobalAveragePooling2D()(x)  # 특성 맵의 글로벌 평균 풀링\n",
        "# x = Dense(1024, activation='relu')(x)  # 새로운 FC 레이어\n",
        "# predictions = Dense(1, activation='sigmoid')(x)  # 최종 이진 분류 레이어\n",
        "\n",
        "# # 새로운 모델 정의\n",
        "# model = Model(inputs=base_model.input, outputs=predictions)\n"
      ],
      "metadata": {
        "id": "cUL9yiSYye8Q"
      },
      "execution_count": null,
      "outputs": []
    },
    {
      "cell_type": "code",
      "source": [
        "model.summary()"
      ],
      "metadata": {
        "colab": {
          "base_uri": "https://localhost:8080/"
        },
        "id": "nmvpdc47WQkp",
        "outputId": "86162a04-8a3f-49c5-ed14-dfc857b1af9d"
      },
      "execution_count": 16,
      "outputs": [
        {
          "output_type": "stream",
          "name": "stdout",
          "text": [
            "Model: \"sequential_2\"\n",
            "_________________________________________________________________\n",
            " Layer (type)                Output Shape              Param #   \n",
            "=================================================================\n",
            " conv2d_6 (Conv2D)           (None, 222, 222, 32)      896       \n",
            "                                                                 \n",
            " max_pooling2d_4 (MaxPoolin  (None, 111, 111, 32)      0         \n",
            " g2D)                                                            \n",
            "                                                                 \n",
            " conv2d_7 (Conv2D)           (None, 109, 109, 64)      18496     \n",
            "                                                                 \n",
            " max_pooling2d_5 (MaxPoolin  (None, 54, 54, 64)        0         \n",
            " g2D)                                                            \n",
            "                                                                 \n",
            " conv2d_8 (Conv2D)           (None, 52, 52, 64)        36928     \n",
            "                                                                 \n",
            " flatten_2 (Flatten)         (None, 173056)            0         \n",
            "                                                                 \n",
            " dense_4 (Dense)             (None, 64)                11075648  \n",
            "                                                                 \n",
            " dropout (Dropout)           (None, 64)                0         \n",
            "                                                                 \n",
            " dense_5 (Dense)             (None, 1)                 65        \n",
            "                                                                 \n",
            "=================================================================\n",
            "Total params: 11132033 (42.47 MB)\n",
            "Trainable params: 11132033 (42.47 MB)\n",
            "Non-trainable params: 0 (0.00 Byte)\n",
            "_________________________________________________________________\n"
          ]
        }
      ]
    },
    {
      "cell_type": "markdown",
      "source": [
        "### **Adam과 AdamW의 차이**\n"
      ],
      "metadata": {
        "id": "WLSQlJssreh4"
      }
    },
    {
      "cell_type": "code",
      "source": [
        "from keras.optimizers import AdamW\n",
        "model.compile(optimizer=AdamW(lr=0.001, weight_decay=0.004),\n",
        "              loss='binary_crossentropy',\n",
        "              metrics=['accuracy'])"
      ],
      "metadata": {
        "id": "lO6BtTMMWXBV",
        "colab": {
          "base_uri": "https://localhost:8080/"
        },
        "outputId": "e709e429-bce4-4284-89fc-586a9956f655"
      },
      "execution_count": 18,
      "outputs": [
        {
          "output_type": "stream",
          "name": "stderr",
          "text": [
            "WARNING:absl:`lr` is deprecated in Keras optimizer, please use `learning_rate` or use the legacy optimizer, e.g.,tf.keras.optimizers.legacy.AdamW.\n"
          ]
        }
      ]
    },
    {
      "cell_type": "code",
      "source": [
        "history = model.fit(train_generator,\n",
        "                    epochs=10,\n",
        "                    validation_data=validation_generator)"
      ],
      "metadata": {
        "colab": {
          "base_uri": "https://localhost:8080/"
        },
        "id": "Q7KTCNuAZTZ2",
        "outputId": "b926a988-6a1d-4327-b7f0-15af9db430ff"
      },
      "execution_count": 20,
      "outputs": [
        {
          "output_type": "stream",
          "name": "stdout",
          "text": [
            "Epoch 1/10\n",
            "3/3 [==============================] - 46s 12s/step - loss: 2.6901 - accuracy: 0.5312 - val_loss: 1.8884 - val_accuracy: 0.5000\n",
            "Epoch 2/10\n",
            "3/3 [==============================] - 42s 12s/step - loss: 1.3027 - accuracy: 0.4906 - val_loss: 0.6966 - val_accuracy: 0.5000\n",
            "Epoch 3/10\n",
            "3/3 [==============================] - 42s 12s/step - loss: 0.6923 - accuracy: 0.5031 - val_loss: 0.6448 - val_accuracy: 0.6000\n",
            "Epoch 4/10\n",
            "3/3 [==============================] - 43s 12s/step - loss: 0.6430 - accuracy: 0.5781 - val_loss: 0.7460 - val_accuracy: 0.6375\n",
            "Epoch 5/10\n",
            "3/3 [==============================] - 42s 12s/step - loss: 0.7414 - accuracy: 0.5813 - val_loss: 0.5700 - val_accuracy: 0.7000\n",
            "Epoch 6/10\n",
            "3/3 [==============================] - 51s 21s/step - loss: 0.6282 - accuracy: 0.7437 - val_loss: 0.5811 - val_accuracy: 0.8000\n",
            "Epoch 7/10\n",
            "3/3 [==============================] - 42s 10s/step - loss: 0.5910 - accuracy: 0.7625 - val_loss: 0.5412 - val_accuracy: 0.6625\n",
            "Epoch 8/10\n",
            "3/3 [==============================] - 40s 10s/step - loss: 0.5557 - accuracy: 0.7094 - val_loss: 2.2799 - val_accuracy: 0.5000\n",
            "Epoch 9/10\n",
            "3/3 [==============================] - 43s 12s/step - loss: 0.9054 - accuracy: 0.6500 - val_loss: 0.4327 - val_accuracy: 0.8750\n",
            "Epoch 10/10\n",
            "3/3 [==============================] - 50s 13s/step - loss: 0.5696 - accuracy: 0.7281 - val_loss: 0.6005 - val_accuracy: 0.5375\n"
          ]
        }
      ]
    },
    {
      "cell_type": "markdown",
      "source": [
        "#### **간단한 sequential model result**\n",
        "1. **adam(lr=0.0001), batch_size=128, epochs=10**<br>\n",
        "1/1 - 2s - loss: 1.1067 - accuracy: 0.5000 - 2s/epoch - 2s/step<br>\n",
        "Test accuracy: 0.5\n",
        "2. **adam(lr=0.001), batch_size=128, epochs=10**<br>\n",
        "1/1 - 2s - loss: 1.4303 - accuracy: 0.6250 - 2s/epoch - 2s/step<br>\n",
        "Test accuracy: 0.625\n",
        "3. **adam(lr=0.0001), batch_size=128, epochs=20**<br>\n",
        "1/1 - 2s - loss: 3.0042 - accuracy: 0.6000 - 2s/epoch - 2s/step<br>\n",
        "Test accuracy: 0.60\n",
        "4. **adam(lr=0.001), batch_size=128, epochs=20**<br>\n",
        "1/1 - 3s - loss: 2.3155 - accuracy: 0.4250 - 3s/epoch - 3s/step<br>\n",
        "Test accuracy: 0.42\n",
        "5. **adam(lr=0.001), batch_size=128, epochs=15**<br>\n",
        "1/1 - 2s - loss: 1.4317 - accuracy: 0.5750 - 2s/epoch - 2s/step<br>\n",
        "Test accuracy: 0.57\n",
        "6. **adamW(lr=0.001, weight_decay = 0.004), batch_size=128, epochs=10**<br>\n",
        "1/1 - 2s - loss: 0.5776 - accuracy: 0.8000 - 2s/epoch - 2s/step<br>\n",
        "Test accuracy: 0.80"
      ],
      "metadata": {
        "id": "2ezR32nYxw2F"
      }
    },
    {
      "cell_type": "code",
      "source": [
        "plt.plot(history.history['accuracy'], label='accuracy')\n",
        "plt.plot(history.history['val_accuracy'], label = 'val_accuracy')\n",
        "plt.xlabel('Epoch')\n",
        "plt.ylabel('Accuracy')\n",
        "plt.ylim([0, 1])\n",
        "plt.legend(loc='lower right')\n",
        "\n",
        "test_loss, test_acc = model.evaluate(test_generator, verbose=2)\n",
        "print('\\nTest accuracy:', test_acc)"
      ],
      "metadata": {
        "colab": {
          "base_uri": "https://localhost:8080/",
          "height": 507
        },
        "id": "T_AgdSimp2oO",
        "outputId": "9257258b-355e-4ab4-df22-7d205e82cf76"
      },
      "execution_count": 22,
      "outputs": [
        {
          "output_type": "stream",
          "name": "stdout",
          "text": [
            "1/1 - 2s - loss: 0.5776 - accuracy: 0.8000 - 2s/epoch - 2s/step\n",
            "\n",
            "Test accuracy: 0.800000011920929\n"
          ]
        },
        {
          "output_type": "display_data",
          "data": {
            "text/plain": [
              "<Figure size 640x480 with 1 Axes>"
            ],
            "image/png": "[encoded data removed]"
          },
          "metadata": {}
        }
      ]
    }
  ]
}