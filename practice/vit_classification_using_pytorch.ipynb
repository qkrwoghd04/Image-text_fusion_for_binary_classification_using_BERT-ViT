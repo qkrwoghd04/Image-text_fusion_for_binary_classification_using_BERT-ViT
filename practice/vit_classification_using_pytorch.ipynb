{
  "cells": [
    {
      "cell_type": "markdown",
      "metadata": {
        "id": "view-in-github",
        "colab_type": "text"
      },
      "source": [
        "<a href=\"https://colab.research.google.com/github/qkrwoghd04/Image-text_fusion_for_binary_classification_using_BERT-ViT/blob/master/practice/vit_classification_using_pytorch.ipynb\" target=\"_parent\"><img src=\"https://colab.research.google.com/assets/colab-badge.svg\" alt=\"Open In Colab\"/></a>"
      ]
    },
    {
      "cell_type": "code",
      "execution_count": 24,
      "metadata": {
        "colab": {
          "base_uri": "https://localhost:8080/"
        },
        "id": "m3yO_dRg4Ysu",
        "outputId": "491a8391-f559-4769-80e2-fe8841504ad9"
      },
      "outputs": [
        {
          "output_type": "stream",
          "name": "stdout",
          "text": [
            "Requirement already satisfied: torch in /usr/local/lib/python3.10/dist-packages (2.2.1+cu121)\n",
            "Requirement already satisfied: filelock in /usr/local/lib/python3.10/dist-packages (from torch) (3.14.0)\n",
            "Requirement already satisfied: typing-extensions>=4.8.0 in /usr/local/lib/python3.10/dist-packages (from torch) (4.11.0)\n",
            "Requirement already satisfied: sympy in /usr/local/lib/python3.10/dist-packages (from torch) (1.12)\n",
            "Requirement already satisfied: networkx in /usr/local/lib/python3.10/dist-packages (from torch) (3.3)\n",
            "Requirement already satisfied: jinja2 in /usr/local/lib/python3.10/dist-packages (from torch) (3.1.3)\n",
            "Requirement already satisfied: fsspec in /usr/local/lib/python3.10/dist-packages (from torch) (2023.6.0)\n",
            "Requirement already satisfied: nvidia-cuda-nvrtc-cu12==12.1.105 in /usr/local/lib/python3.10/dist-packages (from torch) (12.1.105)\n",
            "Requirement already satisfied: nvidia-cuda-runtime-cu12==12.1.105 in /usr/local/lib/python3.10/dist-packages (from torch) (12.1.105)\n",
            "Requirement already satisfied: nvidia-cuda-cupti-cu12==12.1.105 in /usr/local/lib/python3.10/dist-packages (from torch) (12.1.105)\n",
            "Requirement already satisfied: nvidia-cudnn-cu12==8.9.2.26 in /usr/local/lib/python3.10/dist-packages (from torch) (8.9.2.26)\n",
            "Requirement already satisfied: nvidia-cublas-cu12==12.1.3.1 in /usr/local/lib/python3.10/dist-packages (from torch) (12.1.3.1)\n",
            "Requirement already satisfied: nvidia-cufft-cu12==11.0.2.54 in /usr/local/lib/python3.10/dist-packages (from torch) (11.0.2.54)\n",
            "Requirement already satisfied: nvidia-curand-cu12==10.3.2.106 in /usr/local/lib/python3.10/dist-packages (from torch) (10.3.2.106)\n",
            "Requirement already satisfied: nvidia-cusolver-cu12==11.4.5.107 in /usr/local/lib/python3.10/dist-packages (from torch) (11.4.5.107)\n",
            "Requirement already satisfied: nvidia-cusparse-cu12==12.1.0.106 in /usr/local/lib/python3.10/dist-packages (from torch) (12.1.0.106)\n",
            "Requirement already satisfied: nvidia-nccl-cu12==2.19.3 in /usr/local/lib/python3.10/dist-packages (from torch) (2.19.3)\n",
            "Requirement already satisfied: nvidia-nvtx-cu12==12.1.105 in /usr/local/lib/python3.10/dist-packages (from torch) (12.1.105)\n",
            "Requirement already satisfied: triton==2.2.0 in /usr/local/lib/python3.10/dist-packages (from torch) (2.2.0)\n",
            "Requirement already satisfied: nvidia-nvjitlink-cu12 in /usr/local/lib/python3.10/dist-packages (from nvidia-cusolver-cu12==11.4.5.107->torch) (12.4.127)\n",
            "Requirement already satisfied: MarkupSafe>=2.0 in /usr/local/lib/python3.10/dist-packages (from jinja2->torch) (2.1.5)\n",
            "Requirement already satisfied: mpmath>=0.19 in /usr/local/lib/python3.10/dist-packages (from sympy->torch) (1.3.0)\n",
            "Requirement already satisfied: torchinfo in /usr/local/lib/python3.10/dist-packages (1.8.0)\n",
            "Requirement already satisfied: ray in /usr/local/lib/python3.10/dist-packages (2.20.0)\n",
            "Requirement already satisfied: click>=7.0 in /usr/local/lib/python3.10/dist-packages (from ray) (8.1.7)\n",
            "Requirement already satisfied: filelock in /usr/local/lib/python3.10/dist-packages (from ray) (3.14.0)\n",
            "Requirement already satisfied: jsonschema in /usr/local/lib/python3.10/dist-packages (from ray) (4.19.2)\n",
            "Requirement already satisfied: msgpack<2.0.0,>=1.0.0 in /usr/local/lib/python3.10/dist-packages (from ray) (1.0.8)\n",
            "Requirement already satisfied: packaging in /usr/local/lib/python3.10/dist-packages (from ray) (24.0)\n",
            "Requirement already satisfied: protobuf!=3.19.5,>=3.15.3 in /usr/local/lib/python3.10/dist-packages (from ray) (3.20.3)\n",
            "Requirement already satisfied: pyyaml in /usr/local/lib/python3.10/dist-packages (from ray) (6.0.1)\n",
            "Requirement already satisfied: aiosignal in /usr/local/lib/python3.10/dist-packages (from ray) (1.3.1)\n",
            "Requirement already satisfied: frozenlist in /usr/local/lib/python3.10/dist-packages (from ray) (1.4.1)\n",
            "Requirement already satisfied: requests in /usr/local/lib/python3.10/dist-packages (from ray) (2.31.0)\n",
            "Requirement already satisfied: attrs>=22.2.0 in /usr/local/lib/python3.10/dist-packages (from jsonschema->ray) (23.2.0)\n",
            "Requirement already satisfied: jsonschema-specifications>=2023.03.6 in /usr/local/lib/python3.10/dist-packages (from jsonschema->ray) (2023.12.1)\n",
            "Requirement already satisfied: referencing>=0.28.4 in /usr/local/lib/python3.10/dist-packages (from jsonschema->ray) (0.35.0)\n",
            "Requirement already satisfied: rpds-py>=0.7.1 in /usr/local/lib/python3.10/dist-packages (from jsonschema->ray) (0.18.0)\n",
            "Requirement already satisfied: charset-normalizer<4,>=2 in /usr/local/lib/python3.10/dist-packages (from requests->ray) (3.3.2)\n",
            "Requirement already satisfied: idna<4,>=2.5 in /usr/local/lib/python3.10/dist-packages (from requests->ray) (3.7)\n",
            "Requirement already satisfied: urllib3<3,>=1.21.1 in /usr/local/lib/python3.10/dist-packages (from requests->ray) (2.0.7)\n",
            "Requirement already satisfied: certifi>=2017.4.17 in /usr/local/lib/python3.10/dist-packages (from requests->ray) (2024.2.2)\n",
            "Requirement already satisfied: tensorboardx in /usr/local/lib/python3.10/dist-packages (2.6.2.2)\n",
            "Requirement already satisfied: numpy in /usr/local/lib/python3.10/dist-packages (from tensorboardx) (1.25.2)\n",
            "Requirement already satisfied: packaging in /usr/local/lib/python3.10/dist-packages (from tensorboardx) (24.0)\n",
            "Requirement already satisfied: protobuf>=3.20 in /usr/local/lib/python3.10/dist-packages (from tensorboardx) (3.20.3)\n"
          ]
        }
      ],
      "source": [
        "!pip install torch\n",
        "!pip install torchinfo\n",
        "!pip install ray\n",
        "!pip install -U tensorboardx"
      ]
    },
    {
      "cell_type": "code",
      "execution_count": 25,
      "metadata": {
        "id": "p5g2EH0o42Zt"
      },
      "outputs": [],
      "source": [
        "import os\n",
        "import sys\n",
        "import tempfile\n",
        "import pandas as pd\n",
        "from torch.utils.data import Dataset, DataLoader, random_split\n",
        "from torchvision.io import read_image\n",
        "# Image Classification\n",
        "import torch\n",
        "from torchvision.transforms import v2\n",
        "from torch import nn\n",
        "import torch.nn.functional as F\n",
        "from torchvision import datasets\n",
        "import argparse\n",
        "from tqdm.notebook import tqdm\n",
        "import matplotlib.pyplot as plt\n",
        "import numpy as np\n",
        "from torchinfo import summary\n",
        "from functools import partial\n",
        "import os\n",
        "from pathlib import Path\n",
        "import torchvision.transforms as transforms\n",
        "from ray import tune\n",
        "from ray import train\n",
        "from ray.train import Checkpoint, get_checkpoint, Result\n",
        "from ray.tune.schedulers import ASHAScheduler\n",
        "from ray.tune.examples.mnist_pytorch import train_mnist\n",
        "from ray.tune import ResultGrid,CLIReporter\n",
        "import ray.cloudpickle as pickle"
      ]
    },
    {
      "cell_type": "code",
      "execution_count": 26,
      "metadata": {
        "id": "pyrOgmUf5cJl"
      },
      "outputs": [],
      "source": [
        "# Training device:\n",
        "device = 'cuda'\n",
        "\n",
        "# hyperparameter\n",
        "learning_rate = 1e-4\n",
        "batch_size = 64\n",
        "epochs = 20\n",
        "# based on paper's \"attention is all you need\"\n",
        "BATCH_SIZE = 64\n",
        "PATCH_SIZE = 16\n",
        "IMAGE_WIDTH = 224\n",
        "IMAGE_HEIGHT = IMAGE_WIDTH\n",
        "IMAGE_CHANNELS = 3\n",
        "EMBEDDING_DIMS = IMAGE_CHANNELS * PATCH_SIZE**2 #(3 * 16 * 16) = 768\n",
        "NUM_OF_PATCHES = int((IMAGE_WIDTH * IMAGE_HEIGHT) / PATCH_SIZE**2) #((224*224)/"
      ]
    },
    {
      "cell_type": "code",
      "execution_count": 27,
      "metadata": {
        "id": "vmpdiuzX4wed"
      },
      "outputs": [],
      "source": [
        "class CustomImageDataset():\n",
        "  def __init__(self, csv_file, img_dir, transform=None, target_transform=None):\n",
        "        self.img_file = pd.read_csv(os.path.join(img_dir, csv_file))\n",
        "        self.img_dir = img_dir\n",
        "        self.transform = transform\n",
        "        self.target_transform = target_transform\n",
        "\n",
        "  def __len__(self):\n",
        "    return len(self.img_file)\n",
        "\n",
        "  def __getitem__(self, index):\n",
        "    # 레이블을 기반으로 서브폴더 경로 결정\n",
        "    label = self.img_file.iloc[index, 2]\n",
        "    subfolder = 'Sleep' if label == 'Sleep' else 'Fall'\n",
        "    img_path = os.path.join(self.img_dir, 'train', subfolder, self.img_file.iloc[index, 0])\n",
        "    if(label == \"Sleep\"):\n",
        "       label = 0\n",
        "    else: label = 1\n",
        "    image = read_image(img_path)\n",
        "    if self.transform:\n",
        "        image = self.transform(image)\n",
        "    if self.target_transform:\n",
        "        label = self.target_transform(label)\n",
        "\n",
        "    return image, label"
      ]
    },
    {
      "cell_type": "code",
      "execution_count": 28,
      "metadata": {
        "id": "oxIvpPtO5Kzz"
      },
      "outputs": [],
      "source": [
        "def image_transform():\n",
        "\n",
        "  H, W = 224, 224\n",
        "  img = torch.randint(0, 256, size=(3, H, W), dtype=torch.uint8)\n",
        "\n",
        "  transforms = v2.Compose([\n",
        "      v2.RandomResizedCrop(size=(224, 224), antialias=True),\n",
        "      v2.RandomPhotometricDistort(p=1),\n",
        "      v2.RandomChannelPermutation() ,# 채널 무작위 변경\n",
        "      v2.RandomHorizontalFlip(p=0.2),\n",
        "      v2.ToDtype(torch.float32, scale=True),\n",
        "      v2.Normalize(mean=[0.485, 0.456, 0.406], std=[0.229, 0.224, 0.225]),\n",
        "  ])\n",
        "\n",
        "\n",
        "  return transforms\n",
        "\n",
        "\n",
        "def visualize_data(train_dataloader):\n",
        "    # 이미지와 정답(label)을 표시합니다.\n",
        "    train_features, train_labels = next(iter(train_dataloader))\n",
        "    print(f\"Feature batch shape: {train_features.size()}\")\n",
        "    print(f\"Labels batch shape: {train_labels.size()}\")\n",
        "    img = train_features[0].squeeze()\n",
        "    label = train_labels[0]\n",
        "\n",
        "    if img.dim() == 3 and img.size(0) == 3:\n",
        "        img = img.permute(1, 2, 0)\n",
        "\n",
        "    plt.imshow(img, cmap=\"gray\")\n",
        "    plt.show()\n",
        "    print(f\"Label: {label}\")"
      ]
    },
    {
      "cell_type": "code",
      "execution_count": 29,
      "metadata": {
        "id": "qLvo88045W1T"
      },
      "outputs": [],
      "source": [
        "class PatchEmbeddingLayer(nn.Module):\n",
        "    def __init__(self, in_channels, patch_size, embedding_dim):\n",
        "        super().__init__()\n",
        "        self.patch_size = patch_size\n",
        "        self.embedding_dim = embedding_dim\n",
        "        self.in_channels = in_channels\n",
        "        self.conv_layer = nn.Conv2d(in_channels=in_channels,\n",
        "                                    out_channels=embedding_dim, kernel_size=patch_size, stride=patch_size)\n",
        "        self.flatten_layer = nn.Flatten(start_dim=1, end_dim=2)\n",
        "        self.class_token_embeddings = nn.Parameter(torch.randn(1, 1, embedding_dim), requires_grad=True)\n",
        "        self.position_embeddings = nn.Parameter(torch.randn(1, NUM_OF_PATCHES + 1, embedding_dim), requires_grad=True)\n",
        "\n",
        "    def forward(self, x):\n",
        "        batch_size = x.size(0)\n",
        "        class_token_embeddings = self.class_token_embeddings.repeat(batch_size, 1, 1)\n",
        "        x = self.conv_layer(x)\n",
        "        x = x.permute(0, 2, 3, 1)\n",
        "        x = self.flatten_layer(x)\n",
        "        x = torch.cat((class_token_embeddings, x), dim=1)\n",
        "        x = x + self.position_embeddings\n",
        "        return x"
      ]
    },
    {
      "cell_type": "code",
      "execution_count": 30,
      "metadata": {
        "id": "X-6jwasE5Zxh"
      },
      "outputs": [],
      "source": [
        "class MultiHeadSelfAttentionBlock(nn.Module):\n",
        "    def __init__(self, embedding_dims = 768, num_heads = 12, attn_dropout=0.0):\n",
        "        super().__init__()\n",
        "        self.embedding_dims = embedding_dims\n",
        "        self.num_head = num_heads\n",
        "        self.attn_dropout = attn_dropout\n",
        "        self.layernorm = nn.LayerNorm(normalized_shape = embedding_dims)\n",
        "        self.multiheadattention = nn.MultiheadAttention(num_heads = num_heads,\n",
        "                                                        embed_dim = embedding_dims,\n",
        "                                                        dropout = attn_dropout,\n",
        "                                                        batch_first = True,\n",
        "                                                        )\n",
        "    def forward(self, x):\n",
        "        x = self.layernorm(x)\n",
        "        output,_ = self.multiheadattention(query=x, key=x, value=x, need_weights=False)\n",
        "        return output"
      ]
    },
    {
      "cell_type": "code",
      "execution_count": 31,
      "metadata": {
        "id": "fmTZC8n-5iIn"
      },
      "outputs": [],
      "source": [
        "class MachineLearningPerceptronBlock(nn.Module):\n",
        "    def __init__(self, embedding_dims, mlp_size, mlp_dropout):\n",
        "        super().__init__()\n",
        "        self.embedding_dims = embedding_dims\n",
        "        self.mlp_size = mlp_size\n",
        "        self.mlp_dropout = mlp_dropout\n",
        "\n",
        "        self.layernorm = nn.LayerNorm(normalized_shape = embedding_dims)\n",
        "        self.mlp = nn.Sequential(\n",
        "            nn.Linear(in_features = embedding_dims, out_features = mlp_size),\n",
        "            nn.GELU(),\n",
        "            nn.Dropout(p = mlp_dropout),\n",
        "            nn.Linear(in_features = mlp_size, out_features = embedding_dims),\n",
        "            nn.Dropout(p = mlp_dropout)\n",
        "        )\n",
        "    def forward(self,x):\n",
        "        return self.mlp(self.layernorm(x))"
      ]
    },
    {
      "cell_type": "code",
      "execution_count": 32,
      "metadata": {
        "id": "JAKcmSVx5kpg"
      },
      "outputs": [],
      "source": [
        "class TransformerBlock(nn.Module):\n",
        "    def __init__(self, embedding_dims = 768,\n",
        "                 mlp_dropout=0.1,\n",
        "                 attn_dropout = 0.0,\n",
        "                 mlp_size = 3072,\n",
        "                 num_heads = 12,\n",
        "                 ):\n",
        "        super().__init__()\n",
        "\n",
        "        self.mas_block = MultiHeadSelfAttentionBlock(embedding_dims = embedding_dims, num_heads = num_heads, attn_dropout=attn_dropout,)\n",
        "\n",
        "        self.mlp_block = MachineLearningPerceptronBlock(embedding_dims=embedding_dims, mlp_size=mlp_size, mlp_dropout=mlp_dropout,)\n",
        "    def forward(self, x):\n",
        "        x = self.mas_block(x) + x\n",
        "        x = self.mlp_block(x) + x\n",
        "        return x"
      ]
    },
    {
      "cell_type": "code",
      "execution_count": 33,
      "metadata": {
        "id": "D0qrGCrW5nQ5"
      },
      "outputs": [],
      "source": [
        "class vit_model(nn.Module):\n",
        "    def __init__(self, img_size = 224, in_channels = 3, patch_size = 16, embedding_dims = 768, num_transformer_layers = 12, mlp_dropout = 0.1, attn_dropout = 0.0, mlp_size = 2048, num_heads = 8, num_classes = 2):\n",
        "        super().__init__()\n",
        "\n",
        "        self.patch_embedding_layer = PatchEmbeddingLayer(in_channels=in_channels, patch_size=patch_size, embedding_dim=embedding_dims)\n",
        "\n",
        "        self.transformer_encoder = nn.Sequential(*[TransformerBlock(embedding_dims = embedding_dims, mlp_dropout=mlp_dropout, attn_dropout=attn_dropout, mlp_size=mlp_size, num_heads=num_heads) for _ in range(num_transformer_layers)])\n",
        "        self.classifier = nn.Sequential(nn.LayerNorm(normalized_shape = embedding_dims), nn.Linear(in_features = embedding_dims, out_features = num_classes))\n",
        "    def forward(self, x):\n",
        "        return self.classifier(self.transformer_encoder(self.patch_embedding_layer(x))[:, 0])\n"
      ]
    },
    {
      "cell_type": "code",
      "execution_count": 34,
      "metadata": {
        "id": "70NPZuEb5poN"
      },
      "outputs": [],
      "source": [
        "def train_loop(dataloader, model, loss_fn, optimizer):\n",
        "    for epoch in range(epochs):\n",
        "        epoch_loss = 0\n",
        "        epoch_accuracy = 0\n",
        "        for data, label in tqdm(dataloader):\n",
        "            data = data.to(device)\n",
        "            label = label.to(device)\n",
        "\n",
        "            output = model(data)\n",
        "            loss = loss_fn(output, label)\n",
        "\n",
        "            optimizer.zero_grad()\n",
        "            loss.backward()\n",
        "            optimizer.step()\n",
        "\n",
        "            acc = (output.argmax(dim=1) == label).float().mean()\n",
        "            epoch_accuracy += acc / len(dataloader)\n",
        "            epoch_loss += loss / len(dataloader)\n",
        "\n",
        "        print(\n",
        "            f\"Epoch : {epoch+1} - loss : {epoch_loss:.4f} - acc: {epoch_accuracy:.4f}\\n\"\n",
        "        )"
      ]
    },
    {
      "cell_type": "code",
      "execution_count": 35,
      "metadata": {
        "id": "jIz3QHXw5vL2"
      },
      "outputs": [],
      "source": [
        "file_path = r\"/content/drive/MyDrive/image_dataset/processed/\"\n",
        "train_data_csv = \"train_captions.csv\"\n",
        "test_data_csv = \"test_captions.csv\"\n",
        "transform = image_transform()\n",
        "train_dataset = CustomImageDataset(csv_file=train_data_csv, img_dir=file_path, transform=transform,)\n",
        "# 트레이닝과 검증 데이터셋 크기 계산\n",
        "total_train = len(train_dataset)\n",
        "val_size = int(0.20 * total_train)\n",
        "train_size = total_train - val_size\n",
        "\n",
        "# 데이터셋 분할\n",
        "train_subset, val_subset = random_split(train_dataset, [train_size, val_size])\n",
        "test_dataset = CustomImageDataset(csv_file=test_data_csv, img_dir=file_path, transform=transform,)\n",
        "train_dataloader = torch.utils.data.DataLoader(train_subset, batch_size=batch_size, shuffle=True, num_workers=1)\n",
        "val_dataloader = DataLoader(val_subset, batch_size=batch_size, shuffle=True, num_workers=1)\n",
        "test_dataloader = torch.utils.data.DataLoader(test_dataset, batch_size=batch_size, shuffle=True, num_workers=1)"
      ]
    },
    {
      "cell_type": "code",
      "execution_count": 36,
      "metadata": {
        "id": "h24rmNxT7Pqu"
      },
      "outputs": [],
      "source": [
        "# visualize_data(train_dataloader)"
      ]
    },
    {
      "cell_type": "code",
      "execution_count": 37,
      "metadata": {
        "colab": {
          "base_uri": "https://localhost:8080/"
        },
        "id": "NWnvylWD8ENd",
        "outputId": "bd1860f7-9d7f-4a9b-b11f-2ac444c673d7"
      },
      "outputs": [
        {
          "output_type": "execute_result",
          "data": {
            "text/plain": [
              "=========================================================================================================\n",
              "Layer (type:depth-idx)                                  Output Shape              Param #\n",
              "=========================================================================================================\n",
              "vit_model                                               [64, 2]                   --\n",
              "├─PatchEmbeddingLayer: 1-1                              [64, 197, 768]            152,064\n",
              "│    └─Conv2d: 2-1                                      [64, 768, 14, 14]         590,592\n",
              "│    └─Flatten: 2-2                                     [64, 196, 768]            --\n",
              "├─Sequential: 1-2                                       [64, 197, 768]            --\n",
              "│    └─TransformerBlock: 2-3                            [64, 197, 768]            --\n",
              "│    │    └─MultiHeadSelfAttentionBlock: 3-1            [64, 197, 768]            2,363,904\n",
              "│    │    └─MachineLearningPerceptronBlock: 3-2         [64, 197, 768]            3,150,080\n",
              "│    └─TransformerBlock: 2-4                            [64, 197, 768]            --\n",
              "│    │    └─MultiHeadSelfAttentionBlock: 3-3            [64, 197, 768]            2,363,904\n",
              "│    │    └─MachineLearningPerceptronBlock: 3-4         [64, 197, 768]            3,150,080\n",
              "│    └─TransformerBlock: 2-5                            [64, 197, 768]            --\n",
              "│    │    └─MultiHeadSelfAttentionBlock: 3-5            [64, 197, 768]            2,363,904\n",
              "│    │    └─MachineLearningPerceptronBlock: 3-6         [64, 197, 768]            3,150,080\n",
              "│    └─TransformerBlock: 2-6                            [64, 197, 768]            --\n",
              "│    │    └─MultiHeadSelfAttentionBlock: 3-7            [64, 197, 768]            2,363,904\n",
              "│    │    └─MachineLearningPerceptronBlock: 3-8         [64, 197, 768]            3,150,080\n",
              "│    └─TransformerBlock: 2-7                            [64, 197, 768]            --\n",
              "│    │    └─MultiHeadSelfAttentionBlock: 3-9            [64, 197, 768]            2,363,904\n",
              "│    │    └─MachineLearningPerceptronBlock: 3-10        [64, 197, 768]            3,150,080\n",
              "│    └─TransformerBlock: 2-8                            [64, 197, 768]            --\n",
              "│    │    └─MultiHeadSelfAttentionBlock: 3-11           [64, 197, 768]            2,363,904\n",
              "│    │    └─MachineLearningPerceptronBlock: 3-12        [64, 197, 768]            3,150,080\n",
              "│    └─TransformerBlock: 2-9                            [64, 197, 768]            --\n",
              "│    │    └─MultiHeadSelfAttentionBlock: 3-13           [64, 197, 768]            2,363,904\n",
              "│    │    └─MachineLearningPerceptronBlock: 3-14        [64, 197, 768]            3,150,080\n",
              "│    └─TransformerBlock: 2-10                           [64, 197, 768]            --\n",
              "│    │    └─MultiHeadSelfAttentionBlock: 3-15           [64, 197, 768]            2,363,904\n",
              "│    │    └─MachineLearningPerceptronBlock: 3-16        [64, 197, 768]            3,150,080\n",
              "│    └─TransformerBlock: 2-11                           [64, 197, 768]            --\n",
              "│    │    └─MultiHeadSelfAttentionBlock: 3-17           [64, 197, 768]            2,363,904\n",
              "│    │    └─MachineLearningPerceptronBlock: 3-18        [64, 197, 768]            3,150,080\n",
              "│    └─TransformerBlock: 2-12                           [64, 197, 768]            --\n",
              "│    │    └─MultiHeadSelfAttentionBlock: 3-19           [64, 197, 768]            2,363,904\n",
              "│    │    └─MachineLearningPerceptronBlock: 3-20        [64, 197, 768]            3,150,080\n",
              "│    └─TransformerBlock: 2-13                           [64, 197, 768]            --\n",
              "│    │    └─MultiHeadSelfAttentionBlock: 3-21           [64, 197, 768]            2,363,904\n",
              "│    │    └─MachineLearningPerceptronBlock: 3-22        [64, 197, 768]            3,150,080\n",
              "│    └─TransformerBlock: 2-14                           [64, 197, 768]            --\n",
              "│    │    └─MultiHeadSelfAttentionBlock: 3-23           [64, 197, 768]            2,363,904\n",
              "│    │    └─MachineLearningPerceptronBlock: 3-24        [64, 197, 768]            3,150,080\n",
              "├─Sequential: 1-3                                       [64, 2]                   --\n",
              "│    └─LayerNorm: 2-15                                  [64, 768]                 1,536\n",
              "│    └─Linear: 2-16                                     [64, 2]                   1,538\n",
              "=========================================================================================================\n",
              "Total params: 66,913,538\n",
              "Trainable params: 66,913,538\n",
              "Non-trainable params: 0\n",
              "Total mult-adds (G): 9.83\n",
              "=========================================================================================================\n",
              "Input size (MB): 38.54\n",
              "Forward/backward pass size (MB): 5344.99\n",
              "Params size (MB): 153.65\n",
              "Estimated Total Size (MB): 5537.17\n",
              "========================================================================================================="
            ]
          },
          "metadata": {},
          "execution_count": 37
        }
      ],
      "source": [
        "device = \"cuda\" if torch.cuda.is_available() else \"cpu\"\n",
        "model = vit_model().to(device)\n",
        "summary(model, input_size=(batch_size, IMAGE_CHANNELS, IMAGE_WIDTH, IMAGE_HEIGHT))"
      ]
    },
    {
      "cell_type": "code",
      "execution_count": 38,
      "metadata": {
        "id": "I_4OWZyQ7TzY"
      },
      "outputs": [],
      "source": [
        "# loss_fn = nn.CrossEntropyLoss()\n",
        "# optimizer = torch.optim.Adam(model.parameters(), lr=learning_rate)\n",
        "# train_loop(train_dataloader, model, loss_fn, optimizer)"
      ]
    },
    {
      "cell_type": "code",
      "execution_count": 58,
      "metadata": {
        "id": "ylOQp9cSPxp4"
      },
      "outputs": [],
      "source": [
        "CHECKPOINT_FREQ = 3\n",
        "def train_func(config):\n",
        "  start = 1\n",
        "  device = \"cuda\" if torch.cuda.is_available() else \"cpu\"\n",
        "  model = vit_model().to(device)\n",
        "  loss_fn = nn.CrossEntropyLoss()\n",
        "  optimizer = torch.optim.Adam(model.parameters(), lr=config[\"lr\"])\n",
        "\n",
        "  #Define checkpoint\n",
        "  checkpoint = train.get_checkpoint()\n",
        "  if checkpoint:\n",
        "      with checkpoint.as_directory() as checkpoint_dir:\n",
        "          checkpoint_dict = torch.load(os.path.join(checkpoint_dir, \"checkpoint.pt\"))\n",
        "          start = checkpoint_dict[\"epoch\"] + 1\n",
        "          model.load_state_dict(checkpoint_dict[\"model_state\"])\n",
        "\n",
        "  train_dataloader = torch.utils.data.DataLoader(train_subset, batch_size=batch_size, shuffle=True, num_workers=1)\n",
        "  val_dataloader = DataLoader(val_subset, batch_size=batch_size, shuffle=True, num_workers=1)\n",
        "\n",
        "  #model training\n",
        "  for epoch in range(start, config[\"epochs\"] + 1):  # loop over the dataset multiple times\n",
        "      running_loss = 0.0\n",
        "      epoch_steps = 0\n",
        "      for i, data in enumerate(train_dataloader, 0):\n",
        "          # get the inputs; data is a list of [inputs, labels]\n",
        "          inputs, labels = data\n",
        "          inputs, labels = inputs.to(device), labels.to(device)\n",
        "\n",
        "          # zero the parameter gradients\n",
        "          optimizer.zero_grad()\n",
        "\n",
        "          # forward + backward + optimize\n",
        "          outputs = model(inputs)\n",
        "          loss = loss_fn(outputs, labels)\n",
        "          loss.backward()\n",
        "          optimizer.step()\n",
        "\n",
        "          # print statistics\n",
        "          running_loss += loss.item()\n",
        "          epoch_steps += 1\n",
        "          if i % 2000 == 1999:  # print every 2000 mini-batches\n",
        "              print(\"[%d, %5d] loss: %.3f\" % (epoch + 1, i + 1,\n",
        "                                                running_loss / epoch_steps))\n",
        "              running_loss = 0.0\n",
        "\n",
        "      # Validation loss\n",
        "      val_loss = 0.0\n",
        "      val_steps = 0\n",
        "      total = 0\n",
        "      correct = 0\n",
        "      for i, data in enumerate(val_dataloader, 0):\n",
        "          with torch.no_grad():\n",
        "              inputs, labels = data\n",
        "              inputs, labels = inputs.to(device), labels.to(device)\n",
        "\n",
        "              outputs = model(inputs)\n",
        "              _, predicted = torch.max(outputs.data, 1)\n",
        "              total += labels.size(0)\n",
        "              correct += (predicted == labels).sum().item()\n",
        "\n",
        "              loss = loss_fn(outputs, labels)\n",
        "              val_loss += loss.cpu().numpy()\n",
        "              val_steps += 1\n",
        "      metrics = {\n",
        "            \"loss\": running_loss / len(train_dataloader),\n",
        "            \"val_loss\": val_loss / len(val_dataloader),\n",
        "            \"mean_accuracy\": correct / total\n",
        "      }\n",
        "      if epoch % CHECKPOINT_FREQ == 0:\n",
        "            checkpoint_dict = {\n",
        "                \"model_state\": model.state_dict(),\n",
        "                \"optimizer_state\": optimizer.state_dict(),\n",
        "                \"epoch\": epoch\n",
        "            }\n",
        "            checkpoint_path = os.path.join(train.get_checkpoint_dir(), \"checkpoint.pt\")\n",
        "            torch.save(checkpoint_dict, checkpoint_path)\n",
        "            train.report(metrics, checkpoint=checkpoint_path)\n",
        "      else:\n",
        "          train.report(metrics)"
      ]
    },
    {
      "cell_type": "code",
      "execution_count": 40,
      "metadata": {
        "id": "k5VOY_rtMQu-"
      },
      "outputs": [],
      "source": [
        "def test_accuracy(model, device=\"cpu\"):\n",
        "    test_dataloader = torch.utils.data.DataLoader(test_dataset, batch_size=batch_size, shuffle=True, num_workers=1)\n",
        "    correct = 0\n",
        "    total = 0\n",
        "    with torch.no_grad():\n",
        "        for data in test_dataloader:\n",
        "            images, labels = data\n",
        "            images, labels = images.to(device), labels.to(device)\n",
        "            outputs = model(images)\n",
        "            _, predicted = torch.max(outputs.data, 1)\n",
        "            total += labels.size(0)\n",
        "            correct += (predicted == labels).sum().item()\n",
        "\n",
        "    return correct / total"
      ]
    },
    {
      "cell_type": "code",
      "execution_count": 46,
      "metadata": {
        "colab": {
          "base_uri": "https://localhost:8080/"
        },
        "id": "Ouron772Noys",
        "outputId": "46925616-cf61-4446-8b62-9d2226c8a5d4"
      },
      "outputs": [
        {
          "output_type": "stream",
          "name": "stdout",
          "text": [
            "+-----------------------------------------------------------+\n",
            "| Configuration for experiment     tune_analyzing_results   |\n",
            "+-----------------------------------------------------------+\n",
            "| Search algorithm                 BasicVariantGenerator    |\n",
            "| Scheduler                        FIFOScheduler            |\n",
            "| Number of trials                 8                        |\n",
            "+-----------------------------------------------------------+\n",
            "\n",
            "View detailed results here: /content/drive/MyDrive/ray_results/tune_analyzing_results\n",
            "To visualize your results with TensorBoard, run: `tensorboard --logdir /tmp/ray/session_2024-05-06_13-14-12_283656_9898/artifacts/2024-05-06_13-27-58/tune_analyzing_results/driver_artifacts`\n",
            "\n",
            "Trial status: 1 PENDING\n",
            "Current time: 2024-05-06 13:27:58. Total running time: 0s\n",
            "Logical resource usage: 4.0/8 CPUs, 1.0/1 GPUs (1.0/1.0 accelerator_type:T4)\n",
            "+----------------------------------------------------------------+\n",
            "| Trial name               status              lr     batch_size |\n",
            "+----------------------------------------------------------------+\n",
            "| train_func_74691_00000   PENDING    1.00821e-05             32 |\n",
            "+----------------------------------------------------------------+\n",
            "\n",
            "Trial train_func_74691_00000 started with configuration:\n",
            "+-----------------------------------------------+\n",
            "| Trial train_func_74691_00000 config           |\n",
            "+-----------------------------------------------+\n",
            "| batch_size                                 32 |\n",
            "| epochs                                     20 |\n",
            "| lr                                      1e-05 |\n",
            "+-----------------------------------------------+\n"
          ]
        },
        {
          "output_type": "stream",
          "name": "stderr",
          "text": [
            "\u001b[36m(train_func pid=15174)\u001b[0m /usr/lib/python3.10/multiprocessing/popen_fork.py:66: RuntimeWarning: os.fork() was called. os.fork() is incompatible with multithreaded code, and JAX is multithreaded, so this will likely lead to a deadlock.\n",
            "\u001b[36m(train_func pid=15174)\u001b[0m   self.pid = os.fork()\n"
          ]
        },
        {
          "output_type": "stream",
          "name": "stdout",
          "text": [
            "\n",
            "Trial status: 1 RUNNING\n",
            "Current time: 2024-05-06 13:28:28. Total running time: 30s\n",
            "Logical resource usage: 4.0/8 CPUs, 1.0/1 GPUs (1.0/1.0 accelerator_type:T4)\n",
            "Current best trial: 74691_00000 with mean_accuracy=0.625 and params={'lr': 1.0082107151605334e-05, 'batch_size': 32, 'epochs': 20}\n",
            "+----------------------------------------------------------------------------------------------------------------------------+\n",
            "| Trial name               status              lr     batch_size     acc     iter     total time (s)       loss     val_loss |\n",
            "+----------------------------------------------------------------------------------------------------------------------------+\n",
            "| train_func_74691_00000   RUNNING    1.00821e-05             32   0.625        2            25.4513   0.642763     0.623237 |\n",
            "+----------------------------------------------------------------------------------------------------------------------------+\n"
          ]
        },
        {
          "output_type": "stream",
          "name": "stderr",
          "text": [
            "\u001b[36m(train_func pid=15174)\u001b[0m Checkpoint successfully created at: Checkpoint(filesystem=local, path=/content/drive/MyDrive/ray_results/tune_analyzing_results/train_func_74691_00000_0_batch_size=32,lr=0.0000_2024-05-06_13-27-58/checkpoint_000000)\n"
          ]
        },
        {
          "output_type": "stream",
          "name": "stdout",
          "text": [
            "Trial status: 1 RUNNING\n",
            "Current time: 2024-05-06 13:28:59. Total running time: 1min 0s\n",
            "Logical resource usage: 4.0/8 CPUs, 1.0/1 GPUs (1.0/1.0 accelerator_type:T4)\n",
            "Current best trial: 74691_00000 with mean_accuracy=0.5875 and params={'lr': 1.0082107151605334e-05, 'batch_size': 32, 'epochs': 20}\n",
            "+-----------------------------------------------------------------------------------------------------------------------------+\n",
            "| Trial name               status              lr     batch_size      acc     iter     total time (s)       loss     val_loss |\n",
            "+-----------------------------------------------------------------------------------------------------------------------------+\n",
            "| train_func_74691_00000   RUNNING    1.00821e-05             32   0.5875        4            49.9956   0.648501     0.695762 |\n",
            "+-----------------------------------------------------------------------------------------------------------------------------+\n"
          ]
        },
        {
          "output_type": "stream",
          "name": "stderr",
          "text": [
            "\u001b[36m(train_func pid=15174)\u001b[0m Checkpoint successfully created at: Checkpoint(filesystem=local, path=/content/drive/MyDrive/ray_results/tune_analyzing_results/train_func_74691_00000_0_batch_size=32,lr=0.0000_2024-05-06_13-27-58/checkpoint_000001)\n"
          ]
        },
        {
          "output_type": "stream",
          "name": "stdout",
          "text": [
            "Trial status: 1 RUNNING\n",
            "Current time: 2024-05-06 13:29:29. Total running time: 1min 30s\n",
            "Logical resource usage: 4.0/8 CPUs, 1.0/1 GPUs (1.0/1.0 accelerator_type:T4)\n",
            "Current best trial: 74691_00000 with mean_accuracy=0.575 and params={'lr': 1.0082107151605334e-05, 'batch_size': 32, 'epochs': 20}\n",
            "+----------------------------------------------------------------------------------------------------------------------------+\n",
            "| Trial name               status              lr     batch_size     acc     iter     total time (s)       loss     val_loss |\n",
            "+----------------------------------------------------------------------------------------------------------------------------+\n",
            "| train_func_74691_00000   RUNNING    1.00821e-05             32   0.575        6            74.2769   0.622768     0.678835 |\n",
            "+----------------------------------------------------------------------------------------------------------------------------+\n"
          ]
        },
        {
          "output_type": "stream",
          "name": "stderr",
          "text": [
            "\u001b[36m(train_func pid=15174)\u001b[0m Checkpoint successfully created at: Checkpoint(filesystem=local, path=/content/drive/MyDrive/ray_results/tune_analyzing_results/train_func_74691_00000_0_batch_size=32,lr=0.0000_2024-05-06_13-27-58/checkpoint_000002)\n"
          ]
        },
        {
          "output_type": "stream",
          "name": "stdout",
          "text": [
            "Trial status: 1 RUNNING\n",
            "Current time: 2024-05-06 13:29:59. Total running time: 2min 0s\n",
            "Logical resource usage: 4.0/8 CPUs, 1.0/1 GPUs (1.0/1.0 accelerator_type:T4)\n",
            "Current best trial: 74691_00000 with mean_accuracy=0.6 and params={'lr': 1.0082107151605334e-05, 'batch_size': 32, 'epochs': 20}\n",
            "+----------------------------------------------------------------------------------------------------------------------------+\n",
            "| Trial name               status              lr     batch_size     acc     iter     total time (s)       loss     val_loss |\n",
            "+----------------------------------------------------------------------------------------------------------------------------+\n",
            "| train_func_74691_00000   RUNNING    1.00821e-05             32     0.6        9            110.755   0.596602     0.616686 |\n",
            "+----------------------------------------------------------------------------------------------------------------------------+\n",
            "Trial status: 1 RUNNING\n",
            "Current time: 2024-05-06 13:30:29. Total running time: 2min 30s\n",
            "Logical resource usage: 4.0/8 CPUs, 1.0/1 GPUs (1.0/1.0 accelerator_type:T4)\n",
            "Current best trial: 74691_00000 with mean_accuracy=0.575 and params={'lr': 1.0082107151605334e-05, 'batch_size': 32, 'epochs': 20}\n",
            "+----------------------------------------------------------------------------------------------------------------------------+\n",
            "| Trial name               status              lr     batch_size     acc     iter     total time (s)       loss     val_loss |\n",
            "+----------------------------------------------------------------------------------------------------------------------------+\n",
            "| train_func_74691_00000   RUNNING    1.00821e-05             32   0.575       11            135.401   0.587939     0.690501 |\n",
            "+----------------------------------------------------------------------------------------------------------------------------+\n"
          ]
        },
        {
          "output_type": "stream",
          "name": "stderr",
          "text": [
            "\u001b[36m(train_func pid=15174)\u001b[0m Checkpoint successfully created at: Checkpoint(filesystem=local, path=/content/drive/MyDrive/ray_results/tune_analyzing_results/train_func_74691_00000_0_batch_size=32,lr=0.0000_2024-05-06_13-27-58/checkpoint_000003)\n"
          ]
        },
        {
          "output_type": "stream",
          "name": "stdout",
          "text": [
            "Trial status: 1 RUNNING\n",
            "Current time: 2024-05-06 13:30:59. Total running time: 3min 0s\n",
            "Logical resource usage: 4.0/8 CPUs, 1.0/1 GPUs (1.0/1.0 accelerator_type:T4)\n",
            "Current best trial: 74691_00000 with mean_accuracy=0.7 and params={'lr': 1.0082107151605334e-05, 'batch_size': 32, 'epochs': 20}\n",
            "+----------------------------------------------------------------------------------------------------------------------------+\n",
            "| Trial name               status              lr     batch_size     acc     iter     total time (s)       loss     val_loss |\n",
            "+----------------------------------------------------------------------------------------------------------------------------+\n",
            "| train_func_74691_00000   RUNNING    1.00821e-05             32     0.7       14            172.489   0.576366     0.665532 |\n",
            "+----------------------------------------------------------------------------------------------------------------------------+\n"
          ]
        },
        {
          "output_type": "stream",
          "name": "stderr",
          "text": [
            "\u001b[36m(train_func pid=15174)\u001b[0m Checkpoint successfully created at: Checkpoint(filesystem=local, path=/content/drive/MyDrive/ray_results/tune_analyzing_results/train_func_74691_00000_0_batch_size=32,lr=0.0000_2024-05-06_13-27-58/checkpoint_000004)\n"
          ]
        },
        {
          "output_type": "stream",
          "name": "stdout",
          "text": [
            "Trial status: 1 RUNNING\n",
            "Current time: 2024-05-06 13:31:29. Total running time: 3min 30s\n",
            "Logical resource usage: 4.0/8 CPUs, 1.0/1 GPUs (1.0/1.0 accelerator_type:T4)\n",
            "Current best trial: 74691_00000 with mean_accuracy=0.7 and params={'lr': 1.0082107151605334e-05, 'batch_size': 32, 'epochs': 20}\n",
            "+---------------------------------------------------------------------------------------------------------------------------+\n",
            "| Trial name               status              lr     batch_size     acc     iter     total time (s)      loss     val_loss |\n",
            "+---------------------------------------------------------------------------------------------------------------------------+\n",
            "| train_func_74691_00000   RUNNING    1.00821e-05             32     0.7       16            197.111   0.57065      0.62788 |\n",
            "+---------------------------------------------------------------------------------------------------------------------------+\n"
          ]
        },
        {
          "output_type": "stream",
          "name": "stderr",
          "text": [
            "\u001b[36m(train_func pid=15174)\u001b[0m Checkpoint successfully created at: Checkpoint(filesystem=local, path=/content/drive/MyDrive/ray_results/tune_analyzing_results/train_func_74691_00000_0_batch_size=32,lr=0.0000_2024-05-06_13-27-58/checkpoint_000005)\n"
          ]
        },
        {
          "output_type": "stream",
          "name": "stdout",
          "text": [
            "Trial status: 1 RUNNING\n",
            "Current time: 2024-05-06 13:31:59. Total running time: 4min 0s\n",
            "Logical resource usage: 4.0/8 CPUs, 1.0/1 GPUs (1.0/1.0 accelerator_type:T4)\n",
            "Current best trial: 74691_00000 with mean_accuracy=0.6875 and params={'lr': 1.0082107151605334e-05, 'batch_size': 32, 'epochs': 20}\n",
            "+-----------------------------------------------------------------------------------------------------------------------------+\n",
            "| Trial name               status              lr     batch_size      acc     iter     total time (s)       loss     val_loss |\n",
            "+-----------------------------------------------------------------------------------------------------------------------------+\n",
            "| train_func_74691_00000   RUNNING    1.00821e-05             32   0.6875       19            234.146   0.562506     0.584344 |\n",
            "+-----------------------------------------------------------------------------------------------------------------------------+\n",
            "\n",
            "Trial train_func_74691_00000 completed after 20 iterations at 2024-05-06 13:32:09. Total running time: 4min 10s\n",
            "+-------------------------------------------------+\n",
            "| Trial train_func_74691_00000 result             |\n",
            "+-------------------------------------------------+\n",
            "| checkpoint_dir_name                             |\n",
            "| time_this_iter_s                        12.2437 |\n",
            "| time_total_s                             246.39 |\n",
            "| training_iteration                           20 |\n",
            "| loss                                    0.54026 |\n",
            "| mean_accuracy                            0.7625 |\n",
            "| val_loss                                0.64173 |\n",
            "+-------------------------------------------------+\n",
            "\n",
            "Trial train_func_74691_00001 started with configuration:\n",
            "+-----------------------------------------------+\n",
            "| Trial train_func_74691_00001 config           |\n",
            "+-----------------------------------------------+\n",
            "| batch_size                                 32 |\n",
            "| epochs                                     20 |\n",
            "| lr                                      7e-05 |\n",
            "+-----------------------------------------------+\n"
          ]
        },
        {
          "output_type": "stream",
          "name": "stderr",
          "text": [
            "\u001b[36m(train_func pid=16767)\u001b[0m /usr/lib/python3.10/multiprocessing/popen_fork.py:66: RuntimeWarning: os.fork() was called. os.fork() is incompatible with multithreaded code, and JAX is multithreaded, so this will likely lead to a deadlock.\n",
            "\u001b[36m(train_func pid=16767)\u001b[0m   self.pid = os.fork()\n"
          ]
        },
        {
          "output_type": "stream",
          "name": "stdout",
          "text": [
            "\n",
            "Trial status: 1 TERMINATED | 1 RUNNING\n",
            "Current time: 2024-05-06 13:32:29. Total running time: 4min 30s\n",
            "Logical resource usage: 4.0/8 CPUs, 1.0/1 GPUs (1.0/1.0 accelerator_type:T4)\n",
            "Current best trial: 74691_00000 with mean_accuracy=0.7625 and params={'lr': 1.0082107151605334e-05, 'batch_size': 32, 'epochs': 20}\n",
            "+-------------------------------------------------------------------------------------------------------------------------------+\n",
            "| Trial name               status                lr     batch_size      acc     iter     total time (s)       loss     val_loss |\n",
            "+-------------------------------------------------------------------------------------------------------------------------------+\n",
            "| train_func_74691_00001   RUNNING      7.43104e-05             32   0.4625        1            13.1955   1.18724      0.788089 |\n",
            "| train_func_74691_00000   TERMINATED   1.00821e-05             32   0.7625       20           246.39     0.540257     0.641729 |\n",
            "+-------------------------------------------------------------------------------------------------------------------------------+\n"
          ]
        },
        {
          "output_type": "stream",
          "name": "stderr",
          "text": [
            "\u001b[36m(train_func pid=16767)\u001b[0m Checkpoint successfully created at: Checkpoint(filesystem=local, path=/content/drive/MyDrive/ray_results/tune_analyzing_results/train_func_74691_00001_1_batch_size=32,lr=0.0001_2024-05-06_13-32-09/checkpoint_000000)\n"
          ]
        },
        {
          "output_type": "stream",
          "name": "stdout",
          "text": [
            "Trial status: 1 TERMINATED | 1 RUNNING\n",
            "Current time: 2024-05-06 13:32:59. Total running time: 5min 0s\n",
            "Logical resource usage: 4.0/8 CPUs, 1.0/1 GPUs (1.0/1.0 accelerator_type:T4)\n",
            "Current best trial: 74691_00000 with mean_accuracy=0.7625 and params={'lr': 1.0082107151605334e-05, 'batch_size': 32, 'epochs': 20}\n",
            "+-------------------------------------------------------------------------------------------------------------------------------+\n",
            "| Trial name               status                lr     batch_size      acc     iter     total time (s)       loss     val_loss |\n",
            "+-------------------------------------------------------------------------------------------------------------------------------+\n",
            "| train_func_74691_00001   RUNNING      7.43104e-05             32   0.6           3            37.7182   0.676314     0.655295 |\n",
            "| train_func_74691_00000   TERMINATED   1.00821e-05             32   0.7625       20           246.39     0.540257     0.641729 |\n",
            "+-------------------------------------------------------------------------------------------------------------------------------+\n"
          ]
        },
        {
          "output_type": "stream",
          "name": "stderr",
          "text": [
            "\u001b[36m(train_func pid=16767)\u001b[0m Checkpoint successfully created at: Checkpoint(filesystem=local, path=/content/drive/MyDrive/ray_results/tune_analyzing_results/train_func_74691_00001_1_batch_size=32,lr=0.0001_2024-05-06_13-32-09/checkpoint_000001)\n"
          ]
        },
        {
          "output_type": "stream",
          "name": "stdout",
          "text": [
            "Trial status: 1 TERMINATED | 1 RUNNING\n",
            "Current time: 2024-05-06 13:33:29. Total running time: 5min 30s\n",
            "Logical resource usage: 4.0/8 CPUs, 1.0/1 GPUs (1.0/1.0 accelerator_type:T4)\n",
            "Current best trial: 74691_00000 with mean_accuracy=0.7625 and params={'lr': 1.0082107151605334e-05, 'batch_size': 32, 'epochs': 20}\n",
            "+-------------------------------------------------------------------------------------------------------------------------------+\n",
            "| Trial name               status                lr     batch_size      acc     iter     total time (s)       loss     val_loss |\n",
            "+-------------------------------------------------------------------------------------------------------------------------------+\n",
            "| train_func_74691_00001   RUNNING      7.43104e-05             32   0.625         6            74.1285   0.626008     0.6604   |\n",
            "| train_func_74691_00000   TERMINATED   1.00821e-05             32   0.7625       20           246.39     0.540257     0.641729 |\n",
            "+-------------------------------------------------------------------------------------------------------------------------------+\n",
            "Trial status: 1 TERMINATED | 1 RUNNING\n",
            "Current time: 2024-05-06 13:33:59. Total running time: 6min 0s\n",
            "Logical resource usage: 4.0/8 CPUs, 1.0/1 GPUs (1.0/1.0 accelerator_type:T4)\n",
            "Current best trial: 74691_00000 with mean_accuracy=0.7625 and params={'lr': 1.0082107151605334e-05, 'batch_size': 32, 'epochs': 20}\n",
            "+-------------------------------------------------------------------------------------------------------------------------------+\n",
            "| Trial name               status                lr     batch_size      acc     iter     total time (s)       loss     val_loss |\n",
            "+-------------------------------------------------------------------------------------------------------------------------------+\n",
            "| train_func_74691_00001   RUNNING      7.43104e-05             32   0.5875        8            98.3761   0.6016       0.637263 |\n",
            "| train_func_74691_00000   TERMINATED   1.00821e-05             32   0.7625       20           246.39     0.540257     0.641729 |\n",
            "+-------------------------------------------------------------------------------------------------------------------------------+\n"
          ]
        },
        {
          "output_type": "stream",
          "name": "stderr",
          "text": [
            "\u001b[36m(train_func pid=16767)\u001b[0m Checkpoint successfully created at: Checkpoint(filesystem=local, path=/content/drive/MyDrive/ray_results/tune_analyzing_results/train_func_74691_00001_1_batch_size=32,lr=0.0001_2024-05-06_13-32-09/checkpoint_000002)\n"
          ]
        },
        {
          "output_type": "stream",
          "name": "stdout",
          "text": [
            "Trial status: 1 TERMINATED | 1 RUNNING\n",
            "Current time: 2024-05-06 13:34:29. Total running time: 6min 30s\n",
            "Logical resource usage: 4.0/8 CPUs, 1.0/1 GPUs (1.0/1.0 accelerator_type:T4)\n",
            "Current best trial: 74691_00000 with mean_accuracy=0.7625 and params={'lr': 1.0082107151605334e-05, 'batch_size': 32, 'epochs': 20}\n",
            "+-------------------------------------------------------------------------------------------------------------------------------+\n",
            "| Trial name               status                lr     batch_size      acc     iter     total time (s)       loss     val_loss |\n",
            "+-------------------------------------------------------------------------------------------------------------------------------+\n",
            "| train_func_74691_00001   RUNNING      7.43104e-05             32   0.65         10             122.94   0.54756      0.540926 |\n",
            "| train_func_74691_00000   TERMINATED   1.00821e-05             32   0.7625       20             246.39   0.540257     0.641729 |\n",
            "+-------------------------------------------------------------------------------------------------------------------------------+\n"
          ]
        },
        {
          "output_type": "stream",
          "name": "stderr",
          "text": [
            "\u001b[36m(train_func pid=16767)\u001b[0m Checkpoint successfully created at: Checkpoint(filesystem=local, path=/content/drive/MyDrive/ray_results/tune_analyzing_results/train_func_74691_00001_1_batch_size=32,lr=0.0001_2024-05-06_13-32-09/checkpoint_000003)\n"
          ]
        },
        {
          "output_type": "stream",
          "name": "stdout",
          "text": [
            "Trial status: 1 TERMINATED | 1 RUNNING\n",
            "Current time: 2024-05-06 13:34:59. Total running time: 7min 0s\n",
            "Logical resource usage: 4.0/8 CPUs, 1.0/1 GPUs (1.0/1.0 accelerator_type:T4)\n",
            "Current best trial: 74691_00000 with mean_accuracy=0.7625 and params={'lr': 1.0082107151605334e-05, 'batch_size': 32, 'epochs': 20}\n",
            "+-------------------------------------------------------------------------------------------------------------------------------+\n",
            "| Trial name               status                lr     batch_size      acc     iter     total time (s)       loss     val_loss |\n",
            "+-------------------------------------------------------------------------------------------------------------------------------+\n",
            "| train_func_74691_00001   RUNNING      7.43104e-05             32   0.725        13            159.991   0.504101     0.575502 |\n",
            "| train_func_74691_00000   TERMINATED   1.00821e-05             32   0.7625       20            246.39    0.540257     0.641729 |\n",
            "+-------------------------------------------------------------------------------------------------------------------------------+\n"
          ]
        },
        {
          "output_type": "stream",
          "name": "stderr",
          "text": [
            "\u001b[36m(train_func pid=16767)\u001b[0m Checkpoint successfully created at: Checkpoint(filesystem=local, path=/content/drive/MyDrive/ray_results/tune_analyzing_results/train_func_74691_00001_1_batch_size=32,lr=0.0001_2024-05-06_13-32-09/checkpoint_000004)\n"
          ]
        },
        {
          "output_type": "stream",
          "name": "stdout",
          "text": [
            "Trial status: 1 TERMINATED | 1 RUNNING\n",
            "Current time: 2024-05-06 13:35:29. Total running time: 7min 30s\n",
            "Logical resource usage: 4.0/8 CPUs, 1.0/1 GPUs (1.0/1.0 accelerator_type:T4)\n",
            "Current best trial: 74691_00000 with mean_accuracy=0.7625 and params={'lr': 1.0082107151605334e-05, 'batch_size': 32, 'epochs': 20}\n",
            "+-------------------------------------------------------------------------------------------------------------------------------+\n",
            "| Trial name               status                lr     batch_size      acc     iter     total time (s)       loss     val_loss |\n",
            "+-------------------------------------------------------------------------------------------------------------------------------+\n",
            "| train_func_74691_00001   RUNNING      7.43104e-05             32   0.7375       15            184.453   0.503036     0.497861 |\n",
            "| train_func_74691_00000   TERMINATED   1.00821e-05             32   0.7625       20            246.39    0.540257     0.641729 |\n",
            "+-------------------------------------------------------------------------------------------------------------------------------+\n"
          ]
        },
        {
          "output_type": "stream",
          "name": "stderr",
          "text": [
            "\u001b[36m(train_func pid=16767)\u001b[0m Checkpoint successfully created at: Checkpoint(filesystem=local, path=/content/drive/MyDrive/ray_results/tune_analyzing_results/train_func_74691_00001_1_batch_size=32,lr=0.0001_2024-05-06_13-32-09/checkpoint_000005)\n"
          ]
        },
        {
          "output_type": "stream",
          "name": "stdout",
          "text": [
            "Trial status: 1 TERMINATED | 1 RUNNING\n",
            "Current time: 2024-05-06 13:35:59. Total running time: 8min 1s\n",
            "Logical resource usage: 4.0/8 CPUs, 1.0/1 GPUs (1.0/1.0 accelerator_type:T4)\n",
            "Current best trial: 74691_00001 with mean_accuracy=0.7875 and params={'lr': 7.431039494458575e-05, 'batch_size': 32, 'epochs': 20}\n",
            "+-------------------------------------------------------------------------------------------------------------------------------+\n",
            "| Trial name               status                lr     batch_size      acc     iter     total time (s)       loss     val_loss |\n",
            "+-------------------------------------------------------------------------------------------------------------------------------+\n",
            "| train_func_74691_00001   RUNNING      7.43104e-05             32   0.7875       18            220.835   0.522037     0.460415 |\n",
            "| train_func_74691_00000   TERMINATED   1.00821e-05             32   0.7625       20            246.39    0.540257     0.641729 |\n",
            "+-------------------------------------------------------------------------------------------------------------------------------+\n",
            "\n",
            "Trial train_func_74691_00001 completed after 20 iterations at 2024-05-06 13:36:19. Total running time: 8min 21s\n",
            "+-------------------------------------------------+\n",
            "| Trial train_func_74691_00001 result             |\n",
            "+-------------------------------------------------+\n",
            "| checkpoint_dir_name                             |\n",
            "| time_this_iter_s                        12.1795 |\n",
            "| time_total_s                            245.199 |\n",
            "| training_iteration                           20 |\n",
            "| loss                                    0.49289 |\n",
            "| mean_accuracy                               0.7 |\n",
            "| val_loss                                0.58828 |\n",
            "+-------------------------------------------------+\n",
            "\n",
            "Trial train_func_74691_00002 started with configuration:\n",
            "+-----------------------------------------------+\n",
            "| Trial train_func_74691_00002 config           |\n",
            "+-----------------------------------------------+\n",
            "| batch_size                                 64 |\n",
            "| epochs                                     20 |\n",
            "| lr                                      6e-05 |\n",
            "+-----------------------------------------------+\n"
          ]
        },
        {
          "output_type": "stream",
          "name": "stderr",
          "text": [
            "\u001b[36m(train_func pid=18348)\u001b[0m /usr/lib/python3.10/multiprocessing/popen_fork.py:66: RuntimeWarning: os.fork() was called. os.fork() is incompatible with multithreaded code, and JAX is multithreaded, so this will likely lead to a deadlock.\n",
            "\u001b[36m(train_func pid=18348)\u001b[0m   self.pid = os.fork()\n"
          ]
        },
        {
          "output_type": "stream",
          "name": "stdout",
          "text": [
            "\n",
            "Trial status: 2 TERMINATED | 1 RUNNING\n",
            "Current time: 2024-05-06 13:36:29. Total running time: 8min 31s\n",
            "Logical resource usage: 4.0/8 CPUs, 1.0/1 GPUs (1.0/1.0 accelerator_type:T4)\n",
            "Current best trial: 74691_00000 with mean_accuracy=0.7625 and params={'lr': 1.0082107151605334e-05, 'batch_size': 32, 'epochs': 20}\n",
            "+-------------------------------------------------------------------------------------------------------------------------------+\n",
            "| Trial name               status                lr     batch_size      acc     iter     total time (s)       loss     val_loss |\n",
            "+-------------------------------------------------------------------------------------------------------------------------------+\n",
            "| train_func_74691_00002   RUNNING      5.87148e-05             64                                                              |\n",
            "| train_func_74691_00000   TERMINATED   1.00821e-05             32   0.7625       20            246.39    0.540257     0.641729 |\n",
            "| train_func_74691_00001   TERMINATED   7.43104e-05             32   0.7          20            245.199   0.49289      0.588283 |\n",
            "+-------------------------------------------------------------------------------------------------------------------------------+\n",
            "Trial status: 2 TERMINATED | 1 RUNNING\n",
            "Current time: 2024-05-06 13:36:59. Total running time: 9min 1s\n",
            "Logical resource usage: 4.0/8 CPUs, 1.0/1 GPUs (1.0/1.0 accelerator_type:T4)\n",
            "Current best trial: 74691_00000 with mean_accuracy=0.7625 and params={'lr': 1.0082107151605334e-05, 'batch_size': 32, 'epochs': 20}\n",
            "+-------------------------------------------------------------------------------------------------------------------------------+\n",
            "| Trial name               status                lr     batch_size      acc     iter     total time (s)       loss     val_loss |\n",
            "+-------------------------------------------------------------------------------------------------------------------------------+\n",
            "| train_func_74691_00002   RUNNING      5.87148e-05             64   0.5875        2            25.4224   0.894331     0.663012 |\n",
            "| train_func_74691_00000   TERMINATED   1.00821e-05             32   0.7625       20           246.39     0.540257     0.641729 |\n",
            "| train_func_74691_00001   TERMINATED   7.43104e-05             32   0.7          20           245.199    0.49289      0.588283 |\n",
            "+-------------------------------------------------------------------------------------------------------------------------------+\n"
          ]
        },
        {
          "output_type": "stream",
          "name": "stderr",
          "text": [
            "\u001b[36m(train_func pid=18348)\u001b[0m Checkpoint successfully created at: Checkpoint(filesystem=local, path=/content/drive/MyDrive/ray_results/tune_analyzing_results/train_func_74691_00002_2_batch_size=64,lr=0.0001_2024-05-06_13-36-19/checkpoint_000000)\n"
          ]
        },
        {
          "output_type": "stream",
          "name": "stdout",
          "text": [
            "Trial status: 2 TERMINATED | 1 RUNNING\n",
            "Current time: 2024-05-06 13:37:29. Total running time: 9min 31s\n",
            "Logical resource usage: 4.0/8 CPUs, 1.0/1 GPUs (1.0/1.0 accelerator_type:T4)\n",
            "Current best trial: 74691_00000 with mean_accuracy=0.7625 and params={'lr': 1.0082107151605334e-05, 'batch_size': 32, 'epochs': 20}\n",
            "+-------------------------------------------------------------------------------------------------------------------------------+\n",
            "| Trial name               status                lr     batch_size      acc     iter     total time (s)       loss     val_loss |\n",
            "+-------------------------------------------------------------------------------------------------------------------------------+\n",
            "| train_func_74691_00002   RUNNING      5.87148e-05             64   0.55          5            62.2008   0.651615     0.681285 |\n",
            "| train_func_74691_00000   TERMINATED   1.00821e-05             32   0.7625       20           246.39     0.540257     0.641729 |\n",
            "| train_func_74691_00001   TERMINATED   7.43104e-05             32   0.7          20           245.199    0.49289      0.588283 |\n",
            "+-------------------------------------------------------------------------------------------------------------------------------+\n"
          ]
        },
        {
          "output_type": "stream",
          "name": "stderr",
          "text": [
            "\u001b[36m(train_func pid=18348)\u001b[0m Checkpoint successfully created at: Checkpoint(filesystem=local, path=/content/drive/MyDrive/ray_results/tune_analyzing_results/train_func_74691_00002_2_batch_size=64,lr=0.0001_2024-05-06_13-36-19/checkpoint_000001)\n"
          ]
        },
        {
          "output_type": "stream",
          "name": "stdout",
          "text": [
            "Trial status: 2 TERMINATED | 1 RUNNING\n",
            "Current time: 2024-05-06 13:38:00. Total running time: 10min 1s\n",
            "Logical resource usage: 4.0/8 CPUs, 1.0/1 GPUs (1.0/1.0 accelerator_type:T4)\n",
            "Current best trial: 74691_00000 with mean_accuracy=0.7625 and params={'lr': 1.0082107151605334e-05, 'batch_size': 32, 'epochs': 20}\n",
            "+-------------------------------------------------------------------------------------------------------------------------------+\n",
            "| Trial name               status                lr     batch_size      acc     iter     total time (s)       loss     val_loss |\n",
            "+-------------------------------------------------------------------------------------------------------------------------------+\n",
            "| train_func_74691_00002   RUNNING      5.87148e-05             64   0.525         7            86.6169   0.623529     0.687574 |\n",
            "| train_func_74691_00000   TERMINATED   1.00821e-05             32   0.7625       20           246.39     0.540257     0.641729 |\n",
            "| train_func_74691_00001   TERMINATED   7.43104e-05             32   0.7          20           245.199    0.49289      0.588283 |\n",
            "+-------------------------------------------------------------------------------------------------------------------------------+\n"
          ]
        },
        {
          "output_type": "stream",
          "name": "stderr",
          "text": [
            "\u001b[36m(train_func pid=18348)\u001b[0m Checkpoint successfully created at: Checkpoint(filesystem=local, path=/content/drive/MyDrive/ray_results/tune_analyzing_results/train_func_74691_00002_2_batch_size=64,lr=0.0001_2024-05-06_13-36-19/checkpoint_000002)\n"
          ]
        },
        {
          "output_type": "stream",
          "name": "stdout",
          "text": [
            "Trial status: 2 TERMINATED | 1 RUNNING\n",
            "Current time: 2024-05-06 13:38:30. Total running time: 10min 31s\n",
            "Logical resource usage: 4.0/8 CPUs, 1.0/1 GPUs (1.0/1.0 accelerator_type:T4)\n",
            "Current best trial: 74691_00000 with mean_accuracy=0.7625 and params={'lr': 1.0082107151605334e-05, 'batch_size': 32, 'epochs': 20}\n",
            "+-------------------------------------------------------------------------------------------------------------------------------+\n",
            "| Trial name               status                lr     batch_size      acc     iter     total time (s)       loss     val_loss |\n",
            "+-------------------------------------------------------------------------------------------------------------------------------+\n",
            "| train_func_74691_00002   RUNNING      5.87148e-05             64   0.525        10            123.378   0.625832     0.647986 |\n",
            "| train_func_74691_00000   TERMINATED   1.00821e-05             32   0.7625       20            246.39    0.540257     0.641729 |\n",
            "| train_func_74691_00001   TERMINATED   7.43104e-05             32   0.7          20            245.199   0.49289      0.588283 |\n",
            "+-------------------------------------------------------------------------------------------------------------------------------+\n"
          ]
        },
        {
          "output_type": "stream",
          "name": "stderr",
          "text": [
            "\u001b[36m(train_func pid=18348)\u001b[0m Checkpoint successfully created at: Checkpoint(filesystem=local, path=/content/drive/MyDrive/ray_results/tune_analyzing_results/train_func_74691_00002_2_batch_size=64,lr=0.0001_2024-05-06_13-36-19/checkpoint_000003)\n"
          ]
        },
        {
          "output_type": "stream",
          "name": "stdout",
          "text": [
            "Trial status: 2 TERMINATED | 1 RUNNING\n",
            "Current time: 2024-05-06 13:39:00. Total running time: 11min 1s\n",
            "Logical resource usage: 4.0/8 CPUs, 1.0/1 GPUs (1.0/1.0 accelerator_type:T4)\n",
            "Current best trial: 74691_00000 with mean_accuracy=0.7625 and params={'lr': 1.0082107151605334e-05, 'batch_size': 32, 'epochs': 20}\n",
            "+-------------------------------------------------------------------------------------------------------------------------------+\n",
            "| Trial name               status                lr     batch_size      acc     iter     total time (s)       loss     val_loss |\n",
            "+-------------------------------------------------------------------------------------------------------------------------------+\n",
            "| train_func_74691_00002   RUNNING      5.87148e-05             64   0.6625       12            147.785   0.579124     0.632731 |\n",
            "| train_func_74691_00000   TERMINATED   1.00821e-05             32   0.7625       20            246.39    0.540257     0.641729 |\n",
            "| train_func_74691_00001   TERMINATED   7.43104e-05             32   0.7          20            245.199   0.49289      0.588283 |\n",
            "+-------------------------------------------------------------------------------------------------------------------------------+\n"
          ]
        },
        {
          "output_type": "stream",
          "name": "stderr",
          "text": [
            "\u001b[36m(train_func pid=18348)\u001b[0m Checkpoint successfully created at: Checkpoint(filesystem=local, path=/content/drive/MyDrive/ray_results/tune_analyzing_results/train_func_74691_00002_2_batch_size=64,lr=0.0001_2024-05-06_13-36-19/checkpoint_000004)\n"
          ]
        },
        {
          "output_type": "stream",
          "name": "stdout",
          "text": [
            "Trial status: 2 TERMINATED | 1 RUNNING\n",
            "Current time: 2024-05-06 13:39:30. Total running time: 11min 31s\n",
            "Logical resource usage: 4.0/8 CPUs, 1.0/1 GPUs (1.0/1.0 accelerator_type:T4)\n",
            "Current best trial: 74691_00000 with mean_accuracy=0.7625 and params={'lr': 1.0082107151605334e-05, 'batch_size': 32, 'epochs': 20}\n",
            "+-------------------------------------------------------------------------------------------------------------------------------+\n",
            "| Trial name               status                lr     batch_size      acc     iter     total time (s)       loss     val_loss |\n",
            "+-------------------------------------------------------------------------------------------------------------------------------+\n",
            "| train_func_74691_00002   RUNNING      5.87148e-05             64   0.6125       15            184.493   0.571382     0.632625 |\n",
            "| train_func_74691_00000   TERMINATED   1.00821e-05             32   0.7625       20            246.39    0.540257     0.641729 |\n",
            "| train_func_74691_00001   TERMINATED   7.43104e-05             32   0.7          20            245.199   0.49289      0.588283 |\n",
            "+-------------------------------------------------------------------------------------------------------------------------------+\n",
            "Trial status: 2 TERMINATED | 1 RUNNING\n",
            "Current time: 2024-05-06 13:40:00. Total running time: 12min 1s\n",
            "Logical resource usage: 4.0/8 CPUs, 1.0/1 GPUs (1.0/1.0 accelerator_type:T4)\n",
            "Current best trial: 74691_00000 with mean_accuracy=0.7625 and params={'lr': 1.0082107151605334e-05, 'batch_size': 32, 'epochs': 20}\n",
            "+-------------------------------------------------------------------------------------------------------------------------------+\n",
            "| Trial name               status                lr     batch_size      acc     iter     total time (s)       loss     val_loss |\n",
            "+-------------------------------------------------------------------------------------------------------------------------------+\n",
            "| train_func_74691_00002   RUNNING      5.87148e-05             64   0.6875       17            208.929   0.555062     0.598586 |\n",
            "| train_func_74691_00000   TERMINATED   1.00821e-05             32   0.7625       20            246.39    0.540257     0.641729 |\n",
            "| train_func_74691_00001   TERMINATED   7.43104e-05             32   0.7          20            245.199   0.49289      0.588283 |\n",
            "+-------------------------------------------------------------------------------------------------------------------------------+\n"
          ]
        },
        {
          "output_type": "stream",
          "name": "stderr",
          "text": [
            "\u001b[36m(train_func pid=18348)\u001b[0m Checkpoint successfully created at: Checkpoint(filesystem=local, path=/content/drive/MyDrive/ray_results/tune_analyzing_results/train_func_74691_00002_2_batch_size=64,lr=0.0001_2024-05-06_13-36-19/checkpoint_000005)\n"
          ]
        },
        {
          "output_type": "stream",
          "name": "stdout",
          "text": [
            "\n",
            "Trial train_func_74691_00002 completed after 20 iterations at 2024-05-06 13:40:30. Total running time: 12min 31s\n",
            "+-------------------------------------------------+\n",
            "| Trial train_func_74691_00002 result             |\n",
            "+-------------------------------------------------+\n",
            "| checkpoint_dir_name                             |\n",
            "| time_this_iter_s                        12.1237 |\n",
            "| time_total_s                            245.474 |\n",
            "| training_iteration                           20 |\n",
            "| loss                                     0.5139 |\n",
            "| mean_accuracy                               0.7 |\n",
            "| val_loss                                0.58619 |\n",
            "+-------------------------------------------------+\n",
            "\n",
            "Trial status: 3 TERMINATED | 1 PENDING\n",
            "Current time: 2024-05-06 13:40:30. Total running time: 12min 31s\n",
            "Logical resource usage: 0/8 CPUs, 0/1 GPUs (0.0/1.0 accelerator_type:T4)\n",
            "Current best trial: 74691_00000 with mean_accuracy=0.7625 and params={'lr': 1.0082107151605334e-05, 'batch_size': 32, 'epochs': 20}\n",
            "+-------------------------------------------------------------------------------------------------------------------------------+\n",
            "| Trial name               status                lr     batch_size      acc     iter     total time (s)       loss     val_loss |\n",
            "+-------------------------------------------------------------------------------------------------------------------------------+\n",
            "| train_func_74691_00000   TERMINATED   1.00821e-05             32   0.7625       20            246.39    0.540257     0.641729 |\n",
            "| train_func_74691_00001   TERMINATED   7.43104e-05             32   0.7          20            245.199   0.49289      0.588283 |\n",
            "| train_func_74691_00002   TERMINATED   5.87148e-05             64   0.7          20            245.474   0.513903     0.586188 |\n",
            "| train_func_74691_00003   PENDING      7.60115e-05             32                                                              |\n",
            "+-------------------------------------------------------------------------------------------------------------------------------+\n",
            "\n",
            "Trial train_func_74691_00003 started with configuration:\n",
            "+-----------------------------------------------+\n",
            "| Trial train_func_74691_00003 config           |\n",
            "+-----------------------------------------------+\n",
            "| batch_size                                 32 |\n",
            "| epochs                                     20 |\n",
            "| lr                                      8e-05 |\n",
            "+-----------------------------------------------+\n"
          ]
        },
        {
          "output_type": "stream",
          "name": "stderr",
          "text": [
            "\u001b[36m(train_func pid=19931)\u001b[0m /usr/lib/python3.10/multiprocessing/popen_fork.py:66: RuntimeWarning: os.fork() was called. os.fork() is incompatible with multithreaded code, and JAX is multithreaded, so this will likely lead to a deadlock.\n",
            "\u001b[36m(train_func pid=19931)\u001b[0m   self.pid = os.fork()\n"
          ]
        },
        {
          "output_type": "stream",
          "name": "stdout",
          "text": [
            "\n",
            "Trial status: 3 TERMINATED | 1 RUNNING\n",
            "Current time: 2024-05-06 13:41:00. Total running time: 13min 1s\n",
            "Logical resource usage: 4.0/8 CPUs, 1.0/1 GPUs (1.0/1.0 accelerator_type:T4)\n",
            "Current best trial: 74691_00000 with mean_accuracy=0.7625 and params={'lr': 1.0082107151605334e-05, 'batch_size': 32, 'epochs': 20}\n",
            "+-------------------------------------------------------------------------------------------------------------------------------+\n",
            "| Trial name               status                lr     batch_size      acc     iter     total time (s)       loss     val_loss |\n",
            "+-------------------------------------------------------------------------------------------------------------------------------+\n",
            "| train_func_74691_00003   RUNNING      7.60115e-05             32   0.4875        2            25.3523   0.786051     0.764761 |\n",
            "| train_func_74691_00000   TERMINATED   1.00821e-05             32   0.7625       20           246.39     0.540257     0.641729 |\n",
            "| train_func_74691_00001   TERMINATED   7.43104e-05             32   0.7          20           245.199    0.49289      0.588283 |\n",
            "| train_func_74691_00002   TERMINATED   5.87148e-05             64   0.7          20           245.474    0.513903     0.586188 |\n",
            "+-------------------------------------------------------------------------------------------------------------------------------+\n"
          ]
        },
        {
          "output_type": "stream",
          "name": "stderr",
          "text": [
            "\u001b[36m(train_func pid=19931)\u001b[0m Checkpoint successfully created at: Checkpoint(filesystem=local, path=/content/drive/MyDrive/ray_results/tune_analyzing_results/train_func_74691_00003_3_batch_size=32,lr=0.0001_2024-05-06_13-40-30/checkpoint_000000)\n"
          ]
        },
        {
          "output_type": "stream",
          "name": "stdout",
          "text": [
            "Trial status: 3 TERMINATED | 1 RUNNING\n",
            "Current time: 2024-05-06 13:41:30. Total running time: 13min 31s\n",
            "Logical resource usage: 4.0/8 CPUs, 1.0/1 GPUs (1.0/1.0 accelerator_type:T4)\n",
            "Current best trial: 74691_00000 with mean_accuracy=0.7625 and params={'lr': 1.0082107151605334e-05, 'batch_size': 32, 'epochs': 20}\n",
            "+-------------------------------------------------------------------------------------------------------------------------------+\n",
            "| Trial name               status                lr     batch_size      acc     iter     total time (s)       loss     val_loss |\n",
            "+-------------------------------------------------------------------------------------------------------------------------------+\n",
            "| train_func_74691_00003   RUNNING      7.60115e-05             32   0.5125        4            50.1129   0.691663     0.66214  |\n",
            "| train_func_74691_00000   TERMINATED   1.00821e-05             32   0.7625       20           246.39     0.540257     0.641729 |\n",
            "| train_func_74691_00001   TERMINATED   7.43104e-05             32   0.7          20           245.199    0.49289      0.588283 |\n",
            "| train_func_74691_00002   TERMINATED   5.87148e-05             64   0.7          20           245.474    0.513903     0.586188 |\n",
            "+-------------------------------------------------------------------------------------------------------------------------------+\n"
          ]
        },
        {
          "output_type": "stream",
          "name": "stderr",
          "text": [
            "\u001b[36m(train_func pid=19931)\u001b[0m Checkpoint successfully created at: Checkpoint(filesystem=local, path=/content/drive/MyDrive/ray_results/tune_analyzing_results/train_func_74691_00003_3_batch_size=32,lr=0.0001_2024-05-06_13-40-30/checkpoint_000001)\n"
          ]
        },
        {
          "output_type": "stream",
          "name": "stdout",
          "text": [
            "Trial status: 3 TERMINATED | 1 RUNNING\n",
            "Current time: 2024-05-06 13:42:00. Total running time: 14min 1s\n",
            "Logical resource usage: 4.0/8 CPUs, 1.0/1 GPUs (1.0/1.0 accelerator_type:T4)\n",
            "Current best trial: 74691_00000 with mean_accuracy=0.7625 and params={'lr': 1.0082107151605334e-05, 'batch_size': 32, 'epochs': 20}\n",
            "+-------------------------------------------------------------------------------------------------------------------------------+\n",
            "| Trial name               status                lr     batch_size      acc     iter     total time (s)       loss     val_loss |\n",
            "+-------------------------------------------------------------------------------------------------------------------------------+\n",
            "| train_func_74691_00003   RUNNING      7.60115e-05             32   0.5875        6            74.7253   0.608856     0.67321  |\n",
            "| train_func_74691_00000   TERMINATED   1.00821e-05             32   0.7625       20           246.39     0.540257     0.641729 |\n",
            "| train_func_74691_00001   TERMINATED   7.43104e-05             32   0.7          20           245.199    0.49289      0.588283 |\n",
            "| train_func_74691_00002   TERMINATED   5.87148e-05             64   0.7          20           245.474    0.513903     0.586188 |\n",
            "+-------------------------------------------------------------------------------------------------------------------------------+\n"
          ]
        },
        {
          "output_type": "stream",
          "name": "stderr",
          "text": [
            "\u001b[36m(train_func pid=19931)\u001b[0m Checkpoint successfully created at: Checkpoint(filesystem=local, path=/content/drive/MyDrive/ray_results/tune_analyzing_results/train_func_74691_00003_3_batch_size=32,lr=0.0001_2024-05-06_13-40-30/checkpoint_000002)\n"
          ]
        },
        {
          "output_type": "stream",
          "name": "stdout",
          "text": [
            "Trial status: 3 TERMINATED | 1 RUNNING\n",
            "Current time: 2024-05-06 13:42:30. Total running time: 14min 31s\n",
            "Logical resource usage: 4.0/8 CPUs, 1.0/1 GPUs (1.0/1.0 accelerator_type:T4)\n",
            "Current best trial: 74691_00000 with mean_accuracy=0.7625 and params={'lr': 1.0082107151605334e-05, 'batch_size': 32, 'epochs': 20}\n",
            "+-------------------------------------------------------------------------------------------------------------------------------+\n",
            "| Trial name               status                lr     batch_size      acc     iter     total time (s)       loss     val_loss |\n",
            "+-------------------------------------------------------------------------------------------------------------------------------+\n",
            "| train_func_74691_00003   RUNNING      7.60115e-05             32   0.6125        9            111.706   0.626129     0.661931 |\n",
            "| train_func_74691_00000   TERMINATED   1.00821e-05             32   0.7625       20            246.39    0.540257     0.641729 |\n",
            "| train_func_74691_00001   TERMINATED   7.43104e-05             32   0.7          20            245.199   0.49289      0.588283 |\n",
            "| train_func_74691_00002   TERMINATED   5.87148e-05             64   0.7          20            245.474   0.513903     0.586188 |\n",
            "+-------------------------------------------------------------------------------------------------------------------------------+\n",
            "Trial status: 3 TERMINATED | 1 RUNNING\n",
            "Current time: 2024-05-06 13:43:00. Total running time: 15min 1s\n",
            "Logical resource usage: 4.0/8 CPUs, 1.0/1 GPUs (1.0/1.0 accelerator_type:T4)\n",
            "Current best trial: 74691_00000 with mean_accuracy=0.7625 and params={'lr': 1.0082107151605334e-05, 'batch_size': 32, 'epochs': 20}\n",
            "+-------------------------------------------------------------------------------------------------------------------------------+\n",
            "| Trial name               status                lr     batch_size      acc     iter     total time (s)       loss     val_loss |\n",
            "+-------------------------------------------------------------------------------------------------------------------------------+\n",
            "| train_func_74691_00003   RUNNING      7.60115e-05             32   0.6625       11            136.26    0.615813     0.694363 |\n",
            "| train_func_74691_00000   TERMINATED   1.00821e-05             32   0.7625       20            246.39    0.540257     0.641729 |\n",
            "| train_func_74691_00001   TERMINATED   7.43104e-05             32   0.7          20            245.199   0.49289      0.588283 |\n",
            "| train_func_74691_00002   TERMINATED   5.87148e-05             64   0.7          20            245.474   0.513903     0.586188 |\n",
            "+-------------------------------------------------------------------------------------------------------------------------------+\n"
          ]
        },
        {
          "output_type": "stream",
          "name": "stderr",
          "text": [
            "\u001b[36m(train_func pid=19931)\u001b[0m Checkpoint successfully created at: Checkpoint(filesystem=local, path=/content/drive/MyDrive/ray_results/tune_analyzing_results/train_func_74691_00003_3_batch_size=32,lr=0.0001_2024-05-06_13-40-30/checkpoint_000003)\n"
          ]
        },
        {
          "output_type": "stream",
          "name": "stdout",
          "text": [
            "Trial status: 3 TERMINATED | 1 RUNNING\n",
            "Current time: 2024-05-06 13:43:30. Total running time: 15min 31s\n",
            "Logical resource usage: 4.0/8 CPUs, 1.0/1 GPUs (1.0/1.0 accelerator_type:T4)\n",
            "Current best trial: 74691_00000 with mean_accuracy=0.7625 and params={'lr': 1.0082107151605334e-05, 'batch_size': 32, 'epochs': 20}\n",
            "+-------------------------------------------------------------------------------------------------------------------------------+\n",
            "| Trial name               status                lr     batch_size      acc     iter     total time (s)       loss     val_loss |\n",
            "+-------------------------------------------------------------------------------------------------------------------------------+\n",
            "| train_func_74691_00003   RUNNING      7.60115e-05             32   0.6375       14            173.497   0.579888     0.561397 |\n",
            "| train_func_74691_00000   TERMINATED   1.00821e-05             32   0.7625       20            246.39    0.540257     0.641729 |\n",
            "| train_func_74691_00001   TERMINATED   7.43104e-05             32   0.7          20            245.199   0.49289      0.588283 |\n",
            "| train_func_74691_00002   TERMINATED   5.87148e-05             64   0.7          20            245.474   0.513903     0.586188 |\n",
            "+-------------------------------------------------------------------------------------------------------------------------------+\n"
          ]
        },
        {
          "output_type": "stream",
          "name": "stderr",
          "text": [
            "\u001b[36m(train_func pid=19931)\u001b[0m Checkpoint successfully created at: Checkpoint(filesystem=local, path=/content/drive/MyDrive/ray_results/tune_analyzing_results/train_func_74691_00003_3_batch_size=32,lr=0.0001_2024-05-06_13-40-30/checkpoint_000004)\n"
          ]
        },
        {
          "output_type": "stream",
          "name": "stdout",
          "text": [
            "Trial status: 3 TERMINATED | 1 RUNNING\n",
            "Current time: 2024-05-06 13:44:00. Total running time: 16min 1s\n",
            "Logical resource usage: 4.0/8 CPUs, 1.0/1 GPUs (1.0/1.0 accelerator_type:T4)\n",
            "Current best trial: 74691_00000 with mean_accuracy=0.7625 and params={'lr': 1.0082107151605334e-05, 'batch_size': 32, 'epochs': 20}\n",
            "+-------------------------------------------------------------------------------------------------------------------------------+\n",
            "| Trial name               status                lr     batch_size      acc     iter     total time (s)       loss     val_loss |\n",
            "+-------------------------------------------------------------------------------------------------------------------------------+\n",
            "| train_func_74691_00003   RUNNING      7.60115e-05             32   0.7          16            198.217   0.556312     0.573201 |\n",
            "| train_func_74691_00000   TERMINATED   1.00821e-05             32   0.7625       20            246.39    0.540257     0.641729 |\n",
            "| train_func_74691_00001   TERMINATED   7.43104e-05             32   0.7          20            245.199   0.49289      0.588283 |\n",
            "| train_func_74691_00002   TERMINATED   5.87148e-05             64   0.7          20            245.474   0.513903     0.586188 |\n",
            "+-------------------------------------------------------------------------------------------------------------------------------+\n"
          ]
        },
        {
          "output_type": "stream",
          "name": "stderr",
          "text": [
            "\u001b[36m(train_func pid=19931)\u001b[0m Checkpoint successfully created at: Checkpoint(filesystem=local, path=/content/drive/MyDrive/ray_results/tune_analyzing_results/train_func_74691_00003_3_batch_size=32,lr=0.0001_2024-05-06_13-40-30/checkpoint_000005)\n"
          ]
        },
        {
          "output_type": "stream",
          "name": "stdout",
          "text": [
            "Trial status: 3 TERMINATED | 1 RUNNING\n",
            "Current time: 2024-05-06 13:44:30. Total running time: 16min 31s\n",
            "Logical resource usage: 4.0/8 CPUs, 1.0/1 GPUs (1.0/1.0 accelerator_type:T4)\n",
            "Current best trial: 74691_00000 with mean_accuracy=0.7625 and params={'lr': 1.0082107151605334e-05, 'batch_size': 32, 'epochs': 20}\n",
            "+-------------------------------------------------------------------------------------------------------------------------------+\n",
            "| Trial name               status                lr     batch_size      acc     iter     total time (s)       loss     val_loss |\n",
            "+-------------------------------------------------------------------------------------------------------------------------------+\n",
            "| train_func_74691_00003   RUNNING      7.60115e-05             32   0.75         19            235.37    0.528926     0.528495 |\n",
            "| train_func_74691_00000   TERMINATED   1.00821e-05             32   0.7625       20            246.39    0.540257     0.641729 |\n",
            "| train_func_74691_00001   TERMINATED   7.43104e-05             32   0.7          20            245.199   0.49289      0.588283 |\n",
            "| train_func_74691_00002   TERMINATED   5.87148e-05             64   0.7          20            245.474   0.513903     0.586188 |\n",
            "+-------------------------------------------------------------------------------------------------------------------------------+\n",
            "\n",
            "Trial train_func_74691_00003 completed after 20 iterations at 2024-05-06 13:44:42. Total running time: 16min 43s\n",
            "+-------------------------------------------------+\n",
            "| Trial train_func_74691_00003 result             |\n",
            "+-------------------------------------------------+\n",
            "| checkpoint_dir_name                             |\n",
            "| time_this_iter_s                        12.4085 |\n",
            "| time_total_s                            247.778 |\n",
            "| training_iteration                           20 |\n",
            "| loss                                    0.52536 |\n",
            "| mean_accuracy                            0.7375 |\n",
            "| val_loss                                0.51721 |\n",
            "+-------------------------------------------------+\n",
            "\n",
            "Trial train_func_74691_00004 started with configuration:\n",
            "+-----------------------------------------------+\n",
            "| Trial train_func_74691_00004 config           |\n",
            "+-----------------------------------------------+\n",
            "| batch_size                                 32 |\n",
            "| epochs                                     20 |\n",
            "| lr                                      7e-05 |\n",
            "+-----------------------------------------------+\n"
          ]
        },
        {
          "output_type": "stream",
          "name": "stderr",
          "text": [
            "\u001b[36m(train_func pid=21525)\u001b[0m /usr/lib/python3.10/multiprocessing/popen_fork.py:66: RuntimeWarning: os.fork() was called. os.fork() is incompatible with multithreaded code, and JAX is multithreaded, so this will likely lead to a deadlock.\n",
            "\u001b[36m(train_func pid=21525)\u001b[0m   self.pid = os.fork()\n"
          ]
        },
        {
          "output_type": "stream",
          "name": "stdout",
          "text": [
            "\n",
            "Trial status: 4 TERMINATED | 1 RUNNING\n",
            "Current time: 2024-05-06 13:45:00. Total running time: 17min 1s\n",
            "Logical resource usage: 4.0/8 CPUs, 1.0/1 GPUs (1.0/1.0 accelerator_type:T4)\n",
            "Current best trial: 74691_00000 with mean_accuracy=0.7625 and params={'lr': 1.0082107151605334e-05, 'batch_size': 32, 'epochs': 20}\n",
            "+-------------------------------------------------------------------------------------------------------------------------------+\n",
            "| Trial name               status                lr     batch_size      acc     iter     total time (s)       loss     val_loss |\n",
            "+-------------------------------------------------------------------------------------------------------------------------------+\n",
            "| train_func_74691_00004   RUNNING      6.61608e-05             32                                                              |\n",
            "| train_func_74691_00000   TERMINATED   1.00821e-05             32   0.7625       20            246.39    0.540257     0.641729 |\n",
            "| train_func_74691_00001   TERMINATED   7.43104e-05             32   0.7          20            245.199   0.49289      0.588283 |\n",
            "| train_func_74691_00002   TERMINATED   5.87148e-05             64   0.7          20            245.474   0.513903     0.586188 |\n",
            "| train_func_74691_00003   TERMINATED   7.60115e-05             32   0.7375       20            247.778   0.525355     0.517206 |\n",
            "+-------------------------------------------------------------------------------------------------------------------------------+\n"
          ]
        },
        {
          "output_type": "stream",
          "name": "stderr",
          "text": [
            "\u001b[36m(train_func pid=21525)\u001b[0m Checkpoint successfully created at: Checkpoint(filesystem=local, path=/content/drive/MyDrive/ray_results/tune_analyzing_results/train_func_74691_00004_4_batch_size=32,lr=0.0001_2024-05-06_13-44-42/checkpoint_000000)\n"
          ]
        },
        {
          "output_type": "stream",
          "name": "stdout",
          "text": [
            "Trial status: 4 TERMINATED | 1 RUNNING\n",
            "Current time: 2024-05-06 13:45:30. Total running time: 17min 31s\n",
            "Logical resource usage: 4.0/8 CPUs, 1.0/1 GPUs (1.0/1.0 accelerator_type:T4)\n",
            "Current best trial: 74691_00000 with mean_accuracy=0.7625 and params={'lr': 1.0082107151605334e-05, 'batch_size': 32, 'epochs': 20}\n",
            "+-------------------------------------------------------------------------------------------------------------------------------+\n",
            "| Trial name               status                lr     batch_size      acc     iter     total time (s)       loss     val_loss |\n",
            "+-------------------------------------------------------------------------------------------------------------------------------+\n",
            "| train_func_74691_00004   RUNNING      6.61608e-05             32   0.625         3            38.1587   0.731405     0.715849 |\n",
            "| train_func_74691_00000   TERMINATED   1.00821e-05             32   0.7625       20           246.39     0.540257     0.641729 |\n",
            "| train_func_74691_00001   TERMINATED   7.43104e-05             32   0.7          20           245.199    0.49289      0.588283 |\n",
            "| train_func_74691_00002   TERMINATED   5.87148e-05             64   0.7          20           245.474    0.513903     0.586188 |\n",
            "| train_func_74691_00003   TERMINATED   7.60115e-05             32   0.7375       20           247.778    0.525355     0.517206 |\n",
            "+-------------------------------------------------------------------------------------------------------------------------------+\n",
            "Trial status: 4 TERMINATED | 1 RUNNING\n",
            "Current time: 2024-05-06 13:46:00. Total running time: 18min 2s\n",
            "Logical resource usage: 4.0/8 CPUs, 1.0/1 GPUs (1.0/1.0 accelerator_type:T4)\n",
            "Current best trial: 74691_00000 with mean_accuracy=0.7625 and params={'lr': 1.0082107151605334e-05, 'batch_size': 32, 'epochs': 20}\n",
            "+-------------------------------------------------------------------------------------------------------------------------------+\n",
            "| Trial name               status                lr     batch_size      acc     iter     total time (s)       loss     val_loss |\n",
            "+-------------------------------------------------------------------------------------------------------------------------------+\n",
            "| train_func_74691_00004   RUNNING      6.61608e-05             32   0.575         5            62.7947   0.621495     0.639341 |\n",
            "| train_func_74691_00000   TERMINATED   1.00821e-05             32   0.7625       20           246.39     0.540257     0.641729 |\n",
            "| train_func_74691_00001   TERMINATED   7.43104e-05             32   0.7          20           245.199    0.49289      0.588283 |\n",
            "| train_func_74691_00002   TERMINATED   5.87148e-05             64   0.7          20           245.474    0.513903     0.586188 |\n",
            "| train_func_74691_00003   TERMINATED   7.60115e-05             32   0.7375       20           247.778    0.525355     0.517206 |\n",
            "+-------------------------------------------------------------------------------------------------------------------------------+\n"
          ]
        },
        {
          "output_type": "stream",
          "name": "stderr",
          "text": [
            "\u001b[36m(train_func pid=21525)\u001b[0m Checkpoint successfully created at: Checkpoint(filesystem=local, path=/content/drive/MyDrive/ray_results/tune_analyzing_results/train_func_74691_00004_4_batch_size=32,lr=0.0001_2024-05-06_13-44-42/checkpoint_000001)\n"
          ]
        },
        {
          "output_type": "stream",
          "name": "stdout",
          "text": [
            "Trial status: 4 TERMINATED | 1 RUNNING\n",
            "Current time: 2024-05-06 13:46:30. Total running time: 18min 32s\n",
            "Logical resource usage: 4.0/8 CPUs, 1.0/1 GPUs (1.0/1.0 accelerator_type:T4)\n",
            "Current best trial: 74691_00000 with mean_accuracy=0.7625 and params={'lr': 1.0082107151605334e-05, 'batch_size': 32, 'epochs': 20}\n",
            "+-------------------------------------------------------------------------------------------------------------------------------+\n",
            "| Trial name               status                lr     batch_size      acc     iter     total time (s)       loss     val_loss |\n",
            "+-------------------------------------------------------------------------------------------------------------------------------+\n",
            "| train_func_74691_00004   RUNNING      6.61608e-05             32   0.575         8             99.805   0.628481     0.694976 |\n",
            "| train_func_74691_00000   TERMINATED   1.00821e-05             32   0.7625       20            246.39    0.540257     0.641729 |\n",
            "| train_func_74691_00001   TERMINATED   7.43104e-05             32   0.7          20            245.199   0.49289      0.588283 |\n",
            "| train_func_74691_00002   TERMINATED   5.87148e-05             64   0.7          20            245.474   0.513903     0.586188 |\n",
            "| train_func_74691_00003   TERMINATED   7.60115e-05             32   0.7375       20            247.778   0.525355     0.517206 |\n",
            "+-------------------------------------------------------------------------------------------------------------------------------+\n"
          ]
        },
        {
          "output_type": "stream",
          "name": "stderr",
          "text": [
            "\u001b[36m(train_func pid=21525)\u001b[0m Checkpoint successfully created at: Checkpoint(filesystem=local, path=/content/drive/MyDrive/ray_results/tune_analyzing_results/train_func_74691_00004_4_batch_size=32,lr=0.0001_2024-05-06_13-44-42/checkpoint_000002)\n"
          ]
        },
        {
          "output_type": "stream",
          "name": "stdout",
          "text": [
            "Trial status: 4 TERMINATED | 1 RUNNING\n",
            "Current time: 2024-05-06 13:47:00. Total running time: 19min 2s\n",
            "Logical resource usage: 4.0/8 CPUs, 1.0/1 GPUs (1.0/1.0 accelerator_type:T4)\n",
            "Current best trial: 74691_00000 with mean_accuracy=0.7625 and params={'lr': 1.0082107151605334e-05, 'batch_size': 32, 'epochs': 20}\n",
            "+-------------------------------------------------------------------------------------------------------------------------------+\n",
            "| Trial name               status                lr     batch_size      acc     iter     total time (s)       loss     val_loss |\n",
            "+-------------------------------------------------------------------------------------------------------------------------------+\n",
            "| train_func_74691_00004   RUNNING      6.61608e-05             32   0.55         10            124.581   0.588475     0.644847 |\n",
            "| train_func_74691_00000   TERMINATED   1.00821e-05             32   0.7625       20            246.39    0.540257     0.641729 |\n",
            "| train_func_74691_00001   TERMINATED   7.43104e-05             32   0.7          20            245.199   0.49289      0.588283 |\n",
            "| train_func_74691_00002   TERMINATED   5.87148e-05             64   0.7          20            245.474   0.513903     0.586188 |\n",
            "| train_func_74691_00003   TERMINATED   7.60115e-05             32   0.7375       20            247.778   0.525355     0.517206 |\n",
            "+-------------------------------------------------------------------------------------------------------------------------------+\n"
          ]
        },
        {
          "output_type": "stream",
          "name": "stderr",
          "text": [
            "\u001b[36m(train_func pid=21525)\u001b[0m Checkpoint successfully created at: Checkpoint(filesystem=local, path=/content/drive/MyDrive/ray_results/tune_analyzing_results/train_func_74691_00004_4_batch_size=32,lr=0.0001_2024-05-06_13-44-42/checkpoint_000003)\n"
          ]
        },
        {
          "output_type": "stream",
          "name": "stdout",
          "text": [
            "Trial status: 4 TERMINATED | 1 RUNNING\n",
            "Current time: 2024-05-06 13:47:30. Total running time: 19min 32s\n",
            "Logical resource usage: 4.0/8 CPUs, 1.0/1 GPUs (1.0/1.0 accelerator_type:T4)\n",
            "Current best trial: 74691_00000 with mean_accuracy=0.7625 and params={'lr': 1.0082107151605334e-05, 'batch_size': 32, 'epochs': 20}\n",
            "+-------------------------------------------------------------------------------------------------------------------------------+\n",
            "| Trial name               status                lr     batch_size      acc     iter     total time (s)       loss     val_loss |\n",
            "+-------------------------------------------------------------------------------------------------------------------------------+\n",
            "| train_func_74691_00004   RUNNING      6.61608e-05             32   0.6875       13            161.774   0.566096     0.681486 |\n",
            "| train_func_74691_00000   TERMINATED   1.00821e-05             32   0.7625       20            246.39    0.540257     0.641729 |\n",
            "| train_func_74691_00001   TERMINATED   7.43104e-05             32   0.7          20            245.199   0.49289      0.588283 |\n",
            "| train_func_74691_00002   TERMINATED   5.87148e-05             64   0.7          20            245.474   0.513903     0.586188 |\n",
            "| train_func_74691_00003   TERMINATED   7.60115e-05             32   0.7375       20            247.778   0.525355     0.517206 |\n",
            "+-------------------------------------------------------------------------------------------------------------------------------+\n"
          ]
        },
        {
          "output_type": "stream",
          "name": "stderr",
          "text": [
            "\u001b[36m(train_func pid=21525)\u001b[0m Checkpoint successfully created at: Checkpoint(filesystem=local, path=/content/drive/MyDrive/ray_results/tune_analyzing_results/train_func_74691_00004_4_batch_size=32,lr=0.0001_2024-05-06_13-44-42/checkpoint_000004)\n"
          ]
        },
        {
          "output_type": "stream",
          "name": "stdout",
          "text": [
            "Trial status: 4 TERMINATED | 1 RUNNING\n",
            "Current time: 2024-05-06 13:48:01. Total running time: 20min 2s\n",
            "Logical resource usage: 4.0/8 CPUs, 1.0/1 GPUs (1.0/1.0 accelerator_type:T4)\n",
            "Current best trial: 74691_00000 with mean_accuracy=0.7625 and params={'lr': 1.0082107151605334e-05, 'batch_size': 32, 'epochs': 20}\n",
            "+-------------------------------------------------------------------------------------------------------------------------------+\n",
            "| Trial name               status                lr     batch_size      acc     iter     total time (s)       loss     val_loss |\n",
            "+-------------------------------------------------------------------------------------------------------------------------------+\n",
            "| train_func_74691_00004   RUNNING      6.61608e-05             32   0.7125       15            186.515   0.561827     0.57864  |\n",
            "| train_func_74691_00000   TERMINATED   1.00821e-05             32   0.7625       20            246.39    0.540257     0.641729 |\n",
            "| train_func_74691_00001   TERMINATED   7.43104e-05             32   0.7          20            245.199   0.49289      0.588283 |\n",
            "| train_func_74691_00002   TERMINATED   5.87148e-05             64   0.7          20            245.474   0.513903     0.586188 |\n",
            "| train_func_74691_00003   TERMINATED   7.60115e-05             32   0.7375       20            247.778   0.525355     0.517206 |\n",
            "+-------------------------------------------------------------------------------------------------------------------------------+\n",
            "Trial status: 4 TERMINATED | 1 RUNNING\n",
            "Current time: 2024-05-06 13:48:31. Total running time: 20min 32s\n",
            "Logical resource usage: 4.0/8 CPUs, 1.0/1 GPUs (1.0/1.0 accelerator_type:T4)\n",
            "Current best trial: 74691_00000 with mean_accuracy=0.7625 and params={'lr': 1.0082107151605334e-05, 'batch_size': 32, 'epochs': 20}\n",
            "+-------------------------------------------------------------------------------------------------------------------------------+\n",
            "| Trial name               status                lr     batch_size      acc     iter     total time (s)       loss     val_loss |\n",
            "+-------------------------------------------------------------------------------------------------------------------------------+\n",
            "| train_func_74691_00004   RUNNING      6.61608e-05             32   0.6875       17            211.509   0.542395     0.651586 |\n",
            "| train_func_74691_00000   TERMINATED   1.00821e-05             32   0.7625       20            246.39    0.540257     0.641729 |\n",
            "| train_func_74691_00001   TERMINATED   7.43104e-05             32   0.7          20            245.199   0.49289      0.588283 |\n",
            "| train_func_74691_00002   TERMINATED   5.87148e-05             64   0.7          20            245.474   0.513903     0.586188 |\n",
            "| train_func_74691_00003   TERMINATED   7.60115e-05             32   0.7375       20            247.778   0.525355     0.517206 |\n",
            "+-------------------------------------------------------------------------------------------------------------------------------+\n"
          ]
        },
        {
          "output_type": "stream",
          "name": "stderr",
          "text": [
            "\u001b[36m(train_func pid=21525)\u001b[0m Checkpoint successfully created at: Checkpoint(filesystem=local, path=/content/drive/MyDrive/ray_results/tune_analyzing_results/train_func_74691_00004_4_batch_size=32,lr=0.0001_2024-05-06_13-44-42/checkpoint_000005)\n"
          ]
        },
        {
          "output_type": "stream",
          "name": "stdout",
          "text": [
            "\n",
            "Trial train_func_74691_00004 completed after 20 iterations at 2024-05-06 13:48:56. Total running time: 20min 57s\n",
            "+-------------------------------------------------+\n",
            "| Trial train_func_74691_00004 result             |\n",
            "+-------------------------------------------------+\n",
            "| checkpoint_dir_name                             |\n",
            "| time_this_iter_s                        12.2441 |\n",
            "| time_total_s                            248.356 |\n",
            "| training_iteration                           20 |\n",
            "| loss                                    0.53754 |\n",
            "| mean_accuracy                              0.65 |\n",
            "| val_loss                                0.58561 |\n",
            "+-------------------------------------------------+\n",
            "\n",
            "Trial train_func_74691_00005 started with configuration:\n",
            "+-----------------------------------------------+\n",
            "| Trial train_func_74691_00005 config           |\n",
            "+-----------------------------------------------+\n",
            "| batch_size                                 32 |\n",
            "| epochs                                     20 |\n",
            "| lr                                      2e-05 |\n",
            "+-----------------------------------------------+\n",
            "\n",
            "Trial status: 5 TERMINATED | 1 RUNNING\n",
            "Current time: 2024-05-06 13:49:01. Total running time: 21min 2s\n",
            "Logical resource usage: 4.0/8 CPUs, 1.0/1 GPUs (1.0/1.0 accelerator_type:T4)\n",
            "Current best trial: 74691_00000 with mean_accuracy=0.7625 and params={'lr': 1.0082107151605334e-05, 'batch_size': 32, 'epochs': 20}\n",
            "+-------------------------------------------------------------------------------------------------------------------------------+\n",
            "| Trial name               status                lr     batch_size      acc     iter     total time (s)       loss     val_loss |\n",
            "+-------------------------------------------------------------------------------------------------------------------------------+\n",
            "| train_func_74691_00005   RUNNING      2.03388e-05             32                                                              |\n",
            "| train_func_74691_00000   TERMINATED   1.00821e-05             32   0.7625       20            246.39    0.540257     0.641729 |\n",
            "| train_func_74691_00001   TERMINATED   7.43104e-05             32   0.7          20            245.199   0.49289      0.588283 |\n",
            "| train_func_74691_00002   TERMINATED   5.87148e-05             64   0.7          20            245.474   0.513903     0.586188 |\n",
            "| train_func_74691_00003   TERMINATED   7.60115e-05             32   0.7375       20            247.778   0.525355     0.517206 |\n",
            "| train_func_74691_00004   TERMINATED   6.61608e-05             32   0.65         20            248.356   0.537545     0.585613 |\n",
            "+-------------------------------------------------------------------------------------------------------------------------------+\n"
          ]
        },
        {
          "output_type": "stream",
          "name": "stderr",
          "text": [
            "\u001b[36m(train_func pid=23118)\u001b[0m /usr/lib/python3.10/multiprocessing/popen_fork.py:66: RuntimeWarning: os.fork() was called. os.fork() is incompatible with multithreaded code, and JAX is multithreaded, so this will likely lead to a deadlock.\n",
            "\u001b[36m(train_func pid=23118)\u001b[0m   self.pid = os.fork()\n"
          ]
        },
        {
          "output_type": "stream",
          "name": "stdout",
          "text": [
            "Trial status: 5 TERMINATED | 1 RUNNING\n",
            "Current time: 2024-05-06 13:49:31. Total running time: 21min 32s\n",
            "Logical resource usage: 4.0/8 CPUs, 1.0/1 GPUs (1.0/1.0 accelerator_type:T4)\n",
            "Current best trial: 74691_00000 with mean_accuracy=0.7625 and params={'lr': 1.0082107151605334e-05, 'batch_size': 32, 'epochs': 20}\n",
            "+-------------------------------------------------------------------------------------------------------------------------------+\n",
            "| Trial name               status                lr     batch_size      acc     iter     total time (s)       loss     val_loss |\n",
            "+-------------------------------------------------------------------------------------------------------------------------------+\n",
            "| train_func_74691_00005   RUNNING      2.03388e-05             32   0.45          2            25.5143   0.776268     0.743548 |\n",
            "| train_func_74691_00000   TERMINATED   1.00821e-05             32   0.7625       20           246.39     0.540257     0.641729 |\n",
            "| train_func_74691_00001   TERMINATED   7.43104e-05             32   0.7          20           245.199    0.49289      0.588283 |\n",
            "| train_func_74691_00002   TERMINATED   5.87148e-05             64   0.7          20           245.474    0.513903     0.586188 |\n",
            "| train_func_74691_00003   TERMINATED   7.60115e-05             32   0.7375       20           247.778    0.525355     0.517206 |\n",
            "| train_func_74691_00004   TERMINATED   6.61608e-05             32   0.65         20           248.356    0.537545     0.585613 |\n",
            "+-------------------------------------------------------------------------------------------------------------------------------+\n"
          ]
        },
        {
          "output_type": "stream",
          "name": "stderr",
          "text": [
            "\u001b[36m(train_func pid=23118)\u001b[0m Checkpoint successfully created at: Checkpoint(filesystem=local, path=/content/drive/MyDrive/ray_results/tune_analyzing_results/train_func_74691_00005_5_batch_size=32,lr=0.0000_2024-05-06_13-48-56/checkpoint_000000)\n"
          ]
        },
        {
          "output_type": "stream",
          "name": "stdout",
          "text": [
            "Trial status: 5 TERMINATED | 1 RUNNING\n",
            "Current time: 2024-05-06 13:50:01. Total running time: 22min 2s\n",
            "Logical resource usage: 4.0/8 CPUs, 1.0/1 GPUs (1.0/1.0 accelerator_type:T4)\n",
            "Current best trial: 74691_00000 with mean_accuracy=0.7625 and params={'lr': 1.0082107151605334e-05, 'batch_size': 32, 'epochs': 20}\n",
            "+-------------------------------------------------------------------------------------------------------------------------------+\n",
            "| Trial name               status                lr     batch_size      acc     iter     total time (s)       loss     val_loss |\n",
            "+-------------------------------------------------------------------------------------------------------------------------------+\n",
            "| train_func_74691_00005   RUNNING      2.03388e-05             32   0.525         4             49.938   0.632498     0.667241 |\n",
            "| train_func_74691_00000   TERMINATED   1.00821e-05             32   0.7625       20            246.39    0.540257     0.641729 |\n",
            "| train_func_74691_00001   TERMINATED   7.43104e-05             32   0.7          20            245.199   0.49289      0.588283 |\n",
            "| train_func_74691_00002   TERMINATED   5.87148e-05             64   0.7          20            245.474   0.513903     0.586188 |\n",
            "| train_func_74691_00003   TERMINATED   7.60115e-05             32   0.7375       20            247.778   0.525355     0.517206 |\n",
            "| train_func_74691_00004   TERMINATED   6.61608e-05             32   0.65         20            248.356   0.537545     0.585613 |\n",
            "+-------------------------------------------------------------------------------------------------------------------------------+\n"
          ]
        },
        {
          "output_type": "stream",
          "name": "stderr",
          "text": [
            "\u001b[36m(train_func pid=23118)\u001b[0m Checkpoint successfully created at: Checkpoint(filesystem=local, path=/content/drive/MyDrive/ray_results/tune_analyzing_results/train_func_74691_00005_5_batch_size=32,lr=0.0000_2024-05-06_13-48-56/checkpoint_000001)\n"
          ]
        },
        {
          "output_type": "stream",
          "name": "stdout",
          "text": [
            "Trial status: 5 TERMINATED | 1 RUNNING\n",
            "Current time: 2024-05-06 13:50:31. Total running time: 22min 32s\n",
            "Logical resource usage: 4.0/8 CPUs, 1.0/1 GPUs (1.0/1.0 accelerator_type:T4)\n",
            "Current best trial: 74691_00000 with mean_accuracy=0.7625 and params={'lr': 1.0082107151605334e-05, 'batch_size': 32, 'epochs': 20}\n",
            "+-------------------------------------------------------------------------------------------------------------------------------+\n",
            "| Trial name               status                lr     batch_size      acc     iter     total time (s)       loss     val_loss |\n",
            "+-------------------------------------------------------------------------------------------------------------------------------+\n",
            "| train_func_74691_00005   RUNNING      2.03388e-05             32   0.5625        7            86.8855   0.588542     0.70768  |\n",
            "| train_func_74691_00000   TERMINATED   1.00821e-05             32   0.7625       20           246.39     0.540257     0.641729 |\n",
            "| train_func_74691_00001   TERMINATED   7.43104e-05             32   0.7          20           245.199    0.49289      0.588283 |\n",
            "| train_func_74691_00002   TERMINATED   5.87148e-05             64   0.7          20           245.474    0.513903     0.586188 |\n",
            "| train_func_74691_00003   TERMINATED   7.60115e-05             32   0.7375       20           247.778    0.525355     0.517206 |\n",
            "| train_func_74691_00004   TERMINATED   6.61608e-05             32   0.65         20           248.356    0.537545     0.585613 |\n",
            "+-------------------------------------------------------------------------------------------------------------------------------+\n"
          ]
        },
        {
          "output_type": "stream",
          "name": "stderr",
          "text": [
            "\u001b[36m(train_func pid=23118)\u001b[0m Checkpoint successfully created at: Checkpoint(filesystem=local, path=/content/drive/MyDrive/ray_results/tune_analyzing_results/train_func_74691_00005_5_batch_size=32,lr=0.0000_2024-05-06_13-48-56/checkpoint_000002)\n"
          ]
        },
        {
          "output_type": "stream",
          "name": "stdout",
          "text": [
            "Trial status: 5 TERMINATED | 1 RUNNING\n",
            "Current time: 2024-05-06 13:51:01. Total running time: 23min 2s\n",
            "Logical resource usage: 4.0/8 CPUs, 1.0/1 GPUs (1.0/1.0 accelerator_type:T4)\n",
            "Current best trial: 74691_00000 with mean_accuracy=0.7625 and params={'lr': 1.0082107151605334e-05, 'batch_size': 32, 'epochs': 20}\n",
            "+-------------------------------------------------------------------------------------------------------------------------------+\n",
            "| Trial name               status                lr     batch_size      acc     iter     total time (s)       loss     val_loss |\n",
            "+-------------------------------------------------------------------------------------------------------------------------------+\n",
            "| train_func_74691_00005   RUNNING      2.03388e-05             32   0.5875        9            111.563   0.55628      0.660261 |\n",
            "| train_func_74691_00000   TERMINATED   1.00821e-05             32   0.7625       20            246.39    0.540257     0.641729 |\n",
            "| train_func_74691_00001   TERMINATED   7.43104e-05             32   0.7          20            245.199   0.49289      0.588283 |\n",
            "| train_func_74691_00002   TERMINATED   5.87148e-05             64   0.7          20            245.474   0.513903     0.586188 |\n",
            "| train_func_74691_00003   TERMINATED   7.60115e-05             32   0.7375       20            247.778   0.525355     0.517206 |\n",
            "| train_func_74691_00004   TERMINATED   6.61608e-05             32   0.65         20            248.356   0.537545     0.585613 |\n",
            "+-------------------------------------------------------------------------------------------------------------------------------+\n"
          ]
        },
        {
          "output_type": "stream",
          "name": "stderr",
          "text": [
            "\u001b[36m(train_func pid=23118)\u001b[0m Checkpoint successfully created at: Checkpoint(filesystem=local, path=/content/drive/MyDrive/ray_results/tune_analyzing_results/train_func_74691_00005_5_batch_size=32,lr=0.0000_2024-05-06_13-48-56/checkpoint_000003)\n"
          ]
        },
        {
          "output_type": "stream",
          "name": "stdout",
          "text": [
            "Trial status: 5 TERMINATED | 1 RUNNING\n",
            "Current time: 2024-05-06 13:51:31. Total running time: 23min 32s\n",
            "Logical resource usage: 4.0/8 CPUs, 1.0/1 GPUs (1.0/1.0 accelerator_type:T4)\n",
            "Current best trial: 74691_00000 with mean_accuracy=0.7625 and params={'lr': 1.0082107151605334e-05, 'batch_size': 32, 'epochs': 20}\n",
            "+-------------------------------------------------------------------------------------------------------------------------------+\n",
            "| Trial name               status                lr     batch_size      acc     iter     total time (s)       loss     val_loss |\n",
            "+-------------------------------------------------------------------------------------------------------------------------------+\n",
            "| train_func_74691_00005   RUNNING      2.03388e-05             32   0.675        12            148.404   0.575805     0.55166  |\n",
            "| train_func_74691_00000   TERMINATED   1.00821e-05             32   0.7625       20            246.39    0.540257     0.641729 |\n",
            "| train_func_74691_00001   TERMINATED   7.43104e-05             32   0.7          20            245.199   0.49289      0.588283 |\n",
            "| train_func_74691_00002   TERMINATED   5.87148e-05             64   0.7          20            245.474   0.513903     0.586188 |\n",
            "| train_func_74691_00003   TERMINATED   7.60115e-05             32   0.7375       20            247.778   0.525355     0.517206 |\n",
            "| train_func_74691_00004   TERMINATED   6.61608e-05             32   0.65         20            248.356   0.537545     0.585613 |\n",
            "+-------------------------------------------------------------------------------------------------------------------------------+\n",
            "Trial status: 5 TERMINATED | 1 RUNNING\n",
            "Current time: 2024-05-06 13:52:01. Total running time: 24min 2s\n",
            "Logical resource usage: 4.0/8 CPUs, 1.0/1 GPUs (1.0/1.0 accelerator_type:T4)\n",
            "Current best trial: 74691_00000 with mean_accuracy=0.7625 and params={'lr': 1.0082107151605334e-05, 'batch_size': 32, 'epochs': 20}\n",
            "+-------------------------------------------------------------------------------------------------------------------------------+\n",
            "| Trial name               status                lr     batch_size      acc     iter     total time (s)       loss     val_loss |\n",
            "+-------------------------------------------------------------------------------------------------------------------------------+\n",
            "| train_func_74691_00005   RUNNING      2.03388e-05             32   0.7          14            172.635   0.584847     0.632298 |\n",
            "| train_func_74691_00000   TERMINATED   1.00821e-05             32   0.7625       20            246.39    0.540257     0.641729 |\n",
            "| train_func_74691_00001   TERMINATED   7.43104e-05             32   0.7          20            245.199   0.49289      0.588283 |\n",
            "| train_func_74691_00002   TERMINATED   5.87148e-05             64   0.7          20            245.474   0.513903     0.586188 |\n",
            "| train_func_74691_00003   TERMINATED   7.60115e-05             32   0.7375       20            247.778   0.525355     0.517206 |\n",
            "| train_func_74691_00004   TERMINATED   6.61608e-05             32   0.65         20            248.356   0.537545     0.585613 |\n",
            "+-------------------------------------------------------------------------------------------------------------------------------+\n"
          ]
        },
        {
          "output_type": "stream",
          "name": "stderr",
          "text": [
            "\u001b[36m(train_func pid=23118)\u001b[0m Checkpoint successfully created at: Checkpoint(filesystem=local, path=/content/drive/MyDrive/ray_results/tune_analyzing_results/train_func_74691_00005_5_batch_size=32,lr=0.0000_2024-05-06_13-48-56/checkpoint_000004)\n"
          ]
        },
        {
          "output_type": "stream",
          "name": "stdout",
          "text": [
            "Trial status: 5 TERMINATED | 1 RUNNING\n",
            "Current time: 2024-05-06 13:52:31. Total running time: 24min 32s\n",
            "Logical resource usage: 4.0/8 CPUs, 1.0/1 GPUs (1.0/1.0 accelerator_type:T4)\n",
            "Current best trial: 74691_00000 with mean_accuracy=0.7625 and params={'lr': 1.0082107151605334e-05, 'batch_size': 32, 'epochs': 20}\n",
            "+-------------------------------------------------------------------------------------------------------------------------------+\n",
            "| Trial name               status                lr     batch_size      acc     iter     total time (s)       loss     val_loss |\n",
            "+-------------------------------------------------------------------------------------------------------------------------------+\n",
            "| train_func_74691_00005   RUNNING      2.03388e-05             32   0.6875       17            209.225   0.556131     0.618344 |\n",
            "| train_func_74691_00000   TERMINATED   1.00821e-05             32   0.7625       20            246.39    0.540257     0.641729 |\n",
            "| train_func_74691_00001   TERMINATED   7.43104e-05             32   0.7          20            245.199   0.49289      0.588283 |\n",
            "| train_func_74691_00002   TERMINATED   5.87148e-05             64   0.7          20            245.474   0.513903     0.586188 |\n",
            "| train_func_74691_00003   TERMINATED   7.60115e-05             32   0.7375       20            247.778   0.525355     0.517206 |\n",
            "| train_func_74691_00004   TERMINATED   6.61608e-05             32   0.65         20            248.356   0.537545     0.585613 |\n",
            "+-------------------------------------------------------------------------------------------------------------------------------+\n"
          ]
        },
        {
          "output_type": "stream",
          "name": "stderr",
          "text": [
            "\u001b[36m(train_func pid=23118)\u001b[0m Checkpoint successfully created at: Checkpoint(filesystem=local, path=/content/drive/MyDrive/ray_results/tune_analyzing_results/train_func_74691_00005_5_batch_size=32,lr=0.0000_2024-05-06_13-48-56/checkpoint_000005)\n"
          ]
        },
        {
          "output_type": "stream",
          "name": "stdout",
          "text": [
            "Trial status: 5 TERMINATED | 1 RUNNING\n",
            "Current time: 2024-05-06 13:53:01. Total running time: 25min 2s\n",
            "Logical resource usage: 4.0/8 CPUs, 1.0/1 GPUs (1.0/1.0 accelerator_type:T4)\n",
            "Current best trial: 74691_00000 with mean_accuracy=0.7625 and params={'lr': 1.0082107151605334e-05, 'batch_size': 32, 'epochs': 20}\n",
            "+-------------------------------------------------------------------------------------------------------------------------------+\n",
            "| Trial name               status                lr     batch_size      acc     iter     total time (s)       loss     val_loss |\n",
            "+-------------------------------------------------------------------------------------------------------------------------------+\n",
            "| train_func_74691_00005   RUNNING      2.03388e-05             32   0.625        19            233.663   0.505988     0.505148 |\n",
            "| train_func_74691_00000   TERMINATED   1.00821e-05             32   0.7625       20            246.39    0.540257     0.641729 |\n",
            "| train_func_74691_00001   TERMINATED   7.43104e-05             32   0.7          20            245.199   0.49289      0.588283 |\n",
            "| train_func_74691_00002   TERMINATED   5.87148e-05             64   0.7          20            245.474   0.513903     0.586188 |\n",
            "| train_func_74691_00003   TERMINATED   7.60115e-05             32   0.7375       20            247.778   0.525355     0.517206 |\n",
            "| train_func_74691_00004   TERMINATED   6.61608e-05             32   0.65         20            248.356   0.537545     0.585613 |\n",
            "+-------------------------------------------------------------------------------------------------------------------------------+\n",
            "\n",
            "Trial train_func_74691_00005 completed after 20 iterations at 2024-05-06 13:53:06. Total running time: 25min 8s\n",
            "+-------------------------------------------------+\n",
            "| Trial train_func_74691_00005 result             |\n",
            "+-------------------------------------------------+\n",
            "| checkpoint_dir_name                             |\n",
            "| time_this_iter_s                         12.257 |\n",
            "| time_total_s                             245.92 |\n",
            "| training_iteration                           20 |\n",
            "| loss                                    0.54449 |\n",
            "| mean_accuracy                            0.7125 |\n",
            "| val_loss                                0.54057 |\n",
            "+-------------------------------------------------+\n",
            "\n",
            "Trial train_func_74691_00006 started with configuration:\n",
            "+-----------------------------------------------+\n",
            "| Trial train_func_74691_00006 config           |\n",
            "+-----------------------------------------------+\n",
            "| batch_size                                 16 |\n",
            "| epochs                                     20 |\n",
            "| lr                                      8e-05 |\n",
            "+-----------------------------------------------+\n"
          ]
        },
        {
          "output_type": "stream",
          "name": "stderr",
          "text": [
            "\u001b[36m(train_func pid=24705)\u001b[0m /usr/lib/python3.10/multiprocessing/popen_fork.py:66: RuntimeWarning: os.fork() was called. os.fork() is incompatible with multithreaded code, and JAX is multithreaded, so this will likely lead to a deadlock.\n",
            "\u001b[36m(train_func pid=24705)\u001b[0m   self.pid = os.fork()\n"
          ]
        },
        {
          "output_type": "stream",
          "name": "stdout",
          "text": [
            "\n",
            "Trial status: 6 TERMINATED | 1 RUNNING\n",
            "Current time: 2024-05-06 13:53:31. Total running time: 25min 32s\n",
            "Logical resource usage: 4.0/8 CPUs, 1.0/1 GPUs (1.0/1.0 accelerator_type:T4)\n",
            "Current best trial: 74691_00000 with mean_accuracy=0.7625 and params={'lr': 1.0082107151605334e-05, 'batch_size': 32, 'epochs': 20}\n",
            "+-------------------------------------------------------------------------------------------------------------------------------+\n",
            "| Trial name               status                lr     batch_size      acc     iter     total time (s)       loss     val_loss |\n",
            "+-------------------------------------------------------------------------------------------------------------------------------+\n",
            "| train_func_74691_00006   RUNNING      8.11878e-05             16   0.55          1            13.4089   2.14495      1.01465  |\n",
            "| train_func_74691_00000   TERMINATED   1.00821e-05             32   0.7625       20           246.39     0.540257     0.641729 |\n",
            "| train_func_74691_00001   TERMINATED   7.43104e-05             32   0.7          20           245.199    0.49289      0.588283 |\n",
            "| train_func_74691_00002   TERMINATED   5.87148e-05             64   0.7          20           245.474    0.513903     0.586188 |\n",
            "| train_func_74691_00003   TERMINATED   7.60115e-05             32   0.7375       20           247.778    0.525355     0.517206 |\n",
            "| train_func_74691_00004   TERMINATED   6.61608e-05             32   0.65         20           248.356    0.537545     0.585613 |\n",
            "| train_func_74691_00005   TERMINATED   2.03388e-05             32   0.7125       20           245.92     0.544485     0.540567 |\n",
            "+-------------------------------------------------------------------------------------------------------------------------------+\n"
          ]
        },
        {
          "output_type": "stream",
          "name": "stderr",
          "text": [
            "\u001b[36m(train_func pid=24705)\u001b[0m Checkpoint successfully created at: Checkpoint(filesystem=local, path=/content/drive/MyDrive/ray_results/tune_analyzing_results/train_func_74691_00006_6_batch_size=16,lr=0.0001_2024-05-06_13-53-06/checkpoint_000000)\n"
          ]
        },
        {
          "output_type": "stream",
          "name": "stdout",
          "text": [
            "Trial status: 6 TERMINATED | 1 RUNNING\n",
            "Current time: 2024-05-06 13:54:01. Total running time: 26min 2s\n",
            "Logical resource usage: 4.0/8 CPUs, 1.0/1 GPUs (1.0/1.0 accelerator_type:T4)\n",
            "Current best trial: 74691_00000 with mean_accuracy=0.7625 and params={'lr': 1.0082107151605334e-05, 'batch_size': 32, 'epochs': 20}\n",
            "+-------------------------------------------------------------------------------------------------------------------------------+\n",
            "| Trial name               status                lr     batch_size      acc     iter     total time (s)       loss     val_loss |\n",
            "+-------------------------------------------------------------------------------------------------------------------------------+\n",
            "| train_func_74691_00006   RUNNING      8.11878e-05             16   0.575         3            37.6989   0.775483     0.798029 |\n",
            "| train_func_74691_00000   TERMINATED   1.00821e-05             32   0.7625       20           246.39     0.540257     0.641729 |\n",
            "| train_func_74691_00001   TERMINATED   7.43104e-05             32   0.7          20           245.199    0.49289      0.588283 |\n",
            "| train_func_74691_00002   TERMINATED   5.87148e-05             64   0.7          20           245.474    0.513903     0.586188 |\n",
            "| train_func_74691_00003   TERMINATED   7.60115e-05             32   0.7375       20           247.778    0.525355     0.517206 |\n",
            "| train_func_74691_00004   TERMINATED   6.61608e-05             32   0.65         20           248.356    0.537545     0.585613 |\n",
            "| train_func_74691_00005   TERMINATED   2.03388e-05             32   0.7125       20           245.92     0.544485     0.540567 |\n",
            "+-------------------------------------------------------------------------------------------------------------------------------+\n"
          ]
        },
        {
          "output_type": "stream",
          "name": "stderr",
          "text": [
            "\u001b[36m(train_func pid=24705)\u001b[0m Checkpoint successfully created at: Checkpoint(filesystem=local, path=/content/drive/MyDrive/ray_results/tune_analyzing_results/train_func_74691_00006_6_batch_size=16,lr=0.0001_2024-05-06_13-53-06/checkpoint_000001)\n"
          ]
        },
        {
          "output_type": "stream",
          "name": "stdout",
          "text": [
            "Trial status: 6 TERMINATED | 1 RUNNING\n",
            "Current time: 2024-05-06 13:54:31. Total running time: 26min 33s\n",
            "Logical resource usage: 4.0/8 CPUs, 1.0/1 GPUs (1.0/1.0 accelerator_type:T4)\n",
            "Current best trial: 74691_00000 with mean_accuracy=0.7625 and params={'lr': 1.0082107151605334e-05, 'batch_size': 32, 'epochs': 20}\n",
            "+-------------------------------------------------------------------------------------------------------------------------------+\n",
            "| Trial name               status                lr     batch_size      acc     iter     total time (s)       loss     val_loss |\n",
            "+-------------------------------------------------------------------------------------------------------------------------------+\n",
            "| train_func_74691_00006   RUNNING      8.11878e-05             16   0.6375        6            74.1569   0.641875     0.660134 |\n",
            "| train_func_74691_00000   TERMINATED   1.00821e-05             32   0.7625       20           246.39     0.540257     0.641729 |\n",
            "| train_func_74691_00001   TERMINATED   7.43104e-05             32   0.7          20           245.199    0.49289      0.588283 |\n",
            "| train_func_74691_00002   TERMINATED   5.87148e-05             64   0.7          20           245.474    0.513903     0.586188 |\n",
            "| train_func_74691_00003   TERMINATED   7.60115e-05             32   0.7375       20           247.778    0.525355     0.517206 |\n",
            "| train_func_74691_00004   TERMINATED   6.61608e-05             32   0.65         20           248.356    0.537545     0.585613 |\n",
            "| train_func_74691_00005   TERMINATED   2.03388e-05             32   0.7125       20           245.92     0.544485     0.540567 |\n",
            "+-------------------------------------------------------------------------------------------------------------------------------+\n",
            "Trial status: 6 TERMINATED | 1 RUNNING\n",
            "Current time: 2024-05-06 13:55:01. Total running time: 27min 3s\n",
            "Logical resource usage: 4.0/8 CPUs, 1.0/1 GPUs (1.0/1.0 accelerator_type:T4)\n",
            "Current best trial: 74691_00000 with mean_accuracy=0.7625 and params={'lr': 1.0082107151605334e-05, 'batch_size': 32, 'epochs': 20}\n",
            "+-------------------------------------------------------------------------------------------------------------------------------+\n",
            "| Trial name               status                lr     batch_size      acc     iter     total time (s)       loss     val_loss |\n",
            "+-------------------------------------------------------------------------------------------------------------------------------+\n",
            "| train_func_74691_00006   RUNNING      8.11878e-05             16   0.6           8            98.8038   0.616912     0.679941 |\n",
            "| train_func_74691_00000   TERMINATED   1.00821e-05             32   0.7625       20           246.39     0.540257     0.641729 |\n",
            "| train_func_74691_00001   TERMINATED   7.43104e-05             32   0.7          20           245.199    0.49289      0.588283 |\n",
            "| train_func_74691_00002   TERMINATED   5.87148e-05             64   0.7          20           245.474    0.513903     0.586188 |\n",
            "| train_func_74691_00003   TERMINATED   7.60115e-05             32   0.7375       20           247.778    0.525355     0.517206 |\n",
            "| train_func_74691_00004   TERMINATED   6.61608e-05             32   0.65         20           248.356    0.537545     0.585613 |\n",
            "| train_func_74691_00005   TERMINATED   2.03388e-05             32   0.7125       20           245.92     0.544485     0.540567 |\n",
            "+-------------------------------------------------------------------------------------------------------------------------------+\n"
          ]
        },
        {
          "output_type": "stream",
          "name": "stderr",
          "text": [
            "\u001b[36m(train_func pid=24705)\u001b[0m Checkpoint successfully created at: Checkpoint(filesystem=local, path=/content/drive/MyDrive/ray_results/tune_analyzing_results/train_func_74691_00006_6_batch_size=16,lr=0.0001_2024-05-06_13-53-06/checkpoint_000002)\n"
          ]
        },
        {
          "output_type": "stream",
          "name": "stdout",
          "text": [
            "Trial status: 6 TERMINATED | 1 RUNNING\n",
            "Current time: 2024-05-06 13:55:31. Total running time: 27min 33s\n",
            "Logical resource usage: 4.0/8 CPUs, 1.0/1 GPUs (1.0/1.0 accelerator_type:T4)\n",
            "Current best trial: 74691_00000 with mean_accuracy=0.7625 and params={'lr': 1.0082107151605334e-05, 'batch_size': 32, 'epochs': 20}\n",
            "+-------------------------------------------------------------------------------------------------------------------------------+\n",
            "| Trial name               status                lr     batch_size      acc     iter     total time (s)       loss     val_loss |\n",
            "+-------------------------------------------------------------------------------------------------------------------------------+\n",
            "| train_func_74691_00006   RUNNING      8.11878e-05             16   0.7          11            135.777   0.594821     0.638135 |\n",
            "| train_func_74691_00000   TERMINATED   1.00821e-05             32   0.7625       20            246.39    0.540257     0.641729 |\n",
            "| train_func_74691_00001   TERMINATED   7.43104e-05             32   0.7          20            245.199   0.49289      0.588283 |\n",
            "| train_func_74691_00002   TERMINATED   5.87148e-05             64   0.7          20            245.474   0.513903     0.586188 |\n",
            "| train_func_74691_00003   TERMINATED   7.60115e-05             32   0.7375       20            247.778   0.525355     0.517206 |\n",
            "| train_func_74691_00004   TERMINATED   6.61608e-05             32   0.65         20            248.356   0.537545     0.585613 |\n",
            "| train_func_74691_00005   TERMINATED   2.03388e-05             32   0.7125       20            245.92    0.544485     0.540567 |\n",
            "+-------------------------------------------------------------------------------------------------------------------------------+\n"
          ]
        },
        {
          "output_type": "stream",
          "name": "stderr",
          "text": [
            "\u001b[36m(train_func pid=24705)\u001b[0m Checkpoint successfully created at: Checkpoint(filesystem=local, path=/content/drive/MyDrive/ray_results/tune_analyzing_results/train_func_74691_00006_6_batch_size=16,lr=0.0001_2024-05-06_13-53-06/checkpoint_000003)\n"
          ]
        },
        {
          "output_type": "stream",
          "name": "stdout",
          "text": [
            "Trial status: 6 TERMINATED | 1 RUNNING\n",
            "Current time: 2024-05-06 13:56:01. Total running time: 28min 3s\n",
            "Logical resource usage: 4.0/8 CPUs, 1.0/1 GPUs (1.0/1.0 accelerator_type:T4)\n",
            "Current best trial: 74691_00000 with mean_accuracy=0.7625 and params={'lr': 1.0082107151605334e-05, 'batch_size': 32, 'epochs': 20}\n",
            "+-------------------------------------------------------------------------------------------------------------------------------+\n",
            "| Trial name               status                lr     batch_size      acc     iter     total time (s)       loss     val_loss |\n",
            "+-------------------------------------------------------------------------------------------------------------------------------+\n",
            "| train_func_74691_00006   RUNNING      8.11878e-05             16   0.6875       13            160.859   0.578776     0.510431 |\n",
            "| train_func_74691_00000   TERMINATED   1.00821e-05             32   0.7625       20            246.39    0.540257     0.641729 |\n",
            "| train_func_74691_00001   TERMINATED   7.43104e-05             32   0.7          20            245.199   0.49289      0.588283 |\n",
            "| train_func_74691_00002   TERMINATED   5.87148e-05             64   0.7          20            245.474   0.513903     0.586188 |\n",
            "| train_func_74691_00003   TERMINATED   7.60115e-05             32   0.7375       20            247.778   0.525355     0.517206 |\n",
            "| train_func_74691_00004   TERMINATED   6.61608e-05             32   0.65         20            248.356   0.537545     0.585613 |\n",
            "| train_func_74691_00005   TERMINATED   2.03388e-05             32   0.7125       20            245.92    0.544485     0.540567 |\n",
            "+-------------------------------------------------------------------------------------------------------------------------------+\n"
          ]
        },
        {
          "output_type": "stream",
          "name": "stderr",
          "text": [
            "\u001b[36m(train_func pid=24705)\u001b[0m Checkpoint successfully created at: Checkpoint(filesystem=local, path=/content/drive/MyDrive/ray_results/tune_analyzing_results/train_func_74691_00006_6_batch_size=16,lr=0.0001_2024-05-06_13-53-06/checkpoint_000004)\n"
          ]
        },
        {
          "output_type": "stream",
          "name": "stdout",
          "text": [
            "Trial status: 6 TERMINATED | 1 RUNNING\n",
            "Current time: 2024-05-06 13:56:31. Total running time: 28min 33s\n",
            "Logical resource usage: 4.0/8 CPUs, 1.0/1 GPUs (1.0/1.0 accelerator_type:T4)\n",
            "Current best trial: 74691_00000 with mean_accuracy=0.7625 and params={'lr': 1.0082107151605334e-05, 'batch_size': 32, 'epochs': 20}\n",
            "+-------------------------------------------------------------------------------------------------------------------------------+\n",
            "| Trial name               status                lr     batch_size      acc     iter     total time (s)       loss     val_loss |\n",
            "+-------------------------------------------------------------------------------------------------------------------------------+\n",
            "| train_func_74691_00006   RUNNING      8.11878e-05             16   0.675        16            198.156   0.552823     0.528935 |\n",
            "| train_func_74691_00000   TERMINATED   1.00821e-05             32   0.7625       20            246.39    0.540257     0.641729 |\n",
            "| train_func_74691_00001   TERMINATED   7.43104e-05             32   0.7          20            245.199   0.49289      0.588283 |\n",
            "| train_func_74691_00002   TERMINATED   5.87148e-05             64   0.7          20            245.474   0.513903     0.586188 |\n",
            "| train_func_74691_00003   TERMINATED   7.60115e-05             32   0.7375       20            247.778   0.525355     0.517206 |\n",
            "| train_func_74691_00004   TERMINATED   6.61608e-05             32   0.65         20            248.356   0.537545     0.585613 |\n",
            "| train_func_74691_00005   TERMINATED   2.03388e-05             32   0.7125       20            245.92    0.544485     0.540567 |\n",
            "+-------------------------------------------------------------------------------------------------------------------------------+\n"
          ]
        },
        {
          "output_type": "stream",
          "name": "stderr",
          "text": [
            "\u001b[36m(train_func pid=24705)\u001b[0m Checkpoint successfully created at: Checkpoint(filesystem=local, path=/content/drive/MyDrive/ray_results/tune_analyzing_results/train_func_74691_00006_6_batch_size=16,lr=0.0001_2024-05-06_13-53-06/checkpoint_000005)\n"
          ]
        },
        {
          "output_type": "stream",
          "name": "stdout",
          "text": [
            "Trial status: 6 TERMINATED | 1 RUNNING\n",
            "Current time: 2024-05-06 13:57:02. Total running time: 29min 3s\n",
            "Logical resource usage: 4.0/8 CPUs, 1.0/1 GPUs (1.0/1.0 accelerator_type:T4)\n",
            "Current best trial: 74691_00000 with mean_accuracy=0.7625 and params={'lr': 1.0082107151605334e-05, 'batch_size': 32, 'epochs': 20}\n",
            "+-------------------------------------------------------------------------------------------------------------------------------+\n",
            "| Trial name               status                lr     batch_size      acc     iter     total time (s)       loss     val_loss |\n",
            "+-------------------------------------------------------------------------------------------------------------------------------+\n",
            "| train_func_74691_00006   RUNNING      8.11878e-05             16   0.725        18            222.993   0.513286     0.477152 |\n",
            "| train_func_74691_00000   TERMINATED   1.00821e-05             32   0.7625       20            246.39    0.540257     0.641729 |\n",
            "| train_func_74691_00001   TERMINATED   7.43104e-05             32   0.7          20            245.199   0.49289      0.588283 |\n",
            "| train_func_74691_00002   TERMINATED   5.87148e-05             64   0.7          20            245.474   0.513903     0.586188 |\n",
            "| train_func_74691_00003   TERMINATED   7.60115e-05             32   0.7375       20            247.778   0.525355     0.517206 |\n",
            "| train_func_74691_00004   TERMINATED   6.61608e-05             32   0.65         20            248.356   0.537545     0.585613 |\n",
            "| train_func_74691_00005   TERMINATED   2.03388e-05             32   0.7125       20            245.92    0.544485     0.540567 |\n",
            "+-------------------------------------------------------------------------------------------------------------------------------+\n",
            "\n",
            "Trial train_func_74691_00006 completed after 20 iterations at 2024-05-06 13:57:20. Total running time: 29min 21s\n",
            "+-------------------------------------------------+\n",
            "| Trial train_func_74691_00006 result             |\n",
            "+-------------------------------------------------+\n",
            "| checkpoint_dir_name                             |\n",
            "| time_this_iter_s                        12.6321 |\n",
            "| time_total_s                            248.025 |\n",
            "| training_iteration                           20 |\n",
            "| loss                                    0.54649 |\n",
            "| mean_accuracy                             0.675 |\n",
            "| val_loss                                0.49535 |\n",
            "+-------------------------------------------------+\n",
            "\n",
            "Trial train_func_74691_00007 started with configuration:\n",
            "+-----------------------------------------------+\n",
            "| Trial train_func_74691_00007 config           |\n",
            "+-----------------------------------------------+\n",
            "| batch_size                                 64 |\n",
            "| epochs                                     20 |\n",
            "| lr                                      7e-05 |\n",
            "+-----------------------------------------------+\n"
          ]
        },
        {
          "output_type": "stream",
          "name": "stderr",
          "text": [
            "\u001b[36m(train_func pid=26302)\u001b[0m /usr/lib/python3.10/multiprocessing/popen_fork.py:66: RuntimeWarning: os.fork() was called. os.fork() is incompatible with multithreaded code, and JAX is multithreaded, so this will likely lead to a deadlock.\n",
            "\u001b[36m(train_func pid=26302)\u001b[0m   self.pid = os.fork()\n"
          ]
        },
        {
          "output_type": "stream",
          "name": "stdout",
          "text": [
            "\n",
            "Trial status: 7 TERMINATED | 1 RUNNING\n",
            "Current time: 2024-05-06 13:57:32. Total running time: 29min 33s\n",
            "Logical resource usage: 4.0/8 CPUs, 1.0/1 GPUs (1.0/1.0 accelerator_type:T4)\n",
            "Current best trial: 74691_00000 with mean_accuracy=0.7625 and params={'lr': 1.0082107151605334e-05, 'batch_size': 32, 'epochs': 20}\n",
            "+-------------------------------------------------------------------------------------------------------------------------------+\n",
            "| Trial name               status                lr     batch_size      acc     iter     total time (s)       loss     val_loss |\n",
            "+-------------------------------------------------------------------------------------------------------------------------------+\n",
            "| train_func_74691_00007   RUNNING      6.53158e-05             64                                                              |\n",
            "| train_func_74691_00000   TERMINATED   1.00821e-05             32   0.7625       20            246.39    0.540257     0.641729 |\n",
            "| train_func_74691_00001   TERMINATED   7.43104e-05             32   0.7          20            245.199   0.49289      0.588283 |\n",
            "| train_func_74691_00002   TERMINATED   5.87148e-05             64   0.7          20            245.474   0.513903     0.586188 |\n",
            "| train_func_74691_00003   TERMINATED   7.60115e-05             32   0.7375       20            247.778   0.525355     0.517206 |\n",
            "| train_func_74691_00004   TERMINATED   6.61608e-05             32   0.65         20            248.356   0.537545     0.585613 |\n",
            "| train_func_74691_00005   TERMINATED   2.03388e-05             32   0.7125       20            245.92    0.544485     0.540567 |\n",
            "| train_func_74691_00006   TERMINATED   8.11878e-05             16   0.675        20            248.025   0.546492     0.495349 |\n",
            "+-------------------------------------------------------------------------------------------------------------------------------+\n",
            "Trial status: 7 TERMINATED | 1 RUNNING\n",
            "Current time: 2024-05-06 13:58:02. Total running time: 30min 3s\n",
            "Logical resource usage: 4.0/8 CPUs, 1.0/1 GPUs (1.0/1.0 accelerator_type:T4)\n",
            "Current best trial: 74691_00000 with mean_accuracy=0.7625 and params={'lr': 1.0082107151605334e-05, 'batch_size': 32, 'epochs': 20}\n",
            "+-------------------------------------------------------------------------------------------------------------------------------+\n",
            "| Trial name               status                lr     batch_size      acc     iter     total time (s)       loss     val_loss |\n",
            "+-------------------------------------------------------------------------------------------------------------------------------+\n",
            "| train_func_74691_00007   RUNNING      6.53158e-05             64   0.475         2            25.9394   1.06034      0.786343 |\n",
            "| train_func_74691_00000   TERMINATED   1.00821e-05             32   0.7625       20           246.39     0.540257     0.641729 |\n",
            "| train_func_74691_00001   TERMINATED   7.43104e-05             32   0.7          20           245.199    0.49289      0.588283 |\n",
            "| train_func_74691_00002   TERMINATED   5.87148e-05             64   0.7          20           245.474    0.513903     0.586188 |\n",
            "| train_func_74691_00003   TERMINATED   7.60115e-05             32   0.7375       20           247.778    0.525355     0.517206 |\n",
            "| train_func_74691_00004   TERMINATED   6.61608e-05             32   0.65         20           248.356    0.537545     0.585613 |\n",
            "| train_func_74691_00005   TERMINATED   2.03388e-05             32   0.7125       20           245.92     0.544485     0.540567 |\n",
            "| train_func_74691_00006   TERMINATED   8.11878e-05             16   0.675        20           248.025    0.546492     0.495349 |\n",
            "+-------------------------------------------------------------------------------------------------------------------------------+\n"
          ]
        },
        {
          "output_type": "stream",
          "name": "stderr",
          "text": [
            "\u001b[36m(train_func pid=26302)\u001b[0m Checkpoint successfully created at: Checkpoint(filesystem=local, path=/content/drive/MyDrive/ray_results/tune_analyzing_results/train_func_74691_00007_7_batch_size=64,lr=0.0001_2024-05-06_13-57-20/checkpoint_000000)\n"
          ]
        },
        {
          "output_type": "stream",
          "name": "stdout",
          "text": [
            "Trial status: 7 TERMINATED | 1 RUNNING\n",
            "Current time: 2024-05-06 13:58:32. Total running time: 30min 33s\n",
            "Logical resource usage: 4.0/8 CPUs, 1.0/1 GPUs (1.0/1.0 accelerator_type:T4)\n",
            "Current best trial: 74691_00000 with mean_accuracy=0.7625 and params={'lr': 1.0082107151605334e-05, 'batch_size': 32, 'epochs': 20}\n",
            "+-------------------------------------------------------------------------------------------------------------------------------+\n",
            "| Trial name               status                lr     batch_size      acc     iter     total time (s)       loss     val_loss |\n",
            "+-------------------------------------------------------------------------------------------------------------------------------+\n",
            "| train_func_74691_00007   RUNNING      6.53158e-05             64   0.55          5            62.8455   0.645782     0.691765 |\n",
            "| train_func_74691_00000   TERMINATED   1.00821e-05             32   0.7625       20           246.39     0.540257     0.641729 |\n",
            "| train_func_74691_00001   TERMINATED   7.43104e-05             32   0.7          20           245.199    0.49289      0.588283 |\n",
            "| train_func_74691_00002   TERMINATED   5.87148e-05             64   0.7          20           245.474    0.513903     0.586188 |\n",
            "| train_func_74691_00003   TERMINATED   7.60115e-05             32   0.7375       20           247.778    0.525355     0.517206 |\n",
            "| train_func_74691_00004   TERMINATED   6.61608e-05             32   0.65         20           248.356    0.537545     0.585613 |\n",
            "| train_func_74691_00005   TERMINATED   2.03388e-05             32   0.7125       20           245.92     0.544485     0.540567 |\n",
            "| train_func_74691_00006   TERMINATED   8.11878e-05             16   0.675        20           248.025    0.546492     0.495349 |\n",
            "+-------------------------------------------------------------------------------------------------------------------------------+\n"
          ]
        },
        {
          "output_type": "stream",
          "name": "stderr",
          "text": [
            "\u001b[36m(train_func pid=26302)\u001b[0m Checkpoint successfully created at: Checkpoint(filesystem=local, path=/content/drive/MyDrive/ray_results/tune_analyzing_results/train_func_74691_00007_7_batch_size=64,lr=0.0001_2024-05-06_13-57-20/checkpoint_000001)\n"
          ]
        },
        {
          "output_type": "stream",
          "name": "stdout",
          "text": [
            "Trial status: 7 TERMINATED | 1 RUNNING\n",
            "Current time: 2024-05-06 13:59:02. Total running time: 31min 3s\n",
            "Logical resource usage: 4.0/8 CPUs, 1.0/1 GPUs (1.0/1.0 accelerator_type:T4)\n",
            "Current best trial: 74691_00000 with mean_accuracy=0.7625 and params={'lr': 1.0082107151605334e-05, 'batch_size': 32, 'epochs': 20}\n",
            "+-------------------------------------------------------------------------------------------------------------------------------+\n",
            "| Trial name               status                lr     batch_size      acc     iter     total time (s)       loss     val_loss |\n",
            "+-------------------------------------------------------------------------------------------------------------------------------+\n",
            "| train_func_74691_00007   RUNNING      6.53158e-05             64   0.5875        7            87.7236   0.618031     0.683475 |\n",
            "| train_func_74691_00000   TERMINATED   1.00821e-05             32   0.7625       20           246.39     0.540257     0.641729 |\n",
            "| train_func_74691_00001   TERMINATED   7.43104e-05             32   0.7          20           245.199    0.49289      0.588283 |\n",
            "| train_func_74691_00002   TERMINATED   5.87148e-05             64   0.7          20           245.474    0.513903     0.586188 |\n",
            "| train_func_74691_00003   TERMINATED   7.60115e-05             32   0.7375       20           247.778    0.525355     0.517206 |\n",
            "| train_func_74691_00004   TERMINATED   6.61608e-05             32   0.65         20           248.356    0.537545     0.585613 |\n",
            "| train_func_74691_00005   TERMINATED   2.03388e-05             32   0.7125       20           245.92     0.544485     0.540567 |\n",
            "| train_func_74691_00006   TERMINATED   8.11878e-05             16   0.675        20           248.025    0.546492     0.495349 |\n",
            "+-------------------------------------------------------------------------------------------------------------------------------+\n"
          ]
        },
        {
          "output_type": "stream",
          "name": "stderr",
          "text": [
            "\u001b[36m(train_func pid=26302)\u001b[0m Checkpoint successfully created at: Checkpoint(filesystem=local, path=/content/drive/MyDrive/ray_results/tune_analyzing_results/train_func_74691_00007_7_batch_size=64,lr=0.0001_2024-05-06_13-57-20/checkpoint_000002)\n"
          ]
        },
        {
          "output_type": "stream",
          "name": "stdout",
          "text": [
            "Trial status: 7 TERMINATED | 1 RUNNING\n",
            "Current time: 2024-05-06 13:59:32. Total running time: 31min 33s\n",
            "Logical resource usage: 4.0/8 CPUs, 1.0/1 GPUs (1.0/1.0 accelerator_type:T4)\n",
            "Current best trial: 74691_00000 with mean_accuracy=0.7625 and params={'lr': 1.0082107151605334e-05, 'batch_size': 32, 'epochs': 20}\n",
            "+-------------------------------------------------------------------------------------------------------------------------------+\n",
            "| Trial name               status                lr     batch_size      acc     iter     total time (s)       loss     val_loss |\n",
            "+-------------------------------------------------------------------------------------------------------------------------------+\n",
            "| train_func_74691_00007   RUNNING      6.53158e-05             64   0.6125       10            124.612   0.587159     0.656678 |\n",
            "| train_func_74691_00000   TERMINATED   1.00821e-05             32   0.7625       20            246.39    0.540257     0.641729 |\n",
            "| train_func_74691_00001   TERMINATED   7.43104e-05             32   0.7          20            245.199   0.49289      0.588283 |\n",
            "| train_func_74691_00002   TERMINATED   5.87148e-05             64   0.7          20            245.474   0.513903     0.586188 |\n",
            "| train_func_74691_00003   TERMINATED   7.60115e-05             32   0.7375       20            247.778   0.525355     0.517206 |\n",
            "| train_func_74691_00004   TERMINATED   6.61608e-05             32   0.65         20            248.356   0.537545     0.585613 |\n",
            "| train_func_74691_00005   TERMINATED   2.03388e-05             32   0.7125       20            245.92    0.544485     0.540567 |\n",
            "| train_func_74691_00006   TERMINATED   8.11878e-05             16   0.675        20            248.025   0.546492     0.495349 |\n",
            "+-------------------------------------------------------------------------------------------------------------------------------+\n"
          ]
        },
        {
          "output_type": "stream",
          "name": "stderr",
          "text": [
            "\u001b[36m(train_func pid=26302)\u001b[0m Checkpoint successfully created at: Checkpoint(filesystem=local, path=/content/drive/MyDrive/ray_results/tune_analyzing_results/train_func_74691_00007_7_batch_size=64,lr=0.0001_2024-05-06_13-57-20/checkpoint_000003)\n"
          ]
        },
        {
          "output_type": "stream",
          "name": "stdout",
          "text": [
            "Trial status: 7 TERMINATED | 1 RUNNING\n",
            "Current time: 2024-05-06 14:00:02. Total running time: 32min 3s\n",
            "Logical resource usage: 4.0/8 CPUs, 1.0/1 GPUs (1.0/1.0 accelerator_type:T4)\n",
            "Current best trial: 74691_00000 with mean_accuracy=0.7625 and params={'lr': 1.0082107151605334e-05, 'batch_size': 32, 'epochs': 20}\n",
            "+-------------------------------------------------------------------------------------------------------------------------------+\n",
            "| Trial name               status                lr     batch_size      acc     iter     total time (s)       loss     val_loss |\n",
            "+-------------------------------------------------------------------------------------------------------------------------------+\n",
            "| train_func_74691_00007   RUNNING      6.53158e-05             64   0.65         12            149.229   0.576714     0.584979 |\n",
            "| train_func_74691_00000   TERMINATED   1.00821e-05             32   0.7625       20            246.39    0.540257     0.641729 |\n",
            "| train_func_74691_00001   TERMINATED   7.43104e-05             32   0.7          20            245.199   0.49289      0.588283 |\n",
            "| train_func_74691_00002   TERMINATED   5.87148e-05             64   0.7          20            245.474   0.513903     0.586188 |\n",
            "| train_func_74691_00003   TERMINATED   7.60115e-05             32   0.7375       20            247.778   0.525355     0.517206 |\n",
            "| train_func_74691_00004   TERMINATED   6.61608e-05             32   0.65         20            248.356   0.537545     0.585613 |\n",
            "| train_func_74691_00005   TERMINATED   2.03388e-05             32   0.7125       20            245.92    0.544485     0.540567 |\n",
            "| train_func_74691_00006   TERMINATED   8.11878e-05             16   0.675        20            248.025   0.546492     0.495349 |\n",
            "+-------------------------------------------------------------------------------------------------------------------------------+\n"
          ]
        },
        {
          "output_type": "stream",
          "name": "stderr",
          "text": [
            "\u001b[36m(train_func pid=26302)\u001b[0m Checkpoint successfully created at: Checkpoint(filesystem=local, path=/content/drive/MyDrive/ray_results/tune_analyzing_results/train_func_74691_00007_7_batch_size=64,lr=0.0001_2024-05-06_13-57-20/checkpoint_000004)\n"
          ]
        },
        {
          "output_type": "stream",
          "name": "stdout",
          "text": [
            "Trial status: 7 TERMINATED | 1 RUNNING\n",
            "Current time: 2024-05-06 14:00:32. Total running time: 32min 33s\n",
            "Logical resource usage: 4.0/8 CPUs, 1.0/1 GPUs (1.0/1.0 accelerator_type:T4)\n",
            "Current best trial: 74691_00007 with mean_accuracy=0.775 and params={'lr': 6.531575756954835e-05, 'batch_size': 64, 'epochs': 20}\n",
            "+-------------------------------------------------------------------------------------------------------------------------------+\n",
            "| Trial name               status                lr     batch_size      acc     iter     total time (s)       loss     val_loss |\n",
            "+-------------------------------------------------------------------------------------------------------------------------------+\n",
            "| train_func_74691_00007   RUNNING      6.53158e-05             64   0.775        15            186.481   0.566425     0.537768 |\n",
            "| train_func_74691_00000   TERMINATED   1.00821e-05             32   0.7625       20            246.39    0.540257     0.641729 |\n",
            "| train_func_74691_00001   TERMINATED   7.43104e-05             32   0.7          20            245.199   0.49289      0.588283 |\n",
            "| train_func_74691_00002   TERMINATED   5.87148e-05             64   0.7          20            245.474   0.513903     0.586188 |\n",
            "| train_func_74691_00003   TERMINATED   7.60115e-05             32   0.7375       20            247.778   0.525355     0.517206 |\n",
            "| train_func_74691_00004   TERMINATED   6.61608e-05             32   0.65         20            248.356   0.537545     0.585613 |\n",
            "| train_func_74691_00005   TERMINATED   2.03388e-05             32   0.7125       20            245.92    0.544485     0.540567 |\n",
            "| train_func_74691_00006   TERMINATED   8.11878e-05             16   0.675        20            248.025   0.546492     0.495349 |\n",
            "+-------------------------------------------------------------------------------------------------------------------------------+\n",
            "Trial status: 7 TERMINATED | 1 RUNNING\n",
            "Current time: 2024-05-06 14:01:02. Total running time: 33min 3s\n",
            "Logical resource usage: 4.0/8 CPUs, 1.0/1 GPUs (1.0/1.0 accelerator_type:T4)\n",
            "Current best trial: 74691_00000 with mean_accuracy=0.7625 and params={'lr': 1.0082107151605334e-05, 'batch_size': 32, 'epochs': 20}\n",
            "+-------------------------------------------------------------------------------------------------------------------------------+\n",
            "| Trial name               status                lr     batch_size      acc     iter     total time (s)       loss     val_loss |\n",
            "+-------------------------------------------------------------------------------------------------------------------------------+\n",
            "| train_func_74691_00007   RUNNING      6.53158e-05             64   0.65         17            211.198   0.514613     0.528472 |\n",
            "| train_func_74691_00000   TERMINATED   1.00821e-05             32   0.7625       20            246.39    0.540257     0.641729 |\n",
            "| train_func_74691_00001   TERMINATED   7.43104e-05             32   0.7          20            245.199   0.49289      0.588283 |\n",
            "| train_func_74691_00002   TERMINATED   5.87148e-05             64   0.7          20            245.474   0.513903     0.586188 |\n",
            "| train_func_74691_00003   TERMINATED   7.60115e-05             32   0.7375       20            247.778   0.525355     0.517206 |\n",
            "| train_func_74691_00004   TERMINATED   6.61608e-05             32   0.65         20            248.356   0.537545     0.585613 |\n",
            "| train_func_74691_00005   TERMINATED   2.03388e-05             32   0.7125       20            245.92    0.544485     0.540567 |\n",
            "| train_func_74691_00006   TERMINATED   8.11878e-05             16   0.675        20            248.025   0.546492     0.495349 |\n",
            "+-------------------------------------------------------------------------------------------------------------------------------+\n"
          ]
        },
        {
          "output_type": "stream",
          "name": "stderr",
          "text": [
            "\u001b[36m(train_func pid=26302)\u001b[0m Checkpoint successfully created at: Checkpoint(filesystem=local, path=/content/drive/MyDrive/ray_results/tune_analyzing_results/train_func_74691_00007_7_batch_size=64,lr=0.0001_2024-05-06_13-57-20/checkpoint_000005)\n"
          ]
        },
        {
          "output_type": "stream",
          "name": "stdout",
          "text": [
            "Trial status: 7 TERMINATED | 1 RUNNING\n",
            "Current time: 2024-05-06 14:01:32. Total running time: 33min 33s\n",
            "Logical resource usage: 4.0/8 CPUs, 1.0/1 GPUs (1.0/1.0 accelerator_type:T4)\n",
            "Current best trial: 74691_00007 with mean_accuracy=0.8125 and params={'lr': 6.531575756954835e-05, 'batch_size': 64, 'epochs': 20}\n",
            "+-------------------------------------------------------------------------------------------------------------------------------+\n",
            "| Trial name               status                lr     batch_size      acc     iter     total time (s)       loss     val_loss |\n",
            "+-------------------------------------------------------------------------------------------------------------------------------+\n",
            "| train_func_74691_00007   RUNNING      6.53158e-05             64   0.8125       19            236.043   0.519113     0.569293 |\n",
            "| train_func_74691_00000   TERMINATED   1.00821e-05             32   0.7625       20            246.39    0.540257     0.641729 |\n",
            "| train_func_74691_00001   TERMINATED   7.43104e-05             32   0.7          20            245.199   0.49289      0.588283 |\n",
            "| train_func_74691_00002   TERMINATED   5.87148e-05             64   0.7          20            245.474   0.513903     0.586188 |\n",
            "| train_func_74691_00003   TERMINATED   7.60115e-05             32   0.7375       20            247.778   0.525355     0.517206 |\n",
            "| train_func_74691_00004   TERMINATED   6.61608e-05             32   0.65         20            248.356   0.537545     0.585613 |\n",
            "| train_func_74691_00005   TERMINATED   2.03388e-05             32   0.7125       20            245.92    0.544485     0.540567 |\n",
            "| train_func_74691_00006   TERMINATED   8.11878e-05             16   0.675        20            248.025   0.546492     0.495349 |\n",
            "+-------------------------------------------------------------------------------------------------------------------------------+\n"
          ]
        },
        {
          "output_type": "stream",
          "name": "stderr",
          "text": [
            "2024-05-06 14:01:33,245\tWARNING experiment_state.py:205 -- Experiment state snapshotting has been triggered multiple times in the last 5.0 seconds. A snapshot is forced if `CheckpointConfig(num_to_keep)` is set, and a trial has checkpointed >= `num_to_keep` times since the last snapshot.\n",
            "You may want to consider increasing the `CheckpointConfig(num_to_keep)` or decreasing the frequency of saving checkpoints.\n",
            "You can suppress this error by setting the environment variable TUNE_WARN_EXCESSIVE_EXPERIMENT_CHECKPOINT_SYNC_THRESHOLD_S to a smaller value than the current threshold (5.0).\n"
          ]
        },
        {
          "output_type": "stream",
          "name": "stdout",
          "text": [
            "\n",
            "Trial train_func_74691_00007 completed after 20 iterations at 2024-05-06 14:01:33. Total running time: 33min 34s\n",
            "+-------------------------------------------------+\n",
            "| Trial train_func_74691_00007 result             |\n",
            "+-------------------------------------------------+\n",
            "| checkpoint_dir_name                             |\n",
            "| time_this_iter_s                        12.3231 |\n",
            "| time_total_s                            248.366 |\n",
            "| training_iteration                           20 |\n",
            "| loss                                    0.50425 |\n",
            "| mean_accuracy                             0.675 |\n",
            "| val_loss                                0.67223 |\n",
            "+-------------------------------------------------+\n"
          ]
        },
        {
          "output_type": "stream",
          "name": "stderr",
          "text": [
            "2024-05-06 14:01:33,466\tINFO tune.py:1007 -- Wrote the latest version of all result files and experiment state to '/content/drive/MyDrive/ray_results/tune_analyzing_results' in 0.2265s.\n"
          ]
        },
        {
          "output_type": "stream",
          "name": "stdout",
          "text": [
            "\n",
            "Trial status: 8 TERMINATED\n",
            "Current time: 2024-05-06 14:01:33. Total running time: 33min 34s\n",
            "Logical resource usage: 0/8 CPUs, 0/1 GPUs (0.0/1.0 accelerator_type:T4)\n",
            "Current best trial: 74691_00000 with mean_accuracy=0.7625 and params={'lr': 1.0082107151605334e-05, 'batch_size': 32, 'epochs': 20}\n",
            "+-------------------------------------------------------------------------------------------------------------------------------+\n",
            "| Trial name               status                lr     batch_size      acc     iter     total time (s)       loss     val_loss |\n",
            "+-------------------------------------------------------------------------------------------------------------------------------+\n",
            "| train_func_74691_00000   TERMINATED   1.00821e-05             32   0.7625       20            246.39    0.540257     0.641729 |\n",
            "| train_func_74691_00001   TERMINATED   7.43104e-05             32   0.7          20            245.199   0.49289      0.588283 |\n",
            "| train_func_74691_00002   TERMINATED   5.87148e-05             64   0.7          20            245.474   0.513903     0.586188 |\n",
            "| train_func_74691_00003   TERMINATED   7.60115e-05             32   0.7375       20            247.778   0.525355     0.517206 |\n",
            "| train_func_74691_00004   TERMINATED   6.61608e-05             32   0.65         20            248.356   0.537545     0.585613 |\n",
            "| train_func_74691_00005   TERMINATED   2.03388e-05             32   0.7125       20            245.92    0.544485     0.540567 |\n",
            "| train_func_74691_00006   TERMINATED   8.11878e-05             16   0.675        20            248.025   0.546492     0.495349 |\n",
            "| train_func_74691_00007   TERMINATED   6.53158e-05             64   0.675        20            248.366   0.504247     0.672231 |\n",
            "+-------------------------------------------------------------------------------------------------------------------------------+\n",
            "\n"
          ]
        }
      ],
      "source": [
        "storage_path = \"/content/drive/MyDrive/ray_results\"\n",
        "exp_name = \"tune_analyzing_results\"\n",
        "trainable_with_resources = tune.with_resources(train_func, {\"cpu\":4 , \"gpu\":1, \"accelerator_type:T4\":1})\n",
        "tuner = tune.Tuner(\n",
        "    trainable_with_resources,\n",
        "    param_space={\n",
        "        \"lr\": tune.loguniform(1e-4, 1e-5),\n",
        "        \"batch_size\": tune.choice([32, 64]),\n",
        "        \"epochs\": 30,\n",
        "        \"should_checkpoint\":True,\n",
        "\n",
        "    },\n",
        "    run_config=train.RunConfig(\n",
        "        name=exp_name,\n",
        "        stop={\"training_iteration\": 30},\n",
        "        checkpoint_config=train.CheckpointConfig(\n",
        "            checkpoint_score_attribute=\"mean_accuracy\",\n",
        "            num_to_keep=3\n",
        "        ),\n",
        "        storage_path=storage_path,\n",
        "    ),\n",
        "    tune_config=tune.TuneConfig(mode=\"max\", metric=\"mean_accuracy\", num_samples=8, max_concurrent_trials=1),\n",
        ")\n",
        "result_grid: ResultGrid = tuner.fit()\n"
      ]
    },
    {
      "cell_type": "code",
      "execution_count": 47,
      "metadata": {
        "colab": {
          "base_uri": "https://localhost:8080/"
        },
        "id": "tuoUltUixgZ-",
        "outputId": "e3c49da4-cee1-434d-8ac0-c9ef49bd6f26"
      },
      "outputs": [
        {
          "output_type": "stream",
          "name": "stdout",
          "text": [
            "Number of results: 8\n"
          ]
        }
      ],
      "source": [
        "num_results = len(result_grid)\n",
        "print(\"Number of results:\", num_results)"
      ]
    },
    {
      "cell_type": "code",
      "execution_count": 48,
      "metadata": {
        "colab": {
          "base_uri": "https://localhost:8080/"
        },
        "id": "yo75lKFKxiWM",
        "outputId": "fee0c06f-59b2-494e-c9df-a9418d7df68b"
      },
      "outputs": [
        {
          "output_type": "stream",
          "name": "stdout",
          "text": [
            "Trial #0 finished successfully with a mean accuracy metric of: 0.7625\n",
            "Trial #1 finished successfully with a mean accuracy metric of: 0.7\n",
            "Trial #2 finished successfully with a mean accuracy metric of: 0.7\n",
            "Trial #3 finished successfully with a mean accuracy metric of: 0.7375\n",
            "Trial #4 finished successfully with a mean accuracy metric of: 0.65\n",
            "Trial #5 finished successfully with a mean accuracy metric of: 0.7125\n",
            "Trial #6 finished successfully with a mean accuracy metric of: 0.675\n",
            "Trial #7 finished successfully with a mean accuracy metric of: 0.675\n"
          ]
        }
      ],
      "source": [
        "# Iterate over results\n",
        "for i, result in enumerate(result_grid):\n",
        "    if result.error:\n",
        "        print(f\"Trial #{i} had an error:\", result.error)\n",
        "        continue\n",
        "\n",
        "    print(\n",
        "        f\"Trial #{i} finished successfully with a mean accuracy metric of:\",\n",
        "        result.metrics[\"mean_accuracy\"]\n",
        "    )"
      ]
    },
    {
      "cell_type": "code",
      "execution_count": 49,
      "metadata": {
        "id": "DIORfQk3xkzA",
        "colab": {
          "base_uri": "https://localhost:8080/",
          "height": 300
        },
        "outputId": "58bde882-d45d-45b4-b1e0-5117c926d2f4"
      },
      "outputs": [
        {
          "output_type": "execute_result",
          "data": {
            "text/plain": [
              "   training_iteration  mean_accuracy\n",
              "0                  20         0.7625\n",
              "1                  20         0.7000\n",
              "2                  20         0.7000\n",
              "3                  20         0.7375\n",
              "4                  20         0.6500\n",
              "5                  20         0.7125\n",
              "6                  20         0.6750\n",
              "7                  20         0.6750"
            ],
            "text/html": [
              "\n",
              "  <div id=\"df-17abdf06-6e2a-49e3-8834-f216cc46fe89\" class=\"colab-df-container\">\n",
              "    <div>\n",
              "<style scoped>\n",
              "    .dataframe tbody tr th:only-of-type {\n",
              "        vertical-align: middle;\n",
              "    }\n",
              "\n",
              "    .dataframe tbody tr th {\n",
              "        vertical-align: top;\n",
              "    }\n",
              "\n",
              "    .dataframe thead th {\n",
              "        text-align: right;\n",
              "    }\n",
              "</style>\n",
              "<table border=\"1\" class=\"dataframe\">\n",
              "  <thead>\n",
              "    <tr style=\"text-align: right;\">\n",
              "      <th></th>\n",
              "      <th>training_iteration</th>\n",
              "      <th>mean_accuracy</th>\n",
              "    </tr>\n",
              "  </thead>\n",
              "  <tbody>\n",
              "    <tr>\n",
              "      <th>0</th>\n",
              "      <td>20</td>\n",
              "      <td>0.7625</td>\n",
              "    </tr>\n",
              "    <tr>\n",
              "      <th>1</th>\n",
              "      <td>20</td>\n",
              "      <td>0.7000</td>\n",
              "    </tr>\n",
              "    <tr>\n",
              "      <th>2</th>\n",
              "      <td>20</td>\n",
              "      <td>0.7000</td>\n",
              "    </tr>\n",
              "    <tr>\n",
              "      <th>3</th>\n",
              "      <td>20</td>\n",
              "      <td>0.7375</td>\n",
              "    </tr>\n",
              "    <tr>\n",
              "      <th>4</th>\n",
              "      <td>20</td>\n",
              "      <td>0.6500</td>\n",
              "    </tr>\n",
              "    <tr>\n",
              "      <th>5</th>\n",
              "      <td>20</td>\n",
              "      <td>0.7125</td>\n",
              "    </tr>\n",
              "    <tr>\n",
              "      <th>6</th>\n",
              "      <td>20</td>\n",
              "      <td>0.6750</td>\n",
              "    </tr>\n",
              "    <tr>\n",
              "      <th>7</th>\n",
              "      <td>20</td>\n",
              "      <td>0.6750</td>\n",
              "    </tr>\n",
              "  </tbody>\n",
              "</table>\n",
              "</div>\n",
              "    <div class=\"colab-df-buttons\">\n",
              "\n",
              "  <div class=\"colab-df-container\">\n",
              "    <button class=\"colab-df-convert\" onclick=\"convertToInteractive('df-17abdf06-6e2a-49e3-8834-f216cc46fe89')\"\n",
              "            title=\"Convert this dataframe to an interactive table.\"\n",
              "            style=\"display:none;\">\n",
              "\n",
              "  <svg xmlns=\"http://www.w3.org/2000/svg\" height=\"24px\" viewBox=\"0 -960 960 960\">\n",
              "    <path d=\"M120-120v-720h720v720H120Zm60-500h600v-160H180v160Zm220 220h160v-160H400v160Zm0 220h160v-160H400v160ZM180-400h160v-160H180v160Zm440 0h160v-160H620v160ZM180-180h160v-160H180v160Zm440 0h160v-160H620v160Z\"/>\n",
              "  </svg>\n",
              "    </button>\n",
              "\n",
              "  <style>\n",
              "    .colab-df-container {\n",
              "      display:flex;\n",
              "      gap: 12px;\n",
              "    }\n",
              "\n",
              "    .colab-df-convert {\n",
              "      background-color: #E8F0FE;\n",
              "      border: none;\n",
              "      border-radius: 50%;\n",
              "      cursor: pointer;\n",
              "      display: none;\n",
              "      fill: #1967D2;\n",
              "      height: 32px;\n",
              "      padding: 0 0 0 0;\n",
              "      width: 32px;\n",
              "    }\n",
              "\n",
              "    .colab-df-convert:hover {\n",
              "      background-color: #E2EBFA;\n",
              "      box-shadow: 0px 1px 2px rgba(60, 64, 67, 0.3), 0px 1px 3px 1px rgba(60, 64, 67, 0.15);\n",
              "      fill: #174EA6;\n",
              "    }\n",
              "\n",
              "    .colab-df-buttons div {\n",
              "      margin-bottom: 4px;\n",
              "    }\n",
              "\n",
              "    [theme=dark] .colab-df-convert {\n",
              "      background-color: #3B4455;\n",
              "      fill: #D2E3FC;\n",
              "    }\n",
              "\n",
              "    [theme=dark] .colab-df-convert:hover {\n",
              "      background-color: #434B5C;\n",
              "      box-shadow: 0px 1px 3px 1px rgba(0, 0, 0, 0.15);\n",
              "      filter: drop-shadow(0px 1px 2px rgba(0, 0, 0, 0.3));\n",
              "      fill: #FFFFFF;\n",
              "    }\n",
              "  </style>\n",
              "\n",
              "    <script>\n",
              "      const buttonEl =\n",
              "        document.querySelector('#df-17abdf06-6e2a-49e3-8834-f216cc46fe89 button.colab-df-convert');\n",
              "      buttonEl.style.display =\n",
              "        google.colab.kernel.accessAllowed ? 'block' : 'none';\n",
              "\n",
              "      async function convertToInteractive(key) {\n",
              "        const element = document.querySelector('#df-17abdf06-6e2a-49e3-8834-f216cc46fe89');\n",
              "        const dataTable =\n",
              "          await google.colab.kernel.invokeFunction('convertToInteractive',\n",
              "                                                    [key], {});\n",
              "        if (!dataTable) return;\n",
              "\n",
              "        const docLinkHtml = 'Like what you see? Visit the ' +\n",
              "          '<a target=\"_blank\" href=https://colab.research.google.com/notebooks/data_table.ipynb>data table notebook</a>'\n",
              "          + ' to learn more about interactive tables.';\n",
              "        element.innerHTML = '';\n",
              "        dataTable['output_type'] = 'display_data';\n",
              "        await google.colab.output.renderOutput(dataTable, element);\n",
              "        const docLink = document.createElement('div');\n",
              "        docLink.innerHTML = docLinkHtml;\n",
              "        element.appendChild(docLink);\n",
              "      }\n",
              "    </script>\n",
              "  </div>\n",
              "\n",
              "\n",
              "<div id=\"df-acb3f8c9-f897-4bce-92bb-14f97c2ecbe6\">\n",
              "  <button class=\"colab-df-quickchart\" onclick=\"quickchart('df-acb3f8c9-f897-4bce-92bb-14f97c2ecbe6')\"\n",
              "            title=\"Suggest charts\"\n",
              "            style=\"display:none;\">\n",
              "\n",
              "<svg xmlns=\"http://www.w3.org/2000/svg\" height=\"24px\"viewBox=\"0 0 24 24\"\n",
              "     width=\"24px\">\n",
              "    <g>\n",
              "        <path d=\"M19 3H5c-1.1 0-2 .9-2 2v14c0 1.1.9 2 2 2h14c1.1 0 2-.9 2-2V5c0-1.1-.9-2-2-2zM9 17H7v-7h2v7zm4 0h-2V7h2v10zm4 0h-2v-4h2v4z\"/>\n",
              "    </g>\n",
              "</svg>\n",
              "  </button>\n",
              "\n",
              "<style>\n",
              "  .colab-df-quickchart {\n",
              "      --bg-color: #E8F0FE;\n",
              "      --fill-color: #1967D2;\n",
              "      --hover-bg-color: #E2EBFA;\n",
              "      --hover-fill-color: #174EA6;\n",
              "      --disabled-fill-color: #AAA;\n",
              "      --disabled-bg-color: #DDD;\n",
              "  }\n",
              "\n",
              "  [theme=dark] .colab-df-quickchart {\n",
              "      --bg-color: #3B4455;\n",
              "      --fill-color: #D2E3FC;\n",
              "      --hover-bg-color: #434B5C;\n",
              "      --hover-fill-color: #FFFFFF;\n",
              "      --disabled-bg-color: #3B4455;\n",
              "      --disabled-fill-color: #666;\n",
              "  }\n",
              "\n",
              "  .colab-df-quickchart {\n",
              "    background-color: var(--bg-color);\n",
              "    border: none;\n",
              "    border-radius: 50%;\n",
              "    cursor: pointer;\n",
              "    display: none;\n",
              "    fill: var(--fill-color);\n",
              "    height: 32px;\n",
              "    padding: 0;\n",
              "    width: 32px;\n",
              "  }\n",
              "\n",
              "  .colab-df-quickchart:hover {\n",
              "    background-color: var(--hover-bg-color);\n",
              "    box-shadow: 0 1px 2px rgba(60, 64, 67, 0.3), 0 1px 3px 1px rgba(60, 64, 67, 0.15);\n",
              "    fill: var(--button-hover-fill-color);\n",
              "  }\n",
              "\n",
              "  .colab-df-quickchart-complete:disabled,\n",
              "  .colab-df-quickchart-complete:disabled:hover {\n",
              "    background-color: var(--disabled-bg-color);\n",
              "    fill: var(--disabled-fill-color);\n",
              "    box-shadow: none;\n",
              "  }\n",
              "\n",
              "  .colab-df-spinner {\n",
              "    border: 2px solid var(--fill-color);\n",
              "    border-color: transparent;\n",
              "    border-bottom-color: var(--fill-color);\n",
              "    animation:\n",
              "      spin 1s steps(1) infinite;\n",
              "  }\n",
              "\n",
              "  @keyframes spin {\n",
              "    0% {\n",
              "      border-color: transparent;\n",
              "      border-bottom-color: var(--fill-color);\n",
              "      border-left-color: var(--fill-color);\n",
              "    }\n",
              "    20% {\n",
              "      border-color: transparent;\n",
              "      border-left-color: var(--fill-color);\n",
              "      border-top-color: var(--fill-color);\n",
              "    }\n",
              "    30% {\n",
              "      border-color: transparent;\n",
              "      border-left-color: var(--fill-color);\n",
              "      border-top-color: var(--fill-color);\n",
              "      border-right-color: var(--fill-color);\n",
              "    }\n",
              "    40% {\n",
              "      border-color: transparent;\n",
              "      border-right-color: var(--fill-color);\n",
              "      border-top-color: var(--fill-color);\n",
              "    }\n",
              "    60% {\n",
              "      border-color: transparent;\n",
              "      border-right-color: var(--fill-color);\n",
              "    }\n",
              "    80% {\n",
              "      border-color: transparent;\n",
              "      border-right-color: var(--fill-color);\n",
              "      border-bottom-color: var(--fill-color);\n",
              "    }\n",
              "    90% {\n",
              "      border-color: transparent;\n",
              "      border-bottom-color: var(--fill-color);\n",
              "    }\n",
              "  }\n",
              "</style>\n",
              "\n",
              "  <script>\n",
              "    async function quickchart(key) {\n",
              "      const quickchartButtonEl =\n",
              "        document.querySelector('#' + key + ' button');\n",
              "      quickchartButtonEl.disabled = true;  // To prevent multiple clicks.\n",
              "      quickchartButtonEl.classList.add('colab-df-spinner');\n",
              "      try {\n",
              "        const charts = await google.colab.kernel.invokeFunction(\n",
              "            'suggestCharts', [key], {});\n",
              "      } catch (error) {\n",
              "        console.error('Error during call to suggestCharts:', error);\n",
              "      }\n",
              "      quickchartButtonEl.classList.remove('colab-df-spinner');\n",
              "      quickchartButtonEl.classList.add('colab-df-quickchart-complete');\n",
              "    }\n",
              "    (() => {\n",
              "      let quickchartButtonEl =\n",
              "        document.querySelector('#df-acb3f8c9-f897-4bce-92bb-14f97c2ecbe6 button');\n",
              "      quickchartButtonEl.style.display =\n",
              "        google.colab.kernel.accessAllowed ? 'block' : 'none';\n",
              "    })();\n",
              "  </script>\n",
              "</div>\n",
              "\n",
              "    </div>\n",
              "  </div>\n"
            ],
            "application/vnd.google.colaboratory.intrinsic+json": {
              "type": "dataframe",
              "summary": "{\n  \"name\": \"results_df[[\\\"training_iteration\\\", \\\"mean_accuracy\\\"]]\",\n  \"rows\": 8,\n  \"fields\": [\n    {\n      \"column\": \"training_iteration\",\n      \"properties\": {\n        \"dtype\": \"number\",\n        \"std\": 0,\n        \"min\": 20,\n        \"max\": 20,\n        \"num_unique_values\": 1,\n        \"samples\": [\n          20\n        ],\n        \"semantic_type\": \"\",\n        \"description\": \"\"\n      }\n    },\n    {\n      \"column\": \"mean_accuracy\",\n      \"properties\": {\n        \"dtype\": \"number\",\n        \"std\": 0.03625153937618175,\n        \"min\": 0.65,\n        \"max\": 0.7625,\n        \"num_unique_values\": 6,\n        \"samples\": [\n          0.7625\n        ],\n        \"semantic_type\": \"\",\n        \"description\": \"\"\n      }\n    }\n  ]\n}"
            }
          },
          "metadata": {},
          "execution_count": 49
        }
      ],
      "source": [
        "results_df = result_grid.get_dataframe()\n",
        "results_df[[\"training_iteration\", \"mean_accuracy\"]]"
      ]
    },
    {
      "cell_type": "code",
      "execution_count": 51,
      "metadata": {
        "id": "UQ2WdjuMxq1o"
      },
      "outputs": [],
      "source": [
        "# Get the result with the maximum test set `mean_accuracy`\n",
        "best_result: Result = result_grid.get_best_result()"
      ]
    },
    {
      "cell_type": "code",
      "execution_count": 52,
      "metadata": {
        "id": "Pi8gxacuxsdf",
        "colab": {
          "base_uri": "https://localhost:8080/"
        },
        "outputId": "cb03a76a-623b-4196-8ea3-4e294d4335df"
      },
      "outputs": [
        {
          "output_type": "execute_result",
          "data": {
            "text/plain": [
              "{'lr': 1.0082107151605334e-05, 'batch_size': 32, 'epochs': 20}"
            ]
          },
          "metadata": {},
          "execution_count": 52
        }
      ],
      "source": [
        "best_result.config"
      ]
    },
    {
      "cell_type": "code",
      "execution_count": 53,
      "metadata": {
        "id": "0utRu95ryCQn",
        "colab": {
          "base_uri": "https://localhost:8080/"
        },
        "outputId": "d19f3681-82a4-4e2b-d12f-01beb133d9a3"
      },
      "outputs": [
        {
          "output_type": "execute_result",
          "data": {
            "text/plain": [
              "{'loss': 0.540256667137146,\n",
              " 'val_loss': 0.6417292952537537,\n",
              " 'mean_accuracy': 0.7625,\n",
              " 'timestamp': 1715002329,\n",
              " 'checkpoint_dir_name': None,\n",
              " 'done': True,\n",
              " 'training_iteration': 20,\n",
              " 'trial_id': '74691_00000',\n",
              " 'date': '2024-05-06_13-32-09',\n",
              " 'time_this_iter_s': 12.243691682815552,\n",
              " 'time_total_s': 246.38994336128235,\n",
              " 'pid': 15174,\n",
              " 'hostname': '58b00f5f90d3',\n",
              " 'node_ip': '172.28.0.12',\n",
              " 'config': {'lr': 1.0082107151605334e-05, 'batch_size': 32, 'epochs': 20},\n",
              " 'time_since_restore': 246.38994336128235,\n",
              " 'iterations_since_restore': 20,\n",
              " 'experiment_tag': '0_batch_size=32,lr=0.0000'}"
            ]
          },
          "metadata": {},
          "execution_count": 53
        }
      ],
      "source": [
        "best_result.metrics"
      ]
    },
    {
      "cell_type": "code",
      "execution_count": 54,
      "metadata": {
        "id": "pQLL_DPNyHBn",
        "colab": {
          "base_uri": "https://localhost:8080/",
          "height": 676
        },
        "outputId": "22375a10-8406-402c-cb27-54348e326b7e"
      },
      "outputs": [
        {
          "output_type": "execute_result",
          "data": {
            "text/plain": [
              "    training_iteration  mean_accuracy  time_total_s\n",
              "0                    1         0.5125     13.162681\n",
              "1                    2         0.6250     25.451342\n",
              "2                    3         0.5125     37.772498\n",
              "3                    4         0.5875     49.995648\n",
              "4                    5         0.6625     62.165181\n",
              "5                    6         0.5750     74.276850\n",
              "6                    7         0.6625     86.365983\n",
              "7                    8         0.6500     98.484185\n",
              "8                    9         0.6000    110.755054\n",
              "9                   10         0.6500    123.024614\n",
              "10                  11         0.5750    135.401348\n",
              "11                  12         0.6250    147.846898\n",
              "12                  13         0.6750    160.270522\n",
              "13                  14         0.7000    172.488854\n",
              "14                  15         0.7000    184.848454\n",
              "15                  16         0.7000    197.110561\n",
              "16                  17         0.6750    209.612762\n",
              "17                  18         0.7000    221.862578\n",
              "18                  19         0.6875    234.146252\n",
              "19                  20         0.7625    246.389943"
            ],
            "text/html": [
              "\n",
              "  <div id=\"df-60a2e0f8-17db-4865-aaae-de5db7540d72\" class=\"colab-df-container\">\n",
              "    <div>\n",
              "<style scoped>\n",
              "    .dataframe tbody tr th:only-of-type {\n",
              "        vertical-align: middle;\n",
              "    }\n",
              "\n",
              "    .dataframe tbody tr th {\n",
              "        vertical-align: top;\n",
              "    }\n",
              "\n",
              "    .dataframe thead th {\n",
              "        text-align: right;\n",
              "    }\n",
              "</style>\n",
              "<table border=\"1\" class=\"dataframe\">\n",
              "  <thead>\n",
              "    <tr style=\"text-align: right;\">\n",
              "      <th></th>\n",
              "      <th>training_iteration</th>\n",
              "      <th>mean_accuracy</th>\n",
              "      <th>time_total_s</th>\n",
              "    </tr>\n",
              "  </thead>\n",
              "  <tbody>\n",
              "    <tr>\n",
              "      <th>0</th>\n",
              "      <td>1</td>\n",
              "      <td>0.5125</td>\n",
              "      <td>13.162681</td>\n",
              "    </tr>\n",
              "    <tr>\n",
              "      <th>1</th>\n",
              "      <td>2</td>\n",
              "      <td>0.6250</td>\n",
              "      <td>25.451342</td>\n",
              "    </tr>\n",
              "    <tr>\n",
              "      <th>2</th>\n",
              "      <td>3</td>\n",
              "      <td>0.5125</td>\n",
              "      <td>37.772498</td>\n",
              "    </tr>\n",
              "    <tr>\n",
              "      <th>3</th>\n",
              "      <td>4</td>\n",
              "      <td>0.5875</td>\n",
              "      <td>49.995648</td>\n",
              "    </tr>\n",
              "    <tr>\n",
              "      <th>4</th>\n",
              "      <td>5</td>\n",
              "      <td>0.6625</td>\n",
              "      <td>62.165181</td>\n",
              "    </tr>\n",
              "    <tr>\n",
              "      <th>5</th>\n",
              "      <td>6</td>\n",
              "      <td>0.5750</td>\n",
              "      <td>74.276850</td>\n",
              "    </tr>\n",
              "    <tr>\n",
              "      <th>6</th>\n",
              "      <td>7</td>\n",
              "      <td>0.6625</td>\n",
              "      <td>86.365983</td>\n",
              "    </tr>\n",
              "    <tr>\n",
              "      <th>7</th>\n",
              "      <td>8</td>\n",
              "      <td>0.6500</td>\n",
              "      <td>98.484185</td>\n",
              "    </tr>\n",
              "    <tr>\n",
              "      <th>8</th>\n",
              "      <td>9</td>\n",
              "      <td>0.6000</td>\n",
              "      <td>110.755054</td>\n",
              "    </tr>\n",
              "    <tr>\n",
              "      <th>9</th>\n",
              "      <td>10</td>\n",
              "      <td>0.6500</td>\n",
              "      <td>123.024614</td>\n",
              "    </tr>\n",
              "    <tr>\n",
              "      <th>10</th>\n",
              "      <td>11</td>\n",
              "      <td>0.5750</td>\n",
              "      <td>135.401348</td>\n",
              "    </tr>\n",
              "    <tr>\n",
              "      <th>11</th>\n",
              "      <td>12</td>\n",
              "      <td>0.6250</td>\n",
              "      <td>147.846898</td>\n",
              "    </tr>\n",
              "    <tr>\n",
              "      <th>12</th>\n",
              "      <td>13</td>\n",
              "      <td>0.6750</td>\n",
              "      <td>160.270522</td>\n",
              "    </tr>\n",
              "    <tr>\n",
              "      <th>13</th>\n",
              "      <td>14</td>\n",
              "      <td>0.7000</td>\n",
              "      <td>172.488854</td>\n",
              "    </tr>\n",
              "    <tr>\n",
              "      <th>14</th>\n",
              "      <td>15</td>\n",
              "      <td>0.7000</td>\n",
              "      <td>184.848454</td>\n",
              "    </tr>\n",
              "    <tr>\n",
              "      <th>15</th>\n",
              "      <td>16</td>\n",
              "      <td>0.7000</td>\n",
              "      <td>197.110561</td>\n",
              "    </tr>\n",
              "    <tr>\n",
              "      <th>16</th>\n",
              "      <td>17</td>\n",
              "      <td>0.6750</td>\n",
              "      <td>209.612762</td>\n",
              "    </tr>\n",
              "    <tr>\n",
              "      <th>17</th>\n",
              "      <td>18</td>\n",
              "      <td>0.7000</td>\n",
              "      <td>221.862578</td>\n",
              "    </tr>\n",
              "    <tr>\n",
              "      <th>18</th>\n",
              "      <td>19</td>\n",
              "      <td>0.6875</td>\n",
              "      <td>234.146252</td>\n",
              "    </tr>\n",
              "    <tr>\n",
              "      <th>19</th>\n",
              "      <td>20</td>\n",
              "      <td>0.7625</td>\n",
              "      <td>246.389943</td>\n",
              "    </tr>\n",
              "  </tbody>\n",
              "</table>\n",
              "</div>\n",
              "    <div class=\"colab-df-buttons\">\n",
              "\n",
              "  <div class=\"colab-df-container\">\n",
              "    <button class=\"colab-df-convert\" onclick=\"convertToInteractive('df-60a2e0f8-17db-4865-aaae-de5db7540d72')\"\n",
              "            title=\"Convert this dataframe to an interactive table.\"\n",
              "            style=\"display:none;\">\n",
              "\n",
              "  <svg xmlns=\"http://www.w3.org/2000/svg\" height=\"24px\" viewBox=\"0 -960 960 960\">\n",
              "    <path d=\"M120-120v-720h720v720H120Zm60-500h600v-160H180v160Zm220 220h160v-160H400v160Zm0 220h160v-160H400v160ZM180-400h160v-160H180v160Zm440 0h160v-160H620v160ZM180-180h160v-160H180v160Zm440 0h160v-160H620v160Z\"/>\n",
              "  </svg>\n",
              "    </button>\n",
              "\n",
              "  <style>\n",
              "    .colab-df-container {\n",
              "      display:flex;\n",
              "      gap: 12px;\n",
              "    }\n",
              "\n",
              "    .colab-df-convert {\n",
              "      background-color: #E8F0FE;\n",
              "      border: none;\n",
              "      border-radius: 50%;\n",
              "      cursor: pointer;\n",
              "      display: none;\n",
              "      fill: #1967D2;\n",
              "      height: 32px;\n",
              "      padding: 0 0 0 0;\n",
              "      width: 32px;\n",
              "    }\n",
              "\n",
              "    .colab-df-convert:hover {\n",
              "      background-color: #E2EBFA;\n",
              "      box-shadow: 0px 1px 2px rgba(60, 64, 67, 0.3), 0px 1px 3px 1px rgba(60, 64, 67, 0.15);\n",
              "      fill: #174EA6;\n",
              "    }\n",
              "\n",
              "    .colab-df-buttons div {\n",
              "      margin-bottom: 4px;\n",
              "    }\n",
              "\n",
              "    [theme=dark] .colab-df-convert {\n",
              "      background-color: #3B4455;\n",
              "      fill: #D2E3FC;\n",
              "    }\n",
              "\n",
              "    [theme=dark] .colab-df-convert:hover {\n",
              "      background-color: #434B5C;\n",
              "      box-shadow: 0px 1px 3px 1px rgba(0, 0, 0, 0.15);\n",
              "      filter: drop-shadow(0px 1px 2px rgba(0, 0, 0, 0.3));\n",
              "      fill: #FFFFFF;\n",
              "    }\n",
              "  </style>\n",
              "\n",
              "    <script>\n",
              "      const buttonEl =\n",
              "        document.querySelector('#df-60a2e0f8-17db-4865-aaae-de5db7540d72 button.colab-df-convert');\n",
              "      buttonEl.style.display =\n",
              "        google.colab.kernel.accessAllowed ? 'block' : 'none';\n",
              "\n",
              "      async function convertToInteractive(key) {\n",
              "        const element = document.querySelector('#df-60a2e0f8-17db-4865-aaae-de5db7540d72');\n",
              "        const dataTable =\n",
              "          await google.colab.kernel.invokeFunction('convertToInteractive',\n",
              "                                                    [key], {});\n",
              "        if (!dataTable) return;\n",
              "\n",
              "        const docLinkHtml = 'Like what you see? Visit the ' +\n",
              "          '<a target=\"_blank\" href=https://colab.research.google.com/notebooks/data_table.ipynb>data table notebook</a>'\n",
              "          + ' to learn more about interactive tables.';\n",
              "        element.innerHTML = '';\n",
              "        dataTable['output_type'] = 'display_data';\n",
              "        await google.colab.output.renderOutput(dataTable, element);\n",
              "        const docLink = document.createElement('div');\n",
              "        docLink.innerHTML = docLinkHtml;\n",
              "        element.appendChild(docLink);\n",
              "      }\n",
              "    </script>\n",
              "  </div>\n",
              "\n",
              "\n",
              "<div id=\"df-08b8785d-db9b-439c-8a38-d37498f79987\">\n",
              "  <button class=\"colab-df-quickchart\" onclick=\"quickchart('df-08b8785d-db9b-439c-8a38-d37498f79987')\"\n",
              "            title=\"Suggest charts\"\n",
              "            style=\"display:none;\">\n",
              "\n",
              "<svg xmlns=\"http://www.w3.org/2000/svg\" height=\"24px\"viewBox=\"0 0 24 24\"\n",
              "     width=\"24px\">\n",
              "    <g>\n",
              "        <path d=\"M19 3H5c-1.1 0-2 .9-2 2v14c0 1.1.9 2 2 2h14c1.1 0 2-.9 2-2V5c0-1.1-.9-2-2-2zM9 17H7v-7h2v7zm4 0h-2V7h2v10zm4 0h-2v-4h2v4z\"/>\n",
              "    </g>\n",
              "</svg>\n",
              "  </button>\n",
              "\n",
              "<style>\n",
              "  .colab-df-quickchart {\n",
              "      --bg-color: #E8F0FE;\n",
              "      --fill-color: #1967D2;\n",
              "      --hover-bg-color: #E2EBFA;\n",
              "      --hover-fill-color: #174EA6;\n",
              "      --disabled-fill-color: #AAA;\n",
              "      --disabled-bg-color: #DDD;\n",
              "  }\n",
              "\n",
              "  [theme=dark] .colab-df-quickchart {\n",
              "      --bg-color: #3B4455;\n",
              "      --fill-color: #D2E3FC;\n",
              "      --hover-bg-color: #434B5C;\n",
              "      --hover-fill-color: #FFFFFF;\n",
              "      --disabled-bg-color: #3B4455;\n",
              "      --disabled-fill-color: #666;\n",
              "  }\n",
              "\n",
              "  .colab-df-quickchart {\n",
              "    background-color: var(--bg-color);\n",
              "    border: none;\n",
              "    border-radius: 50%;\n",
              "    cursor: pointer;\n",
              "    display: none;\n",
              "    fill: var(--fill-color);\n",
              "    height: 32px;\n",
              "    padding: 0;\n",
              "    width: 32px;\n",
              "  }\n",
              "\n",
              "  .colab-df-quickchart:hover {\n",
              "    background-color: var(--hover-bg-color);\n",
              "    box-shadow: 0 1px 2px rgba(60, 64, 67, 0.3), 0 1px 3px 1px rgba(60, 64, 67, 0.15);\n",
              "    fill: var(--button-hover-fill-color);\n",
              "  }\n",
              "\n",
              "  .colab-df-quickchart-complete:disabled,\n",
              "  .colab-df-quickchart-complete:disabled:hover {\n",
              "    background-color: var(--disabled-bg-color);\n",
              "    fill: var(--disabled-fill-color);\n",
              "    box-shadow: none;\n",
              "  }\n",
              "\n",
              "  .colab-df-spinner {\n",
              "    border: 2px solid var(--fill-color);\n",
              "    border-color: transparent;\n",
              "    border-bottom-color: var(--fill-color);\n",
              "    animation:\n",
              "      spin 1s steps(1) infinite;\n",
              "  }\n",
              "\n",
              "  @keyframes spin {\n",
              "    0% {\n",
              "      border-color: transparent;\n",
              "      border-bottom-color: var(--fill-color);\n",
              "      border-left-color: var(--fill-color);\n",
              "    }\n",
              "    20% {\n",
              "      border-color: transparent;\n",
              "      border-left-color: var(--fill-color);\n",
              "      border-top-color: var(--fill-color);\n",
              "    }\n",
              "    30% {\n",
              "      border-color: transparent;\n",
              "      border-left-color: var(--fill-color);\n",
              "      border-top-color: var(--fill-color);\n",
              "      border-right-color: var(--fill-color);\n",
              "    }\n",
              "    40% {\n",
              "      border-color: transparent;\n",
              "      border-right-color: var(--fill-color);\n",
              "      border-top-color: var(--fill-color);\n",
              "    }\n",
              "    60% {\n",
              "      border-color: transparent;\n",
              "      border-right-color: var(--fill-color);\n",
              "    }\n",
              "    80% {\n",
              "      border-color: transparent;\n",
              "      border-right-color: var(--fill-color);\n",
              "      border-bottom-color: var(--fill-color);\n",
              "    }\n",
              "    90% {\n",
              "      border-color: transparent;\n",
              "      border-bottom-color: var(--fill-color);\n",
              "    }\n",
              "  }\n",
              "</style>\n",
              "\n",
              "  <script>\n",
              "    async function quickchart(key) {\n",
              "      const quickchartButtonEl =\n",
              "        document.querySelector('#' + key + ' button');\n",
              "      quickchartButtonEl.disabled = true;  // To prevent multiple clicks.\n",
              "      quickchartButtonEl.classList.add('colab-df-spinner');\n",
              "      try {\n",
              "        const charts = await google.colab.kernel.invokeFunction(\n",
              "            'suggestCharts', [key], {});\n",
              "      } catch (error) {\n",
              "        console.error('Error during call to suggestCharts:', error);\n",
              "      }\n",
              "      quickchartButtonEl.classList.remove('colab-df-spinner');\n",
              "      quickchartButtonEl.classList.add('colab-df-quickchart-complete');\n",
              "    }\n",
              "    (() => {\n",
              "      let quickchartButtonEl =\n",
              "        document.querySelector('#df-08b8785d-db9b-439c-8a38-d37498f79987 button');\n",
              "      quickchartButtonEl.style.display =\n",
              "        google.colab.kernel.accessAllowed ? 'block' : 'none';\n",
              "    })();\n",
              "  </script>\n",
              "</div>\n",
              "\n",
              "    </div>\n",
              "  </div>\n"
            ],
            "application/vnd.google.colaboratory.intrinsic+json": {
              "type": "dataframe",
              "summary": "{\n  \"name\": \"result_df[[\\\"training_iteration\\\", \\\"mean_accuracy\\\", \\\"time_total_s\\\"]]\",\n  \"rows\": 20,\n  \"fields\": [\n    {\n      \"column\": \"training_iteration\",\n      \"properties\": {\n        \"dtype\": \"number\",\n        \"std\": 5,\n        \"min\": 1,\n        \"max\": 20,\n        \"num_unique_values\": 20,\n        \"samples\": [\n          1,\n          18,\n          16\n        ],\n        \"semantic_type\": \"\",\n        \"description\": \"\"\n      }\n    },\n    {\n      \"column\": \"mean_accuracy\",\n      \"properties\": {\n        \"dtype\": \"number\",\n        \"std\": 0.06530230813201338,\n        \"min\": 0.5125,\n        \"max\": 0.7625,\n        \"num_unique_values\": 11,\n        \"samples\": [\n          0.65,\n          0.5125,\n          0.6875\n        ],\n        \"semantic_type\": \"\",\n        \"description\": \"\"\n      }\n    },\n    {\n      \"column\": \"time_total_s\",\n      \"properties\": {\n        \"dtype\": \"number\",\n        \"std\": 72.6413717288407,\n        \"min\": 13.162681341171265,\n        \"max\": 246.38994336128235,\n        \"num_unique_values\": 20,\n        \"samples\": [\n          13.162681341171265,\n          221.86257791519165,\n          197.1105613708496\n        ],\n        \"semantic_type\": \"\",\n        \"description\": \"\"\n      }\n    }\n  ]\n}"
            }
          },
          "metadata": {},
          "execution_count": 54
        }
      ],
      "source": [
        "result_df = best_result.metrics_dataframe\n",
        "result_df[[\"training_iteration\", \"mean_accuracy\", \"time_total_s\"]]"
      ]
    },
    {
      "cell_type": "code",
      "source": [
        "from ray.tune.examples.mnist_pytorch import get_data_loaders\n",
        "\n",
        "model = vit_model()\n",
        "\n",
        "with best_result.checkpoint.as_directory() as checkpoint_dir:\n",
        "    checkpoint_dict = torch.load(os.path.join(checkpoint_dir, \"checkpoint.pt\"))\n",
        "    model.load_state_dict(checkpoint_dict[\"model_state\"])"
      ],
      "metadata": {
        "colab": {
          "base_uri": "https://localhost:8080/",
          "height": 373
        },
        "id": "inN5Nx8tPM31",
        "outputId": "6490b2ec-46c5-4942-c0e3-65863806c8f3"
      },
      "execution_count": 57,
      "outputs": [
        {
          "output_type": "error",
          "ename": "FileNotFoundError",
          "evalue": "[Errno 2] No such file or directory: '/content/drive/MyDrive/ray_results/tune_analyzing_results/train_func_74691_00000_0_batch_size=32,lr=0.0000_2024-05-06_13-27-58/checkpoint_000005/checkpoint.pt'",
          "traceback": [
            "\u001b[0;31m---------------------------------------------------------------------------\u001b[0m",
            "\u001b[0;31mFileNotFoundError\u001b[0m                         Traceback (most recent call last)",
            "\u001b[0;32m<ipython-input-57-fff0e18d2ad5>\u001b[0m in \u001b[0;36m<cell line: 5>\u001b[0;34m()\u001b[0m\n\u001b[1;32m      4\u001b[0m \u001b[0;34m\u001b[0m\u001b[0m\n\u001b[1;32m      5\u001b[0m \u001b[0;32mwith\u001b[0m \u001b[0mbest_result\u001b[0m\u001b[0;34m.\u001b[0m\u001b[0mcheckpoint\u001b[0m\u001b[0;34m.\u001b[0m\u001b[0mas_directory\u001b[0m\u001b[0;34m(\u001b[0m\u001b[0;34m)\u001b[0m \u001b[0;32mas\u001b[0m \u001b[0mcheckpoint_dir\u001b[0m\u001b[0;34m:\u001b[0m\u001b[0;34m\u001b[0m\u001b[0;34m\u001b[0m\u001b[0m\n\u001b[0;32m----> 6\u001b[0;31m     \u001b[0mcheckpoint_dict\u001b[0m \u001b[0;34m=\u001b[0m \u001b[0mtorch\u001b[0m\u001b[0;34m.\u001b[0m\u001b[0mload\u001b[0m\u001b[0;34m(\u001b[0m\u001b[0mos\u001b[0m\u001b[0;34m.\u001b[0m\u001b[0mpath\u001b[0m\u001b[0;34m.\u001b[0m\u001b[0mjoin\u001b[0m\u001b[0;34m(\u001b[0m\u001b[0mcheckpoint_dir\u001b[0m\u001b[0;34m,\u001b[0m \u001b[0;34m\"checkpoint.pt\"\u001b[0m\u001b[0;34m)\u001b[0m\u001b[0;34m)\u001b[0m\u001b[0;34m\u001b[0m\u001b[0;34m\u001b[0m\u001b[0m\n\u001b[0m\u001b[1;32m      7\u001b[0m     \u001b[0mmodel\u001b[0m\u001b[0;34m.\u001b[0m\u001b[0mload_state_dict\u001b[0m\u001b[0;34m(\u001b[0m\u001b[0mcheckpoint_dict\u001b[0m\u001b[0;34m[\u001b[0m\u001b[0;34m\"model_state\"\u001b[0m\u001b[0;34m]\u001b[0m\u001b[0;34m)\u001b[0m\u001b[0;34m\u001b[0m\u001b[0;34m\u001b[0m\u001b[0m\n",
            "\u001b[0;32m/usr/local/lib/python3.10/dist-packages/torch/serialization.py\u001b[0m in \u001b[0;36mload\u001b[0;34m(f, map_location, pickle_module, weights_only, mmap, **pickle_load_args)\u001b[0m\n\u001b[1;32m    996\u001b[0m         \u001b[0mpickle_load_args\u001b[0m\u001b[0;34m[\u001b[0m\u001b[0;34m'encoding'\u001b[0m\u001b[0;34m]\u001b[0m \u001b[0;34m=\u001b[0m \u001b[0;34m'utf-8'\u001b[0m\u001b[0;34m\u001b[0m\u001b[0;34m\u001b[0m\u001b[0m\n\u001b[1;32m    997\u001b[0m \u001b[0;34m\u001b[0m\u001b[0m\n\u001b[0;32m--> 998\u001b[0;31m     \u001b[0;32mwith\u001b[0m \u001b[0m_open_file_like\u001b[0m\u001b[0;34m(\u001b[0m\u001b[0mf\u001b[0m\u001b[0;34m,\u001b[0m \u001b[0;34m'rb'\u001b[0m\u001b[0;34m)\u001b[0m \u001b[0;32mas\u001b[0m \u001b[0mopened_file\u001b[0m\u001b[0;34m:\u001b[0m\u001b[0;34m\u001b[0m\u001b[0;34m\u001b[0m\u001b[0m\n\u001b[0m\u001b[1;32m    999\u001b[0m         \u001b[0;32mif\u001b[0m \u001b[0m_is_zipfile\u001b[0m\u001b[0;34m(\u001b[0m\u001b[0mopened_file\u001b[0m\u001b[0;34m)\u001b[0m\u001b[0;34m:\u001b[0m\u001b[0;34m\u001b[0m\u001b[0;34m\u001b[0m\u001b[0m\n\u001b[1;32m   1000\u001b[0m             \u001b[0;31m# The zipfile reader is going to advance the current file position.\u001b[0m\u001b[0;34m\u001b[0m\u001b[0;34m\u001b[0m\u001b[0m\n",
            "\u001b[0;32m/usr/local/lib/python3.10/dist-packages/torch/serialization.py\u001b[0m in \u001b[0;36m_open_file_like\u001b[0;34m(name_or_buffer, mode)\u001b[0m\n\u001b[1;32m    443\u001b[0m \u001b[0;32mdef\u001b[0m \u001b[0m_open_file_like\u001b[0m\u001b[0;34m(\u001b[0m\u001b[0mname_or_buffer\u001b[0m\u001b[0;34m,\u001b[0m \u001b[0mmode\u001b[0m\u001b[0;34m)\u001b[0m\u001b[0;34m:\u001b[0m\u001b[0;34m\u001b[0m\u001b[0;34m\u001b[0m\u001b[0m\n\u001b[1;32m    444\u001b[0m     \u001b[0;32mif\u001b[0m \u001b[0m_is_path\u001b[0m\u001b[0;34m(\u001b[0m\u001b[0mname_or_buffer\u001b[0m\u001b[0;34m)\u001b[0m\u001b[0;34m:\u001b[0m\u001b[0;34m\u001b[0m\u001b[0;34m\u001b[0m\u001b[0m\n\u001b[0;32m--> 445\u001b[0;31m         \u001b[0;32mreturn\u001b[0m \u001b[0m_open_file\u001b[0m\u001b[0;34m(\u001b[0m\u001b[0mname_or_buffer\u001b[0m\u001b[0;34m,\u001b[0m \u001b[0mmode\u001b[0m\u001b[0;34m)\u001b[0m\u001b[0;34m\u001b[0m\u001b[0;34m\u001b[0m\u001b[0m\n\u001b[0m\u001b[1;32m    446\u001b[0m     \u001b[0;32melse\u001b[0m\u001b[0;34m:\u001b[0m\u001b[0;34m\u001b[0m\u001b[0;34m\u001b[0m\u001b[0m\n\u001b[1;32m    447\u001b[0m         \u001b[0;32mif\u001b[0m \u001b[0;34m'w'\u001b[0m \u001b[0;32min\u001b[0m \u001b[0mmode\u001b[0m\u001b[0;34m:\u001b[0m\u001b[0;34m\u001b[0m\u001b[0;34m\u001b[0m\u001b[0m\n",
            "\u001b[0;32m/usr/local/lib/python3.10/dist-packages/torch/serialization.py\u001b[0m in \u001b[0;36m__init__\u001b[0;34m(self, name, mode)\u001b[0m\n\u001b[1;32m    424\u001b[0m \u001b[0;32mclass\u001b[0m \u001b[0m_open_file\u001b[0m\u001b[0;34m(\u001b[0m\u001b[0m_opener\u001b[0m\u001b[0;34m)\u001b[0m\u001b[0;34m:\u001b[0m\u001b[0;34m\u001b[0m\u001b[0;34m\u001b[0m\u001b[0m\n\u001b[1;32m    425\u001b[0m     \u001b[0;32mdef\u001b[0m \u001b[0m__init__\u001b[0m\u001b[0;34m(\u001b[0m\u001b[0mself\u001b[0m\u001b[0;34m,\u001b[0m \u001b[0mname\u001b[0m\u001b[0;34m,\u001b[0m \u001b[0mmode\u001b[0m\u001b[0;34m)\u001b[0m\u001b[0;34m:\u001b[0m\u001b[0;34m\u001b[0m\u001b[0;34m\u001b[0m\u001b[0m\n\u001b[0;32m--> 426\u001b[0;31m         \u001b[0msuper\u001b[0m\u001b[0;34m(\u001b[0m\u001b[0;34m)\u001b[0m\u001b[0;34m.\u001b[0m\u001b[0m__init__\u001b[0m\u001b[0;34m(\u001b[0m\u001b[0mopen\u001b[0m\u001b[0;34m(\u001b[0m\u001b[0mname\u001b[0m\u001b[0;34m,\u001b[0m \u001b[0mmode\u001b[0m\u001b[0;34m)\u001b[0m\u001b[0;34m)\u001b[0m\u001b[0;34m\u001b[0m\u001b[0;34m\u001b[0m\u001b[0m\n\u001b[0m\u001b[1;32m    427\u001b[0m \u001b[0;34m\u001b[0m\u001b[0m\n\u001b[1;32m    428\u001b[0m     \u001b[0;32mdef\u001b[0m \u001b[0m__exit__\u001b[0m\u001b[0;34m(\u001b[0m\u001b[0mself\u001b[0m\u001b[0;34m,\u001b[0m \u001b[0;34m*\u001b[0m\u001b[0margs\u001b[0m\u001b[0;34m)\u001b[0m\u001b[0;34m:\u001b[0m\u001b[0;34m\u001b[0m\u001b[0;34m\u001b[0m\u001b[0m\n",
            "\u001b[0;31mFileNotFoundError\u001b[0m: [Errno 2] No such file or directory: '/content/drive/MyDrive/ray_results/tune_analyzing_results/train_func_74691_00000_0_batch_size=32,lr=0.0000_2024-05-06_13-27-58/checkpoint_000005/checkpoint.pt'"
          ]
        }
      ]
    },
    {
      "cell_type": "code",
      "source": [],
      "metadata": {
        "id": "uYkBeA_xPcU7"
      },
      "execution_count": null,
      "outputs": []
    }
  ],
  "metadata": {
    "accelerator": "GPU",
    "colab": {
      "gpuType": "T4",
      "machine_shape": "hm",
      "provenance": [],
      "mount_file_id": "1fuX4QfoIRTbp3tdgQbrr8ZCw-wSFGmnZ",
      "authorship_tag": "ABX9TyMOMqvFMUQ9Lnp+3UCQdaKg",
      "include_colab_link": true
    },
    "kernelspec": {
      "display_name": "Python 3",
      "name": "python3"
    },
    "language_info": {
      "name": "python"
    }
  },
  "nbformat": 4,
  "nbformat_minor": 0
}